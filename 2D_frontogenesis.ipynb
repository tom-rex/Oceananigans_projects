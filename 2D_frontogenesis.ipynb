{
 "cells": [
  {
   "cell_type": "code",
   "execution_count": 24,
   "id": "ad2da2f1",
   "metadata": {},
   "outputs": [],
   "source": [
    "using Oceananigans\n",
    "using Oceananigans.Units\n",
    "using Oceananigans.OutputReaders: FieldTimeSeries"
   ]
  },
  {
   "cell_type": "code",
   "execution_count": 25,
   "id": "c3b138a6",
   "metadata": {},
   "outputs": [
    {
     "data": {
      "text/plain": [
       "48×1×8 RectilinearGrid{Float64, Bounded, Flat, Bounded} on CPU with 3×0×3 halo\n",
       "├── Bounded  x ∈ [-500000.0, 500000.0] regularly spaced with Δx=20833.3\n",
       "├── Flat y                             \n",
       "└── Bounded  z ∈ [-1000.0, 0.0]        regularly spaced with Δz=125.0"
      ]
     },
     "metadata": {},
     "output_type": "display_data"
    }
   ],
   "source": [
    "Lx = 1000kilometers # north-south extent [m]\n",
    "Lz = 1kilometers    # depth [m]\n",
    "\n",
    "grid = RectilinearGrid(size = (48, 8),\n",
    "                       x = (-Lx/2, Lx/2),\n",
    "                       z = (-Lz, 0),\n",
    "                       topology = (Bounded, Flat, Bounded))\n",
    "\n",
    "                       "
   ]
  },
  {
   "cell_type": "code",
   "execution_count": 26,
   "id": "a21cec28",
   "metadata": {},
   "outputs": [
    {
     "data": {
      "text/plain": [
       "(u = ContinuousForcing{Nothing}\n",
       "├── func: u_deformation (generic function with 1 method)\n",
       "├── parameters: nothing\n",
       "└── field dependencies: (), w = ContinuousForcing{Nothing}\n",
       "├── func: w_deformation (generic function with 1 method)\n",
       "├── parameters: nothing\n",
       "└── field dependencies: ())"
      ]
     },
     "metadata": {},
     "output_type": "display_data"
    }
   ],
   "source": [
    "α = 0  # strain rate\n",
    "f = 1e-4  # Coriolis parameter [s⁻¹] at 45° latitude\n",
    "δ = α/f    # deformation ratio (non-dimensional)\n",
    "\n",
    "@inline u_deformation(x, z, t) = -α * x  # Convergent flow U = -αx\n",
    "@inline w_deformation(x, z, t) =  α * z  # Compensating vertical motion\n",
    "\n",
    "# Pack into NamedTuple for model forcing\n",
    "deformation_forcing = (u=Forcing(u_deformation),\n",
    "                       w=Forcing(w_deformation))"
   ]
  },
  {
   "cell_type": "code",
   "execution_count": 32,
   "id": "7849951e",
   "metadata": {},
   "outputs": [
    {
     "data": {
      "text/plain": [
       "NonhydrostaticModel{CPU, RectilinearGrid}(time = 0 seconds, iteration = 0)\n",
       "├── grid: 48×1×8 RectilinearGrid{Float64, Bounded, Flat, Bounded} on CPU with 3×0×3 halo\n",
       "├── timestepper: RungeKutta3TimeStepper\n",
       "├── advection scheme: WENO(order=5)\n",
       "├── tracers: b\n",
       "├── closure: Nothing\n",
       "├── buoyancy: BuoyancyTracer with ĝ = NegativeZDirection()\n",
       "└── coriolis: BetaPlane{Float64}(f₀=-0.000103126, β=1.61868e-11)"
      ]
     },
     "metadata": {},
     "output_type": "display_data"
    }
   ],
   "source": [
    "model = NonhydrostaticModel(; grid,\n",
    "                coriolis = BetaPlane(latitude = -45),\n",
    "                buoyancy = BuoyancyTracer(),\n",
    "                tracers = :b,\n",
    "                advection = WENO(),\n",
    "                forcing = deformation_forcing)\n"
   ]
  },
  {
   "cell_type": "code",
   "execution_count": null,
   "id": "25cc6e69",
   "metadata": {},
   "outputs": [
    {
     "data": {
      "text/plain": [
       "bᵢ (generic function with 1 method)"
      ]
     },
     "metadata": {},
     "output_type": "display_data"
    }
   ],
   "source": [
    "# Initial condition setup (similar to your code but adjusted for frontogenesis)\n",
    "N² = 1e-5  # [s⁻²] background stratification\n",
    "M² = 1e-7  # [s⁻²] horizontal buoyancy gradient (front strength)\n",
    "\n",
    "Δx = 100kilometers  # initial front width\n",
    "Δb = Δx * M²       # buoyancy jump across front\n",
    "ϵb = 1e-2 * Δb     # noise amplitude\n",
    "\n",
    "ramp(x, Δx) = min(max(0, x/Δx + 1/2), 1)\n",
    "bᵢ(x, z) = N² * z + Δb * ramp(x, Δx) + ϵb * randn()\n"
   ]
  },
  {
   "cell_type": "code",
   "execution_count": null,
   "id": "b684c2bb",
   "metadata": {},
   "outputs": [],
   "source": []
  }
 ],
 "metadata": {
  "kernelspec": {
   "display_name": "Julia 1.11.5",
   "language": "julia",
   "name": "julia-1.11"
  },
  "language_info": {
   "file_extension": ".jl",
   "mimetype": "application/julia",
   "name": "julia",
   "version": "1.11.5"
  }
 },
 "nbformat": 4,
 "nbformat_minor": 5
}
