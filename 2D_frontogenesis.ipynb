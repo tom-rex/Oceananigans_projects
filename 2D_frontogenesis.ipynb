{
 "cells": [
  {
   "cell_type": "markdown",
   "id": "19986a1d",
   "metadata": {},
   "source": [
    "### Import packages"
   ]
  },
  {
   "cell_type": "code",
   "execution_count": 60,
   "id": "15db6684",
   "metadata": {},
   "outputs": [],
   "source": [
    "using Oceananigans #use v.1.10\n",
    "using Oceananigans.Units\n",
    "using Oceananigans.OutputReaders: FieldTimeSeries\n",
    "using Oceananigans.BoundaryConditions\n",
    "using Oceananigans.TurbulenceClosures\n",
    "#using CairoMakie \n",
    "using NCDatasets"
   ]
  },
  {
   "cell_type": "markdown",
   "id": "20d9ef67",
   "metadata": {},
   "source": [
    "## Define Model Parameters"
   ]
  },
  {
   "cell_type": "code",
   "execution_count": 61,
   "id": "683fd408",
   "metadata": {},
   "outputs": [
    {
     "name": "stdout",
     "output_type": "stream",
     "text": [
      "Filename: multiple_waves4\n",
      "\n",
      "Derived parameters:\n",
      "H = 0.1 km\n",
      "α = 0.0 s⁻¹\n",
      "M² = 2.5e-7 s⁻²\n",
      "N² = 0.0 s⁻²\n",
      "Bu = 0.0\n",
      "κh = 5.0e-7\n",
      "κv = 0.0\n"
     ]
    }
   ],
   "source": [
    "# Model parameters\n",
    "Nx = 300\n",
    "Nz = 80\n",
    "f = 1e-4               # Coriolis frequency [s⁻¹]\n",
    "L_front = 10kilometers  # Initial front width [m]\n",
    "aspect_ratio = 100      # L/H\n",
    "δ = 0                   # Strain ratio (α/f)\n",
    "Ro = 1/2             # Rossby number (defines M^2)\n",
    "F = Inf              # Froude number (N² = M²/(F²H))\n",
    "Re_h = 1e10    # horizontal reynolds number\n",
    "Re_v = +Inf              #vertical reynolds number\n",
    "n = 2              #diffusivity number                 \n",
    "\n",
    "sponge_width = 8kilometers\n",
    "damping_rate = f\n",
    "\n",
    "# Derived parameters\n",
    "H_front = L_front/aspect_ratio\n",
    "α = f*δ\n",
    "M² = (Ro^2*f^2*L_front)/H_front\n",
    "N² = (M²*L_front)/(F^2*H_front)\n",
    "Bu = Ro/F\n",
    "Δb = M²*L_front\n",
    "κh = (sqrt(Δb*H_front)*L_front^(n-1))/Re_h\n",
    "κv = κh*(Re_h/Re_v)*(H_front/L_front)^n\n",
    "\n",
    "\n",
    "\n",
    "\n",
    "filename = \"ST13_δ=\"*string(δ)*\"_Ro=\"*string(Ro)*\"_F=\"*string(F)*\"_Re_h=\"*string(Re_h)\n",
    "filename = \"multiple_waves4\"\n",
    "\n",
    "println(\"Filename: \", filename)\n",
    "println(\"\\nDerived parameters:\")\n",
    "println(\"H = \", H_front/1000, \" km\")\n",
    "println(\"α = \", α, \" s⁻¹\")\n",
    "println(\"M² = \", M², \" s⁻²\")\n",
    "println(\"N² = \", N², \" s⁻²\")\n",
    "println(\"Bu = \", Bu)\n",
    "println(\"κh = \", κh)\n",
    "println(\"κv = \", κv)"
   ]
  },
  {
   "cell_type": "markdown",
   "id": "1a9ba48a",
   "metadata": {},
   "source": [
    "## Define Model Domain"
   ]
  },
  {
   "cell_type": "code",
   "execution_count": 62,
   "id": "c3b138a6",
   "metadata": {},
   "outputs": [
    {
     "data": {
      "text/plain": [
       "300×1×80 RectilinearGrid{Float64, Bounded, Flat, Bounded} on CPU with 3×0×3 halo\n",
       "├── Bounded  x ∈ [-320000.0, 320000.0] regularly spaced with Δx=2133.33\n",
       "├── Flat y                             \n",
       "└── Bounded  z ∈ [-100.0, 0.0]         regularly spaced with Δz=1.25"
      ]
     },
     "execution_count": 62,
     "metadata": {},
     "output_type": "execute_result"
    }
   ],
   "source": [
    "\n",
    "Lx = 64*L_front #40kilometers\n",
    "Lz = H_front\n",
    "\n",
    "grid = RectilinearGrid(size = (Nx, Nz), #in ST15 they use Nx = 200*L_front, Nz = 100*H_front\n",
    "                       x = (-Lx/2, Lx/2),\n",
    "                       z = (-Lz, 0),\n",
    "                       topology = (Bounded, Flat, Bounded))"
   ]
  },
  {
   "cell_type": "markdown",
   "id": "b1a708bf",
   "metadata": {},
   "source": [
    "## Forcing Terms"
   ]
  },
  {
   "cell_type": "code",
   "execution_count": 63,
   "id": "a3d42c1a",
   "metadata": {},
   "outputs": [
    {
     "data": {
      "text/plain": [
       "ContinuousForcing{Float64}\n",
       "├── func: b_forcing_func (generic function with 1 method)\n",
       "├── parameters: 0.0\n",
       "└── field dependencies: (:b,)"
      ]
     },
     "execution_count": 63,
     "metadata": {},
     "output_type": "execute_result"
    }
   ],
   "source": [
    "# advective forcing term \n",
    "u_background = XFaceField(grid)\n",
    "u_background = - α * xnodes(grid, Face(), Center(), Center())\n",
    "background_flow = AdvectiveForcing(u = u_background)\n",
    "\n",
    "# no addtional u forcing\n",
    "\n",
    "\n",
    "\n",
    "\n",
    "\n",
    "# v forcing\n",
    "v_forcing_func(x, z, t, v, α) = - 2*α*v\n",
    "v_forcing = Forcing(v_forcing_func, parameters = α, field_dependencies = :v )\n",
    "\n",
    "# w forcing\n",
    "w_forcing_func(x, z, t, w, α) = - α*w\n",
    "w_forcing = Forcing(w_forcing_func, parameters = α, field_dependencies = :w )\n",
    "\n",
    "# b forcing\n",
    "b_forcing_func(x, z, t, α, b ) = - α*b\n",
    "b_forcing = Forcing(b_forcing_func, parameters = α, field_dependencies= :b )\n",
    "\n"
   ]
  },
  {
   "cell_type": "markdown",
   "id": "c362427e",
   "metadata": {},
   "source": [
    "## Sponge Layer"
   ]
  },
  {
   "cell_type": "code",
   "execution_count": 64,
   "id": "2c98a7b3",
   "metadata": {},
   "outputs": [
    {
     "data": {
      "text/plain": [
       "Relaxation{Float64, typeof(right_mask), typeof(target_buoyancy_right)}\n",
       "├── rate: 0.0001\n",
       "├── mask: right_mask (generic function with 1 method)\n",
       "└── target: target_buoyancy_right (generic function with 1 method)"
      ]
     },
     "execution_count": 64,
     "metadata": {},
     "output_type": "execute_result"
    }
   ],
   "source": [
    "Δb = L_front * M²\n",
    "\n",
    "target_buoyancy_left(x,z,t) = z*N²\n",
    "target_buoyancy_right(x,z,t) = z*N² + Δb\n",
    "    \n",
    "\n",
    "\n",
    "\n",
    "\n",
    "left_mask_3D   = GaussianMask{:x}(center=-grid.Lx/2, width = sponge_width)\n",
    "left_mask(x,z) = left_mask_3D(x,0,z)\n",
    "uvw_sponge_left = Relaxation(rate=damping_rate, mask=left_mask)\n",
    "b_sponge_left = Relaxation(rate=damping_rate, mask=left_mask, target = target_buoyancy_left) \n",
    "\n",
    "right_mask_3D  = GaussianMask{:x}(center=grid.Lx/2,width = sponge_width)\n",
    "right_mask(x,z) = right_mask_3D(x,0,z)\n",
    "uvw_sponge_right = Relaxation(rate=damping_rate, mask=right_mask)\n",
    "b_sponge_right = Relaxation(rate=damping_rate, mask=right_mask, target = target_buoyancy_right ) \n",
    "\n"
   ]
  },
  {
   "cell_type": "markdown",
   "id": "57a7e0d1",
   "metadata": {},
   "source": [
    "## Boundary conditions"
   ]
  },
  {
   "cell_type": "code",
   "execution_count": 65,
   "id": "1ac74531",
   "metadata": {},
   "outputs": [
    {
     "data": {
      "text/plain": [
       "(u = Oceananigans.FieldBoundaryConditions, with boundary conditions\n",
       "├── west: DefaultBoundaryCondition (FluxBoundaryCondition: Nothing)\n",
       "├── east: DefaultBoundaryCondition (FluxBoundaryCondition: Nothing)\n",
       "├── south: DefaultBoundaryCondition (FluxBoundaryCondition: Nothing)\n",
       "├── north: DefaultBoundaryCondition (FluxBoundaryCondition: Nothing)\n",
       "├── bottom: GradientBoundaryCondition: 0.0\n",
       "├── top: GradientBoundaryCondition: 0.0\n",
       "└── immersed: DefaultBoundaryCondition (FluxBoundaryCondition: Nothing), v = Oceananigans.FieldBoundaryConditions, with boundary conditions\n",
       "├── west: DefaultBoundaryCondition (FluxBoundaryCondition: Nothing)\n",
       "├── east: DefaultBoundaryCondition (FluxBoundaryCondition: Nothing)\n",
       "├── south: DefaultBoundaryCondition (FluxBoundaryCondition: Nothing)\n",
       "├── north: DefaultBoundaryCondition (FluxBoundaryCondition: Nothing)\n",
       "├── bottom: GradientBoundaryCondition: 0.0\n",
       "├── top: GradientBoundaryCondition: 0.0\n",
       "└── immersed: DefaultBoundaryCondition (FluxBoundaryCondition: Nothing), w = Oceananigans.FieldBoundaryConditions, with boundary conditions\n",
       "├── west: DefaultBoundaryCondition (FluxBoundaryCondition: Nothing)\n",
       "├── east: DefaultBoundaryCondition (FluxBoundaryCondition: Nothing)\n",
       "├── south: DefaultBoundaryCondition (FluxBoundaryCondition: Nothing)\n",
       "├── north: DefaultBoundaryCondition (FluxBoundaryCondition: Nothing)\n",
       "├── bottom: ValueBoundaryCondition: 0.0\n",
       "├── top: ValueBoundaryCondition: 0.0\n",
       "└── immersed: DefaultBoundaryCondition (FluxBoundaryCondition: Nothing))"
      ]
     },
     "execution_count": 65,
     "metadata": {},
     "output_type": "execute_result"
    }
   ],
   "source": [
    "\n",
    "using Oceananigans.BoundaryConditions\n",
    "\n",
    "# Free-slip for u and v (∂u/∂z = ∂v/∂z = 0)\n",
    "free_slip = FieldBoundaryConditions(\n",
    "    top = GradientBoundaryCondition(0.0),\n",
    "    bottom = GradientBoundaryCondition(0.0)\n",
    ")\n",
    "\n",
    "# No vertical flow (w = 0 at top/bottom)\n",
    "no_penetration = FieldBoundaryConditions(\n",
    "    top = ValueBoundaryCondition(0.0),\n",
    "    bottom = ValueBoundaryCondition(0.0)\n",
    ")\n",
    "\n",
    "velocity_bcs = (\n",
    "    u = free_slip,\n",
    "    v = free_slip,\n",
    "    w = no_penetration\n",
    ")\n",
    "\n"
   ]
  },
  {
   "cell_type": "markdown",
   "id": "40ce9d7c",
   "metadata": {},
   "source": [
    "## Buoyancy background conditions"
   ]
  },
  {
   "cell_type": "code",
   "execution_count": 66,
   "id": "16bad9ff",
   "metadata": {},
   "outputs": [
    {
     "data": {
      "text/plain": [
       "Oceananigans.FieldBoundaryConditions, with boundary conditions\n",
       "├── west: DefaultBoundaryCondition (FluxBoundaryCondition: Nothing)\n",
       "├── east: DefaultBoundaryCondition (FluxBoundaryCondition: Nothing)\n",
       "├── south: DefaultBoundaryCondition (FluxBoundaryCondition: Nothing)\n",
       "├── north: DefaultBoundaryCondition (FluxBoundaryCondition: Nothing)\n",
       "├── bottom: GradientBoundaryCondition: 0.0\n",
       "├── top: GradientBoundaryCondition: 0.0\n",
       "└── immersed: DefaultBoundaryCondition (FluxBoundaryCondition: Nothing)"
      ]
     },
     "execution_count": 66,
     "metadata": {},
     "output_type": "execute_result"
    }
   ],
   "source": [
    "\n",
    "∂b∂z_top = N²\n",
    "∂b∂z_bottom = N²\n",
    "\n",
    "buoyancy_bcs = FieldBoundaryConditions(\n",
    "    top = GradientBoundaryCondition(∂b∂z_top),\n",
    "    bottom = GradientBoundaryCondition(∂b∂z_bottom)\n",
    ")\n",
    "    "
   ]
  },
  {
   "cell_type": "markdown",
   "id": "bff7470a",
   "metadata": {},
   "source": [
    "## Closure"
   ]
  },
  {
   "cell_type": "code",
   "execution_count": 67,
   "id": "b636fde9",
   "metadata": {},
   "outputs": [
    {
     "data": {
      "text/plain": [
       "(HorizontalScalarDiffusivity{ExplicitTimeDiscretization}(ν=5.0e-7, κ=5.0e-7), VerticalScalarDiffusivity{ExplicitTimeDiscretization}(ν=0.0, κ=0.0))"
      ]
     },
     "execution_count": 67,
     "metadata": {},
     "output_type": "execute_result"
    }
   ],
   "source": [
    "horizontal_closure = HorizontalScalarDiffusivity(ν=κh, κ=κh )\n",
    "vertical_closure = VerticalScalarDiffusivity(ν=κv , κ=κv )\n",
    "closure = (horizontal_closure, vertical_closure)"
   ]
  },
  {
   "cell_type": "markdown",
   "id": "678891d4",
   "metadata": {},
   "source": [
    "## Defining The Model"
   ]
  },
  {
   "cell_type": "code",
   "execution_count": 68,
   "id": "6124d068",
   "metadata": {},
   "outputs": [
    {
     "data": {
      "text/plain": [
       "NonhydrostaticModel{CPU, RectilinearGrid}(time = 0 seconds, iteration = 0)\n",
       "├── grid: 300×1×80 RectilinearGrid{Float64, Bounded, Flat, Bounded} on CPU with 3×0×3 halo\n",
       "├── timestepper: RungeKutta3TimeStepper\n",
       "├── advection scheme: WENO{3, Float64, Float32}(order=5)\n",
       "├── tracers: b\n",
       "├── closure: Nothing\n",
       "├── buoyancy: BuoyancyTracer with ĝ = NegativeZDirection()\n",
       "└── coriolis: FPlane{Float64}(f=0.0001)"
      ]
     },
     "execution_count": 68,
     "metadata": {},
     "output_type": "execute_result"
    }
   ],
   "source": [
    "#with sponge\n",
    "\n",
    "#=\n",
    "model = NonhydrostaticModel(; grid,\n",
    "                coriolis = FPlane(f = f),\n",
    "                buoyancy = BuoyancyTracer(),\n",
    "                tracers = :b,\n",
    "                advection = WENO(),\n",
    "                forcing = (; u = (background_flow, uvw_sponge_left, uvw_sponge_right),\n",
    "                             v = (background_flow , v_forcing, uvw_sponge_left, uvw_sponge_right) , \n",
    "                             w = (background_flow , w_forcing, uvw_sponge_left, uvw_sponge_right),\n",
    "                             b = (background_flow, b_forcing, b_sponge_left, b_sponge_right)),\n",
    "                boundary_conditions = (; b=buoyancy_bcs, velocity_bcs),\n",
    "                closure = closure\n",
    "\n",
    "                )\n",
    "=#\n",
    "\n",
    "#without sponge \n",
    "\n",
    "model = NonhydrostaticModel(; grid,\n",
    "                coriolis = FPlane(f = f),\n",
    "                buoyancy = BuoyancyTracer(),\n",
    "                tracers = :b,\n",
    "                advection = WENO(),\n",
    "                forcing = (; u = (background_flow),\n",
    "                             v = (background_flow , v_forcing) , \n",
    "                             w = (background_flow , w_forcing),\n",
    "                             b = (background_flow, b_forcing))\n",
    "                #boundary_conditions = (; b=buoyancy_bcs, velocity_bcs)\n",
    "                )\n",
    "\n",
    "\n",
    "\n"
   ]
  },
  {
   "cell_type": "markdown",
   "id": "28524149",
   "metadata": {},
   "source": [
    "## Initial Conditions"
   ]
  },
  {
   "cell_type": "code",
   "execution_count": 69,
   "id": "25cc6e69",
   "metadata": {},
   "outputs": [],
   "source": [
    "#inital setup\n",
    "\n",
    "Δb = L_front * M²  # buoyancy jump across front  \n",
    "\n",
    "#bᵢ(x, z) = N² * z + Δb * 1/2* (tanh(x/L_front) + 1) #for ST13 setup\n",
    "\n",
    "#thermal_wind_balance(x,z) = (1/2 * N² * z^2 + Δb * 1/2* z * (tanh(x/L_front) + 1))/f\n",
    "\n",
    "bᵢ(x, z) = N² * z + Δb * 1/2* (sin(x/L_front) + 1)  #for B00 setup\n",
    "\n",
    "\n",
    "set!(model, b= bᵢ, u = 0, v = 0, w = 0)  # Start from rest\n"
   ]
  },
  {
   "cell_type": "markdown",
   "id": "02f80eaf",
   "metadata": {},
   "source": [
    "## Define Simulation"
   ]
  },
  {
   "cell_type": "code",
   "execution_count": 70,
   "id": "b684c2bb",
   "metadata": {},
   "outputs": [
    {
     "data": {
      "text/plain": [
       "Simulation of NonhydrostaticModel{CPU, RectilinearGrid}(time = 0 seconds, iteration = 0)\n",
       "├── Next time step: 20 minutes\n",
       "├── Elapsed wall time: 0 seconds\n",
       "├── Wall time per iteration: NaN days\n",
       "├── Stop time: 30 days\n",
       "├── Stop iteration: Inf\n",
       "├── Wall time limit: Inf\n",
       "├── Minimum relative step: 0.0\n",
       "├── Callbacks: OrderedDict with 4 entries:\n",
       "│   ├── stop_time_exceeded => 4\n",
       "│   ├── stop_iteration_exceeded => -\n",
       "│   ├── wall_time_limit_exceeded => e\n",
       "│   └── nan_checker => }\n",
       "├── Output writers: OrderedDict with no entries\n",
       "└── Diagnostics: OrderedDict with no entries"
      ]
     },
     "execution_count": 70,
     "metadata": {},
     "output_type": "execute_result"
    }
   ],
   "source": [
    "simulation = Simulation(model, Δt=20minutes, stop_time=30days)"
   ]
  },
  {
   "cell_type": "code",
   "execution_count": 71,
   "id": "0f45de7a",
   "metadata": {},
   "outputs": [],
   "source": [
    "conjure_time_step_wizard!(simulation, IterationInterval(20), cfl=0.2, max_Δt=20minutes)"
   ]
  },
  {
   "cell_type": "code",
   "execution_count": 72,
   "id": "79e94aa2",
   "metadata": {},
   "outputs": [],
   "source": [
    "using Printf\n",
    "\n",
    "wall_clock = Ref(time_ns())\n",
    "\n",
    "function print_progress(sim)\n",
    "    u, v, w = model.velocities\n",
    "    progress = 100 * (time(sim) / sim.stop_time)\n",
    "    elapsed = (time_ns() - wall_clock[]) / 1e9\n",
    "\n",
    "    @printf(\"[%05.2f%%] i: %d, t: %s, wall time: %s, max(u): (%6.3e, %6.3e, %6.3e) m/s, next Δt: %s\\n\",\n",
    "            progress, iteration(sim), prettytime(sim), prettytime(elapsed),\n",
    "            maximum(abs, u), maximum(abs, v), maximum(abs, w), prettytime(sim.Δt))\n",
    "\n",
    "    wall_clock[] = time_ns()\n",
    "\n",
    "    return nothing\n",
    "end\n",
    "\n",
    "add_callback!(simulation, print_progress, IterationInterval(100))"
   ]
  },
  {
   "cell_type": "markdown",
   "id": "30ce626c",
   "metadata": {},
   "source": [
    "## Diagnostic/Output"
   ]
  },
  {
   "cell_type": "code",
   "execution_count": 73,
   "id": "52ffaa52",
   "metadata": {},
   "outputs": [
    {
     "data": {
      "text/plain": [
       "NetCDFWriter scheduled on TimeInterval(10 minutes):\n",
       "├── filepath: multiple_waves4.nc\n",
       "├── dimensions: time(0), x_faa(301), x_caa(300), z_aaf(81), z_aac(80)\n",
       "├── 7 outputs: (v, w, dbdX, Ri, b, u, M_squared)\n",
       "└── array type: Array{Float32}\n",
       "├── file_splitting: NoFileSplitting\n",
       "└── file size: 28.1 KiB"
      ]
     },
     "execution_count": 73,
     "metadata": {},
     "output_type": "execute_result"
    }
   ],
   "source": [
    "# Output setup\n",
    "g = 9.81\n",
    "u, v, w = model.velocities\n",
    "ζ = ∂z(u) - ∂x(w)  # Vorticity in x-z plane\n",
    "b = model.tracers.b\n",
    "\n",
    "# Compute Ri\n",
    "Ri = N² / (∂z(u)^2 + ∂z(v)^2) \n",
    "M_squared = ∂x(b)\n",
    "\n",
    "#X = x + v/f\n",
    "dbdX = ∂x(b)*(1/(1 + (1/f) * ∂x(v)))\n",
    "\n",
    "\n",
    "\n",
    "\n",
    "#=\n",
    "#For Julia animation\n",
    "simulation.output_writers[:fields] = JLD2Writer(\n",
    "    model, (; b, ζ , u, v, w),\n",
    "    filename=filename * \".jld2\",\n",
    "    schedule=TimeInterval(0.5day),\n",
    "    overwrite_existing=true\n",
    "    )\n",
    "=#\n",
    "#=\n",
    "\n",
    "#For Lagrangian filtering\n",
    "simulation.output_writers[:fields] = JLD2Writer(\n",
    "    model, (; b, u, v, w, Ri, M_squared, dbdX), filename=filename * \".jld2\", schedule=TimeInterval(10minutes), overwrite_existing=true)\n",
    "=#\n",
    "\n",
    "\n",
    "#for python visualisation\n",
    "simulation.output_writers[:fields] = NetCDFWriter(\n",
    "    model, (; b, u, v, w, Ri, M_squared, dbdX), filename=filename * \".nc\", schedule=TimeInterval(10minutes), overwrite_existing=true)"
   ]
  },
  {
   "cell_type": "markdown",
   "id": "52051e0c",
   "metadata": {},
   "source": [
    "## Run Simulation"
   ]
  },
  {
   "cell_type": "code",
   "execution_count": 74,
   "id": "ff654b7a",
   "metadata": {},
   "outputs": [
    {
     "name": "stderr",
     "output_type": "stream",
     "text": [
      "\u001b[36m\u001b[1m[ \u001b[22m\u001b[39m\u001b[36m\u001b[1mInfo: \u001b[22m\u001b[39mRunning the simulation...\n",
      "\u001b[36m\u001b[1m[ \u001b[22m\u001b[39m\u001b[36m\u001b[1mInfo: \u001b[22m\u001b[39mInitializing simulation...\n"
     ]
    },
    {
     "name": "stdout",
     "output_type": "stream",
     "text": [
      "[00.00%] i: 0, t: 0 seconds, wall time: 13.902 seconds, max(u): (0.000e+00, 0.000e+00, 0.000e+00) m/s, next Δt: 20 minutes\n"
     ]
    },
    {
     "name": "stderr",
     "output_type": "stream",
     "text": [
      "\u001b[36m\u001b[1m[ \u001b[22m\u001b[39m\u001b[36m\u001b[1mInfo: \u001b[22m\u001b[39m    ... simulation initialization complete (10.010 seconds)\n",
      "\u001b[36m\u001b[1m[ \u001b[22m\u001b[39m\u001b[36m\u001b[1mInfo: \u001b[22m\u001b[39mExecuting initial time step...\n",
      "\u001b[36m\u001b[1m[ \u001b[22m\u001b[39m\u001b[36m\u001b[1mInfo: \u001b[22m\u001b[39m    ... initial time step complete (3.446 seconds).\n"
     ]
    },
    {
     "name": "stdout",
     "output_type": "stream",
     "text": [
      "[01.57%] i: 100, t: 11.333 hours, wall time: 35.546 seconds, max(u): (5.129e-02, 1.232e-01, 4.069e-04) m/s, next Δt: 8.965 minutes\n",
      "[02.73%] i: 200, t: 19.667 hours, wall time: 31.603 seconds, max(u): (3.670e-02, 3.314e-02, 2.025e-04) m/s, next Δt: 7.066 minutes\n",
      "[03.89%] i: 300, t: 1.167 days, wall time: 31.942 seconds, max(u): (2.114e-02, 1.371e-01, 2.333e-04) m/s, next Δt: 8.612 minutes\n",
      "[05.05%] i: 400, t: 1.514 days, wall time: 29.920 seconds, max(u): (1.849e-02, 4.794e-02, 1.464e-04) m/s, next Δt: 7.052 minutes\n",
      "[06.20%] i: 500, t: 1.861 days, wall time: 36.381 seconds, max(u): (3.040e-02, 1.330e-01, 1.746e-04) m/s, next Δt: 7.558 minutes\n",
      "[07.36%] i: 600, t: 2.208 days, wall time: 32.490 seconds, max(u): (3.550e-02, 4.701e-02, 2.835e-04) m/s, next Δt: 6.665 minutes\n",
      "[08.52%] i: 700, t: 2.556 days, wall time: 32.746 seconds, max(u): (4.191e-02, 1.379e-01, 2.938e-04) m/s, next Δt: 7.619 minutes\n",
      "[09.68%] i: 800, t: 2.903 days, wall time: 32.040 seconds, max(u): (4.963e-02, 4.423e-02, 4.650e-04) m/s, next Δt: 6.665 minutes\n",
      "[10.83%] i: 900, t: 3.250 days, wall time: 33.110 seconds, max(u): (5.527e-02, 1.294e-01, 4.461e-04) m/s, next Δt: 7.293 minutes\n",
      "[11.99%] i: 1000, t: 3.597 days, wall time: 32.280 seconds, max(u): (6.095e-02, 5.678e-02, 5.616e-04) m/s, next Δt: 6.660 minutes\n",
      "[13.15%] i: 1100, t: 3.944 days, wall time: 36.855 seconds, max(u): (6.438e-02, 1.134e-01, 5.300e-04) m/s, next Δt: 7.426 minutes\n",
      "[14.31%] i: 1200, t: 4.292 days, wall time: 32.342 seconds, max(u): (7.137e-02, 7.989e-02, 6.099e-04) m/s, next Δt: 6.816 minutes\n",
      "[15.46%] i: 1300, t: 4.639 days, wall time: 32.509 seconds, max(u): (7.327e-02, 9.469e-02, 5.810e-04) m/s, next Δt: 7.154 minutes\n",
      "[16.62%] i: 1400, t: 4.986 days, wall time: 37.612 seconds, max(u): (7.735e-02, 1.046e-01, 6.322e-04) m/s, next Δt: 6.574 minutes\n",
      "[17.71%] i: 1500, t: 5.312 days, wall time: 33.778 seconds, max(u): (7.365e-02, 7.071e-02, 5.764e-04) m/s, next Δt: 7.208 minutes\n",
      "[18.86%] i: 1600, t: 5.659 days, wall time: 32.333 seconds, max(u): (7.399e-02, 1.256e-01, 5.974e-04) m/s, next Δt: 6.956 minutes\n",
      "[20.02%] i: 1700, t: 6.007 days, wall time: 30.442 seconds, max(u): (6.806e-02, 6.744e-02, 4.980e-04) m/s, next Δt: 8.343 minutes\n",
      "[21.18%] i: 1800, t: 6.354 days, wall time: 30.421 seconds, max(u): (6.649e-02, 1.344e-01, 5.044e-04) m/s, next Δt: 8.238 minutes\n",
      "[22.34%] i: 1900, t: 6.701 days, wall time: 35.116 seconds, max(u): (5.628e-02, 6.649e-02, 3.837e-04) m/s, next Δt: 10.416 minutes\n",
      "[23.94%] i: 2000, t: 7.181 days, wall time: 32.595 seconds, max(u): (9.759e-02, 1.039e-01, 5.505e-04) m/s, next Δt: 7.543 minutes\n",
      "[25.32%] i: 2100, t: 7.597 days, wall time: 33.643 seconds, max(u): (8.707e-02, 1.348e-01, 4.298e-04) m/s, next Δt: 8.696 minutes\n",
      "[26.71%] i: 2200, t: 8.014 days, wall time: 33.248 seconds, max(u): (7.712e-02, 7.605e-02, 2.961e-04) m/s, next Δt: 9.216 minutes\n",
      "[28.10%] i: 2300, t: 8.431 days, wall time: 33.980 seconds, max(u): (5.527e-02, 1.827e-01, 1.871e-04) m/s, next Δt: 10.327 minutes\n",
      "[29.49%] i: 2400, t: 8.847 days, wall time: 35.031 seconds, max(u): (3.941e-02, 6.498e-02, 2.337e-04) m/s, next Δt: 10.580 minutes\n",
      "[31.11%] i: 2500, t: 9.333 days, wall time: 34.102 seconds, max(u): (1.169e-01, 1.165e-01, 5.142e-04) m/s, next Δt: 8.072 minutes\n",
      "[32.50%] i: 2600, t: 9.750 days, wall time: 31.292 seconds, max(u): (1.174e-01, 1.096e-01, 4.605e-04) m/s, next Δt: 9.010 minutes\n",
      "[33.89%] i: 2700, t: 10.167 days, wall time: 32.226 seconds, max(u): (1.027e-01, 8.108e-02, 3.772e-04) m/s, next Δt: 9.306 minutes\n",
      "[35.97%] i: 2800, t: 10.792 days, wall time: 34.562 seconds, max(u): (1.208e-01, 1.232e-01, 4.856e-04) m/s, next Δt: 8.549 minutes\n",
      "[37.59%] i: 2900, t: 11.278 days, wall time: 33.348 seconds, max(u): (1.009e-01, 1.575e-01, 3.818e-04) m/s, next Δt: 10.248 minutes\n",
      "[39.44%] i: 3000, t: 11.833 days, wall time: 35.786 seconds, max(u): (9.009e-02, 6.614e-02, 3.831e-04) m/s, next Δt: 10.839 minutes\n",
      "[41.30%] i: 3100, t: 12.389 days, wall time: 34.059 seconds, max(u): (9.865e-02, 7.308e-02, 4.148e-04) m/s, next Δt: 9.796 minutes\n",
      "[42.69%] i: 3200, t: 12.806 days, wall time: 32.718 seconds, max(u): (6.673e-02, 1.972e-01, 2.776e-04) m/s, next Δt: 10.669 minutes\n",
      "[44.07%] i: 3300, t: 13.222 days, wall time: 35.262 seconds, max(u): (4.260e-02, 6.350e-02, 1.935e-04) m/s, next Δt: 10.529 minutes\n",
      "[45.69%] i: 3400, t: 13.708 days, wall time: 33.819 seconds, max(u): (1.202e-01, 1.293e-01, 4.719e-04) m/s, next Δt: 8.799 minutes\n",
      "[47.08%] i: 3500, t: 14.125 days, wall time: 33.147 seconds, max(u): (1.289e-01, 9.281e-02, 4.732e-04) m/s, next Δt: 8.805 minutes\n",
      "[48.47%] i: 3600, t: 14.542 days, wall time: 33.792 seconds, max(u): (1.207e-01, 8.350e-02, 5.161e-04) m/s, next Δt: 8.074 minutes\n",
      "[49.77%] i: 3700, t: 14.931 days, wall time: 35.800 seconds, max(u): (1.087e-01, 1.526e-01, 4.597e-04) m/s, next Δt: 9.064 minutes\n",
      "[51.16%] i: 3800, t: 15.347 days, wall time: 33.464 seconds, max(u): (7.336e-02, 6.843e-02, 3.440e-04) m/s, next Δt: 8.851 minutes\n",
      "[52.55%] i: 3900, t: 15.764 days, wall time: 31.968 seconds, max(u): (4.760e-02, 1.903e-01, 2.188e-04) m/s, next Δt: 9.861 minutes\n",
      "[53.94%] i: 4000, t: 16.181 days, wall time: 32.203 seconds, max(u): (5.860e-02, 6.331e-02, 3.507e-04) m/s, next Δt: 9.994 minutes\n",
      "[55.09%] i: 4100, t: 16.528 days, wall time: 31.756 seconds, max(u): (4.491e-02, 1.830e-01, 3.408e-04) m/s, next Δt: 10.780 minutes\n",
      "[56.48%] i: 4200, t: 16.944 days, wall time: 32.578 seconds, max(u): (7.907e-02, 6.587e-02, 4.360e-04) m/s, next Δt: 9.525 minutes\n",
      "[57.64%] i: 4300, t: 17.292 days, wall time: 32.236 seconds, max(u): (6.646e-02, 1.691e-01, 4.385e-04) m/s, next Δt: 9.469 minutes\n",
      "[58.80%] i: 4400, t: 17.639 days, wall time: 26.694 seconds, max(u): (5.236e-02, 6.428e-02, 3.812e-04) m/s, next Δt: 10.256 minutes\n"
     ]
    },
    {
     "ename": "LoadError",
     "evalue": "NetCDF error: \u001b[31mOpening path c:\\Users\\Tom Cummings\\Documents\\Oceananigans_projects\\multiple_waves4.nc: NetCDF: HDF error\u001b[39m (NetCDF error code: -101)",
     "output_type": "error",
     "traceback": [
      "NetCDF error: \u001b[31mOpening path c:\\Users\\Tom Cummings\\Documents\\Oceananigans_projects\\multiple_waves4.nc: NetCDF: HDF error\u001b[39m (NetCDF error code: -101)",
      "",
      "Stacktrace:",
      "  [1] \u001b[0m\u001b[1mnc_open\u001b[22m\u001b[0m\u001b[1m(\u001b[22m\u001b[90mpath\u001b[39m::\u001b[0mString, \u001b[90mmode\u001b[39m::\u001b[0mUInt16\u001b[0m\u001b[1m)\u001b[22m",
      "\u001b[90m    @\u001b[39m \u001b[35mNCDatasets\u001b[39m \u001b[90mC:\\Users\\Tom Cummings\\.julia\\packages\\NCDatasets\\xJGTj\\src\\\u001b[39m\u001b[90m\u001b[4mnetcdf_c.jl:276\u001b[24m\u001b[39m",
      "  [2] \u001b[0m\u001b[1mNCDataset\u001b[22m\u001b[0m\u001b[1m(\u001b[22m\u001b[90mfilename\u001b[39m::\u001b[0mString, \u001b[90mmode\u001b[39m::\u001b[0mString; \u001b[90mformat\u001b[39m::\u001b[0mSymbol, \u001b[90mshare\u001b[39m::\u001b[0mBool, \u001b[90mdiskless\u001b[39m::\u001b[0mBool, \u001b[90mpersist\u001b[39m::\u001b[0mBool, \u001b[90mmemory\u001b[39m::\u001b[0mNothing, \u001b[90mmaskingvalue\u001b[39m::\u001b[0mMissing, \u001b[90mattrib\u001b[39m::\u001b[0mVector\u001b[90m{Any}\u001b[39m\u001b[0m\u001b[1m)\u001b[22m",
      "\u001b[90m    @\u001b[39m \u001b[35mNCDatasets\u001b[39m \u001b[90mC:\\Users\\Tom Cummings\\.julia\\packages\\NCDatasets\\xJGTj\\src\\\u001b[39m\u001b[90m\u001b[4mdataset.jl:212\u001b[24m\u001b[39m",
      "  [3] \u001b[0m\u001b[1mNCDataset\u001b[22m",
      "\u001b[90m    @\u001b[39m \u001b[90mC:\\Users\\Tom Cummings\\.julia\\packages\\NCDatasets\\xJGTj\\src\\\u001b[39m\u001b[90m\u001b[4mdataset.jl:171\u001b[24m\u001b[39m\u001b[90m [inlined]\u001b[39m",
      "  [4] \u001b[0m\u001b[1mopen\u001b[22m",
      "\u001b[90m    @\u001b[39m \u001b[90mC:\\Users\\Tom Cummings\\.julia\\packages\\Oceananigans\\3ZIHr\\ext\\\u001b[39m\u001b[90m\u001b[4mOceananigansNCDatasetsExt.jl:1286\u001b[24m\u001b[39m\u001b[90m [inlined]\u001b[39m",
      "  [5] \u001b[0m\u001b[1mwrite_output!\u001b[22m\u001b[0m\u001b[1m(\u001b[22m\u001b[90mow\u001b[39m::\u001b[0mNetCDFWriter\u001b[90m{RectilinearGrid{Float64, Bounded, Flat, Bounded, Oceananigans.Grids.StaticVerticalDiscretization{OffsetArrays.OffsetVector{Float64, StepRangeLen{Float64, Base.TwicePrecision{Float64}, Base.TwicePrecision{Float64}, Int64}}, OffsetArrays.OffsetVector{Float64, StepRangeLen{Float64, Base.TwicePrecision{Float64}, Base.TwicePrecision{Float64}, Int64}}, Float64, Float64}, Float64, Float64, OffsetArrays.OffsetVector{Float64, StepRangeLen{Float64, Base.TwicePrecision{Float64}, Base.TwicePrecision{Float64}, Int64}}, Nothing, CPU}, NCDataset{Nothing, Missing}, Dict{String, Field{LX, LY, LZ, O, RectilinearGrid{Float64, Bounded, Flat, Bounded, Oceananigans.Grids.StaticVerticalDiscretization{OffsetArrays.OffsetVector{Float64, StepRangeLen{Float64, Base.TwicePrecision{Float64}, Base.TwicePrecision{Float64}, Int64}}, OffsetArrays.OffsetVector{Float64, StepRangeLen{Float64, Base.TwicePrecision{Float64}, Base.TwicePrecision{Float64}, Int64}}, Float64, Float64}, Float64, Float64, OffsetArrays.OffsetVector{Float64, StepRangeLen{Float64, Base.TwicePrecision{Float64}, Base.TwicePrecision{Float64}, Int64}}, Nothing, CPU}, Tuple{UnitRange{Int64}, UnitRange{Int64}, UnitRange{Int64}}, D, Float64, FieldBoundaryConditions{Nothing, Nothing, Nothing, Nothing, Nothing, Nothing, BoundaryCondition{Flux, Nothing}}, S, Nothing} where {LX, LY, LZ, O, D, S}}, TimeInterval{Float64}, UnionAll, Oceananigans.OutputWriters.NoFileSplitting, typeof(OceananigansNCDatasetsExt.trilocation_dim_name)}\u001b[39m, \u001b[90mmodel\u001b[39m::\u001b[0mNonhydrostaticModel\u001b[90m{Oceananigans.TimeSteppers.RungeKutta3TimeStepper{Float64, @NamedTuple{u::Field{Face, Center, Center, Nothing, RectilinearGrid{Float64, Bounded, Flat, Bounded, Oceananigans.Grids.StaticVerticalDiscretization{OffsetArrays.OffsetVector{Float64, StepRangeLen{Float64, Base.TwicePrecision{Float64}, Base.TwicePrecision{Float64}, Int64}}, OffsetArrays.OffsetVector{Float64, StepRangeLen{Float64, Base.TwicePrecision{Float64}, Base.TwicePrecision{Float64}, Int64}}, Float64, Float64}, Float64, Float64, OffsetArrays.OffsetVector{Float64, StepRangeLen{Float64, Base.TwicePrecision{Float64}, Base.TwicePrecision{Float64}, Int64}}, Nothing, CPU}, Tuple{Colon, Colon, Colon}, OffsetArrays.OffsetArray{Float64, 3, Array{Float64, 3}}, Float64, FieldBoundaryConditions{Nothing, Nothing, Nothing, Nothing, BoundaryCondition{Flux, Nothing}, BoundaryCondition{Flux, Nothing}, BoundaryCondition{Flux, Nothing}}, Nothing, Nothing}, v::Field{Center, Face, Center, Nothing, RectilinearGrid{Float64, Bounded, Flat, Bounded, Oceananigans.Grids.StaticVerticalDiscretization{OffsetArrays.OffsetVector{Float64, StepRangeLen{Float64, Base.TwicePrecision{Float64}, Base.TwicePrecision{Float64}, Int64}}, OffsetArrays.OffsetVector{Float64, StepRangeLen{Float64, Base.TwicePrecision{Float64}, Base.TwicePrecision{Float64}, Int64}}, Float64, Float64}, Float64, Float64, OffsetArrays.OffsetVector{Float64, StepRangeLen{Float64, Base.TwicePrecision{Float64}, Base.TwicePrecision{Float64}, Int64}}, Nothing, CPU}, Tuple{Colon, Colon, Colon}, OffsetArrays.OffsetArray{Float64, 3, Array{Float64, 3}}, Float64, FieldBoundaryConditions{BoundaryCondition{Flux, Nothing}, BoundaryCondition{Flux, Nothing}, Nothing, Nothing, BoundaryCondition{Flux, Nothing}, BoundaryCondition{Flux, Nothing}, BoundaryCondition{Flux, Nothing}}, Nothing, Nothing}, w::Field{Center, Center, Face, Nothing, RectilinearGrid{Float64, Bounded, Flat, Bounded, Oceananigans.Grids.StaticVerticalDiscretization{OffsetArrays.OffsetVector{Float64, StepRangeLen{Float64, Base.TwicePrecision{Float64}, Base.TwicePrecision{Float64}, Int64}}, OffsetArrays.OffsetVector{Float64, StepRangeLen{Float64, Base.TwicePrecision{Float64}, Base.TwicePrecision{Float64}, Int64}}, Float64, Float64}, Float64, Float64, OffsetArrays.OffsetVector{Float64, StepRangeLen{Float64, Base.TwicePrecision{Float64}, Base.TwicePrecision{Float64}, Int64}}, Nothing, CPU}, Tuple{Colon, Colon, Colon}, OffsetArrays.OffsetArray{Float64, 3, Array{Float64, 3}}, Float64, FieldBoundaryConditions{BoundaryCondition{Flux, Nothing}, BoundaryCondition{Flux, Nothing}, Nothing, Nothing, Nothing, Nothing, BoundaryCondition{Flux, Nothing}}, Nothing, Nothing}, b::Field{Center, Center, Center, Nothing, RectilinearGrid{Float64, Bounded, Flat, Bounded, Oceananigans.Grids.StaticVerticalDiscretization{OffsetArrays.OffsetVector{Float64, StepRangeLen{Float64, Base.TwicePrecision{Float64}, Base.TwicePrecision{Float64}, Int64}}, OffsetArrays.OffsetVector{Float64, StepRangeLen{Float64, Base.TwicePrecision{Float64}, Base.TwicePrecision{Float64}, Int64}}, Float64, Float64}, Float64, Float64, OffsetArrays.OffsetVector{Float64, StepRangeLen{Float64, Base.TwicePrecision{Float64}, Base.TwicePrecision{Float64}, Int64}}, Nothing, CPU}, Tuple{Colon, Colon, Colon}, OffsetArrays.OffsetArray{Float64, 3, Array{Float64, 3}}, Float64, FieldBoundaryConditions{BoundaryCondition{Flux, Nothing}, BoundaryCondition{Flux, Nothing}, Nothing, Nothing, BoundaryCondition{Flux, Nothing}, BoundaryCondition{Flux, Nothing}, BoundaryCondition{Flux, Nothing}}, Nothing, Nothing}}, Nothing}, Nothing, CPU, RectilinearGrid{Float64, Bounded, Flat, Bounded, Oceananigans.Grids.StaticVerticalDiscretization{OffsetArrays.OffsetVector{Float64, StepRangeLen{Float64, Base.TwicePrecision{Float64}, Base.TwicePrecision{Float64}, Int64}}, OffsetArrays.OffsetVector{Float64, StepRangeLen{Float64, Base.TwicePrecision{Float64}, Base.TwicePrecision{Float64}, Int64}}, Float64, Float64}, Float64, Float64, OffsetArrays.OffsetVector{Float64, StepRangeLen{Float64, Base.TwicePrecision{Float64}, Base.TwicePrecision{Float64}, Int64}}, Nothing, CPU}, Float64, BuoyancyForce{BuoyancyTracer, Oceananigans.Grids.NegativeZDirection}, FPlane{Float64}, Nothing, @NamedTuple{u::Field{Face, Center, Center, Nothing, RectilinearGrid{Float64, Bounded, Flat, Bounded, Oceananigans.Grids.StaticVerticalDiscretization{OffsetArrays.OffsetVector{Float64, StepRangeLen{Float64, Base.TwicePrecision{Float64}, Base.TwicePrecision{Float64}, Int64}}, OffsetArrays.OffsetVector{Float64, StepRangeLen{Float64, Base.TwicePrecision{Float64}, Base.TwicePrecision{Float64}, Int64}}, Float64, Float64}, Float64, Float64, OffsetArrays.OffsetVector{Float64, StepRangeLen{Float64, Base.TwicePrecision{Float64}, Base.TwicePrecision{Float64}, Int64}}, Nothing, CPU}, Tuple{Colon, Colon, Colon}, OffsetArrays.OffsetArray{Float64, 3, Array{Float64, 3}}, Float64, FieldBoundaryConditions{BoundaryCondition{Open{Nothing}, Nothing}, BoundaryCondition{Open{Nothing}, Nothing}, Nothing, Nothing, BoundaryCondition{Flux, Nothing}, BoundaryCondition{Flux, Nothing}, BoundaryCondition{Flux, Nothing}}, Nothing, Nothing}, v::Field{Center, Face, Center, Nothing, RectilinearGrid{Float64, Bounded, Flat, Bounded, Oceananigans.Grids.StaticVerticalDiscretization{OffsetArrays.OffsetVector{Float64, StepRangeLen{Float64, Base.TwicePrecision{Float64}, Base.TwicePrecision{Float64}, Int64}}, OffsetArrays.OffsetVector{Float64, StepRangeLen{Float64, Base.TwicePrecision{Float64}, Base.TwicePrecision{Float64}, Int64}}, Float64, Float64}, Float64, Float64, OffsetArrays.OffsetVector{Float64, StepRangeLen{Float64, Base.TwicePrecision{Float64}, Base.TwicePrecision{Float64}, Int64}}, Nothing, CPU}, Tuple{Colon, Colon, Colon}, OffsetArrays.OffsetArray{Float64, 3, Array{Float64, 3}}, Float64, FieldBoundaryConditions{BoundaryCondition{Flux, Nothing}, BoundaryCondition{Flux, Nothing}, Nothing, Nothing, BoundaryCondition{Flux, Nothing}, BoundaryCondition{Flux, Nothing}, BoundaryCondition{Flux, Nothing}}, Nothing, Nothing}, w::Field{Center, Center, Face, Nothing, RectilinearGrid{Float64, Bounded, Flat, Bounded, Oceananigans.Grids.StaticVerticalDiscretization{OffsetArrays.OffsetVector{Float64, StepRangeLen{Float64, Base.TwicePrecision{Float64}, Base.TwicePrecision{Float64}, Int64}}, OffsetArrays.OffsetVector{Float64, StepRangeLen{Float64, Base.TwicePrecision{Float64}, Base.TwicePrecision{Float64}, Int64}}, Float64, Float64}, Float64, Float64, OffsetArrays.OffsetVector{Float64, StepRangeLen{Float64, Base.TwicePrecision{Float64}, Base.TwicePrecision{Float64}, Int64}}, Nothing, CPU}, Tuple{Colon, Colon, Colon}, OffsetArrays.OffsetArray{Float64, 3, Array{Float64, 3}}, Float64, FieldBoundaryConditions{BoundaryCondition{Flux, Nothing}, BoundaryCondition{Flux, Nothing}, Nothing, Nothing, BoundaryCondition{Open{Nothing}, Nothing}, BoundaryCondition{Open{Nothing}, Nothing}, BoundaryCondition{Flux, Nothing}}, Nothing, Nothing}}, @NamedTuple{b::Field{Center, Center, Center, Nothing, RectilinearGrid{Float64, Bounded, Flat, Bounded, Oceananigans.Grids.StaticVerticalDiscretization{OffsetArrays.OffsetVector{Float64, StepRangeLen{Float64, Base.TwicePrecision{Float64}, Base.TwicePrecision{Float64}, Int64}}, OffsetArrays.OffsetVector{Float64, StepRangeLen{Float64, Base.TwicePrecision{Float64}, Base.TwicePrecision{Float64}, Int64}}, Float64, Float64}, Float64, Float64, OffsetArrays.OffsetVector{Float64, StepRangeLen{Float64, Base.TwicePrecision{Float64}, Base.TwicePrecision{Float64}, Int64}}, Nothing, CPU}, Tuple{Colon, Colon, Colon}, OffsetArrays.OffsetArray{Float64, 3, Array{Float64, 3}}, Float64, FieldBoundaryConditions{BoundaryCondition{Flux, Nothing}, BoundaryCondition{Flux, Nothing}, Nothing, Nothing, BoundaryCondition{Flux, Nothing}, BoundaryCondition{Flux, Nothing}, BoundaryCondition{Flux, Nothing}}, Nothing, Nothing}}, @NamedTuple{pNHS::Field{Center, Center, Center, Nothing, RectilinearGrid{Float64, Bounded, Flat, Bounded, Oceananigans.Grids.StaticVerticalDiscretization{OffsetArrays.OffsetVector{Float64, StepRangeLen{Float64, Base.TwicePrecision{Float64}, Base.TwicePrecision{Float64}, Int64}}, OffsetArrays.OffsetVector{Float64, StepRangeLen{Float64, Base.TwicePrecision{Float64}, Base.TwicePrecision{Float64}, Int64}}, Float64, Float64}, Float64, Float64, OffsetArrays.OffsetVector{Float64, StepRangeLen{Float64, Base.TwicePrecision{Float64}, Base.TwicePrecision{Float64}, Int64}}, Nothing, CPU}, Tuple{Colon, Colon, Colon}, OffsetArrays.OffsetArray{Float64, 3, Array{Float64, 3}}, Float64, FieldBoundaryConditions{BoundaryCondition{Flux, Nothing}, BoundaryCondition{Flux, Nothing}, Nothing, Nothing, BoundaryCondition{Flux, Nothing}, BoundaryCondition{Flux, Nothing}, BoundaryCondition{Flux, Nothing}}, Nothing, Nothing}, pHY′::Field{Center, Center, Center, Nothing, RectilinearGrid{Float64, Bounded, Flat, Bounded, Oceananigans.Grids.StaticVerticalDiscretization{OffsetArrays.OffsetVector{Float64, StepRangeLen{Float64, Base.TwicePrecision{Float64}, Base.TwicePrecision{Float64}, Int64}}, OffsetArrays.OffsetVector{Float64, StepRangeLen{Float64, Base.TwicePrecision{Float64}, Base.TwicePrecision{Float64}, Int64}}, Float64, Float64}, Float64, Float64, OffsetArrays.OffsetVector{Float64, StepRangeLen{Float64, Base.TwicePrecision{Float64}, Base.TwicePrecision{Float64}, Int64}}, Nothing, CPU}, Tuple{Colon, Colon, Colon}, OffsetArrays.OffsetArray{Float64, 3, Array{Float64, 3}}, Float64, FieldBoundaryConditions{BoundaryCondition{Flux, Nothing}, BoundaryCondition{Flux, Nothing}, Nothing, Nothing, BoundaryCondition{Flux, Nothing}, BoundaryCondition{Flux, Nothing}, BoundaryCondition{Flux, Nothing}}, Nothing, Nothing}}, @NamedTuple{u::AdvectiveForcing{StepRangeLen{Float64, Base.TwicePrecision{Float64}, Base.TwicePrecision{Float64}, Int64}, Oceananigans.Fields.ZeroField{Int64, 3}, Oceananigans.Fields.ZeroField{Int64, 3}}, v::Oceananigans.Forcings.MultipleForcings{2, Tuple{AdvectiveForcing{StepRangeLen{Float64, Base.TwicePrecision{Float64}, Base.TwicePrecision{Float64}, Int64}, Oceananigans.Fields.ZeroField{Int64, 3}, Oceananigans.Fields.ZeroField{Int64, 3}}, Oceananigans.Forcings.ContinuousForcing{Center, Face, Center, Float64, typeof(v_forcing_func), Tuple{Symbol}, Tuple{Int64}, Tuple{typeof(Oceananigans.Operators.identity3)}}}}, w::Oceananigans.Forcings.MultipleForcings{2, Tuple{AdvectiveForcing{StepRangeLen{Float64, Base.TwicePrecision{Float64}, Base.TwicePrecision{Float64}, Int64}, Oceananigans.Fields.ZeroField{Int64, 3}, Oceananigans.Fields.ZeroField{Int64, 3}}, Oceananigans.Forcings.ContinuousForcing{Center, Center, Face, Float64, typeof(w_forcing_func), Tuple{Symbol}, Tuple{Int64}, Tuple{typeof(Oceananigans.Operators.identity4)}}}}, b::Oceananigans.Forcings.MultipleForcings{2, Tuple{AdvectiveForcing{StepRangeLen{Float64, Base.TwicePrecision{Float64}, Base.TwicePrecision{Float64}, Int64}, Oceananigans.Fields.ZeroField{Int64, 3}, Oceananigans.Fields.ZeroField{Int64, 3}}, Oceananigans.Forcings.ContinuousForcing{Center, Center, Center, Float64, typeof(b_forcing_func), Tuple{Symbol}, Tuple{Int64}, Tuple{typeof(Oceananigans.Operators.identity5)}}}}}, WENO{3, Float64, Float32, Nothing, WENO{2, Float64, Float32, Nothing, UpwindBiased{1, Float64, Nothing, Centered{1, Float64, Nothing}}, Centered{1, Float64, Nothing}}, Centered{2, Float64, Centered{1, Float64, Nothing}}}, Oceananigans.Solvers.FFTBasedPoissonSolver{RectilinearGrid{Float64, Bounded, Flat, Bounded, Oceananigans.Grids.StaticVerticalDiscretization{OffsetArrays.OffsetVector{Float64, StepRangeLen{Float64, Base.TwicePrecision{Float64}, Base.TwicePrecision{Float64}, Int64}}, OffsetArrays.OffsetVector{Float64, StepRangeLen{Float64, Base.TwicePrecision{Float64}, Base.TwicePrecision{Float64}, Int64}}, Float64, Float64}, Float64, Float64, OffsetArrays.OffsetVector{Float64, StepRangeLen{Float64, Base.TwicePrecision{Float64}, Base.TwicePrecision{Float64}, Int64}}, Nothing, CPU}, @NamedTuple{λx::Array{Float64, 3}, λy::Array{Float64, 3}, λz::Array{Float64, 3}}, Array{ComplexF64, 3}, Nothing, @NamedTuple{forward::Tuple{Oceananigans.Solvers.DiscreteTransform{FFTW.r2rFFTWPlan{ComplexF64, Vector{Int32}, true, 3, Vector{Int64}}, Oceananigans.Solvers.Forward, RectilinearGrid{Float64, Bounded, Flat, Bounded, Oceananigans.Grids.StaticVerticalDiscretization{OffsetArrays.OffsetVector{Float64, StepRangeLen{Float64, Base.TwicePrecision{Float64}, Base.TwicePrecision{Float64}, Int64}}, OffsetArrays.OffsetVector{Float64, StepRangeLen{Float64, Base.TwicePrecision{Float64}, Base.TwicePrecision{Float64}, Int64}}, Float64, Float64}, Float64, Float64, OffsetArrays.OffsetVector{Float64, StepRangeLen{Float64, Base.TwicePrecision{Float64}, Base.TwicePrecision{Float64}, Int64}}, Nothing, CPU}, Vector{Int64}, Vector{Bounded}, Int64, Nothing, Nothing}, Oceananigans.Solvers.DiscreteTransform{Nothing, Nothing, Nothing, Nothing, Nothing, Nothing, Nothing, Nothing}}, backward::Tuple{Oceananigans.Solvers.DiscreteTransform{Nothing, Nothing, Nothing, Nothing, Nothing, Nothing, Nothing, Nothing}, Oceananigans.Solvers.DiscreteTransform{FFTW.r2rFFTWPlan{ComplexF64, Vector{Int32}, true, 3, Vector{Int64}}, Oceananigans.Solvers.Backward, RectilinearGrid{Float64, Bounded, Flat, Bounded, Oceananigans.Grids.StaticVerticalDiscretization{OffsetArrays.OffsetVector{Float64, StepRangeLen{Float64, Base.TwicePrecision{Float64}, Base.TwicePrecision{Float64}, Int64}}, OffsetArrays.OffsetVector{Float64, StepRangeLen{Float64, Base.TwicePrecision{Float64}, Base.TwicePrecision{Float64}, Int64}}, Float64, Float64}, Float64, Float64, OffsetArrays.OffsetVector{Float64, StepRangeLen{Float64, Base.TwicePrecision{Float64}, Base.TwicePrecision{Float64}, Int64}}, Nothing, CPU}, Vector{Int64}, Vector{Bounded}, Float64, Nothing, Nothing}}}}, Nothing, Oceananigans.Models.NonhydrostaticModels.BackgroundFields{false, @NamedTuple{u::Oceananigans.Fields.ZeroField{Int64, 3}, v::Oceananigans.Fields.ZeroField{Int64, 3}, w::Oceananigans.Fields.ZeroField{Int64, 3}}, @NamedTuple{b::Oceananigans.Fields.ZeroField{Int64, 3}}}, Nothing, Nothing, @NamedTuple{}}\u001b[39m\u001b[0m\u001b[1m)\u001b[22m",
      "\u001b[90m    @\u001b[39m \u001b[36mOceananigansNCDatasetsExt\u001b[39m \u001b[90mC:\\Users\\Tom Cummings\\.julia\\packages\\Oceananigans\\3ZIHr\\ext\\\u001b[39m\u001b[90m\u001b[4mOceananigansNCDatasetsExt.jl:1328\u001b[24m\u001b[39m",
      "  [6] \u001b[0m\u001b[1mwrite_output!\u001b[22m\u001b[0m\u001b[1m(\u001b[22m\u001b[90mwriter\u001b[39m::\u001b[0mNetCDFWriter\u001b[90m{RectilinearGrid{Float64, Bounded, Flat, Bounded, Oceananigans.Grids.StaticVerticalDiscretization{OffsetArrays.OffsetVector{Float64, StepRangeLen{Float64, Base.TwicePrecision{Float64}, Base.TwicePrecision{Float64}, Int64}}, OffsetArrays.OffsetVector{Float64, StepRangeLen{Float64, Base.TwicePrecision{Float64}, Base.TwicePrecision{Float64}, Int64}}, Float64, Float64}, Float64, Float64, OffsetArrays.OffsetVector{Float64, StepRangeLen{Float64, Base.TwicePrecision{Float64}, Base.TwicePrecision{Float64}, Int64}}, Nothing, CPU}, NCDataset{Nothing, Missing}, Dict{String, Field{LX, LY, LZ, O, RectilinearGrid{Float64, Bounded, Flat, Bounded, Oceananigans.Grids.StaticVerticalDiscretization{OffsetArrays.OffsetVector{Float64, StepRangeLen{Float64, Base.TwicePrecision{Float64}, Base.TwicePrecision{Float64}, Int64}}, OffsetArrays.OffsetVector{Float64, StepRangeLen{Float64, Base.TwicePrecision{Float64}, Base.TwicePrecision{Float64}, Int64}}, Float64, Float64}, Float64, Float64, OffsetArrays.OffsetVector{Float64, StepRangeLen{Float64, Base.TwicePrecision{Float64}, Base.TwicePrecision{Float64}, Int64}}, Nothing, CPU}, Tuple{UnitRange{Int64}, UnitRange{Int64}, UnitRange{Int64}}, D, Float64, FieldBoundaryConditions{Nothing, Nothing, Nothing, Nothing, Nothing, Nothing, BoundaryCondition{Flux, Nothing}}, S, Nothing} where {LX, LY, LZ, O, D, S}}, TimeInterval{Float64}, UnionAll, Oceananigans.OutputWriters.NoFileSplitting, typeof(OceananigansNCDatasetsExt.trilocation_dim_name)}\u001b[39m, \u001b[90msim\u001b[39m::\u001b[0mSimulation\u001b[90m{NonhydrostaticModel{Oceananigans.TimeSteppers.RungeKutta3TimeStepper{Float64, @NamedTuple{u::Field{Face, Center, Center, Nothing, RectilinearGrid{Float64, Bounded, Flat, Bounded, Oceananigans.Grids.StaticVerticalDiscretization{OffsetArrays.OffsetVector{Float64, StepRangeLen{Float64, Base.TwicePrecision{Float64}, Base.TwicePrecision{Float64}, Int64}}, OffsetArrays.OffsetVector{Float64, StepRangeLen{Float64, Base.TwicePrecision{Float64}, Base.TwicePrecision{Float64}, Int64}}, Float64, Float64}, Float64, Float64, OffsetArrays.OffsetVector{Float64, StepRangeLen{Float64, Base.TwicePrecision{Float64}, Base.TwicePrecision{Float64}, Int64}}, Nothing, CPU}, Tuple{Colon, Colon, Colon}, OffsetArrays.OffsetArray{Float64, 3, Array{Float64, 3}}, Float64, FieldBoundaryConditions{Nothing, Nothing, Nothing, Nothing, BoundaryCondition{Flux, Nothing}, BoundaryCondition{Flux, Nothing}, BoundaryCondition{Flux, Nothing}}, Nothing, Nothing}, v::Field{Center, Face, Center, Nothing, RectilinearGrid{Float64, Bounded, Flat, Bounded, Oceananigans.Grids.StaticVerticalDiscretization{OffsetArrays.OffsetVector{Float64, StepRangeLen{Float64, Base.TwicePrecision{Float64}, Base.TwicePrecision{Float64}, Int64}}, OffsetArrays.OffsetVector{Float64, StepRangeLen{Float64, Base.TwicePrecision{Float64}, Base.TwicePrecision{Float64}, Int64}}, Float64, Float64}, Float64, Float64, OffsetArrays.OffsetVector{Float64, StepRangeLen{Float64, Base.TwicePrecision{Float64}, Base.TwicePrecision{Float64}, Int64}}, Nothing, CPU}, Tuple{Colon, Colon, Colon}, OffsetArrays.OffsetArray{Float64, 3, Array{Float64, 3}}, Float64, FieldBoundaryConditions{BoundaryCondition{Flux, Nothing}, BoundaryCondition{Flux, Nothing}, Nothing, Nothing, BoundaryCondition{Flux, Nothing}, BoundaryCondition{Flux, Nothing}, BoundaryCondition{Flux, Nothing}}, Nothing, Nothing}, w::Field{Center, Center, Face, Nothing, RectilinearGrid{Float64, Bounded, Flat, Bounded, Oceananigans.Grids.StaticVerticalDiscretization{OffsetArrays.OffsetVector{Float64, StepRangeLen{Float64, Base.TwicePrecision{Float64}, Base.TwicePrecision{Float64}, Int64}}, OffsetArrays.OffsetVector{Float64, StepRangeLen{Float64, Base.TwicePrecision{Float64}, Base.TwicePrecision{Float64}, Int64}}, Float64, Float64}, Float64, Float64, OffsetArrays.OffsetVector{Float64, StepRangeLen{Float64, Base.TwicePrecision{Float64}, Base.TwicePrecision{Float64}, Int64}}, Nothing, CPU}, Tuple{Colon, Colon, Colon}, OffsetArrays.OffsetArray{Float64, 3, Array{Float64, 3}}, Float64, FieldBoundaryConditions{BoundaryCondition{Flux, Nothing}, BoundaryCondition{Flux, Nothing}, Nothing, Nothing, Nothing, Nothing, BoundaryCondition{Flux, Nothing}}, Nothing, Nothing}, b::Field{Center, Center, Center, Nothing, RectilinearGrid{Float64, Bounded, Flat, Bounded, Oceananigans.Grids.StaticVerticalDiscretization{OffsetArrays.OffsetVector{Float64, StepRangeLen{Float64, Base.TwicePrecision{Float64}, Base.TwicePrecision{Float64}, Int64}}, OffsetArrays.OffsetVector{Float64, StepRangeLen{Float64, Base.TwicePrecision{Float64}, Base.TwicePrecision{Float64}, Int64}}, Float64, Float64}, Float64, Float64, OffsetArrays.OffsetVector{Float64, StepRangeLen{Float64, Base.TwicePrecision{Float64}, Base.TwicePrecision{Float64}, Int64}}, Nothing, CPU}, Tuple{Colon, Colon, Colon}, OffsetArrays.OffsetArray{Float64, 3, Array{Float64, 3}}, Float64, FieldBoundaryConditions{BoundaryCondition{Flux, Nothing}, BoundaryCondition{Flux, Nothing}, Nothing, Nothing, BoundaryCondition{Flux, Nothing}, BoundaryCondition{Flux, Nothing}, BoundaryCondition{Flux, Nothing}}, Nothing, Nothing}}, Nothing}, Nothing, CPU, RectilinearGrid{Float64, Bounded, Flat, Bounded, Oceananigans.Grids.StaticVerticalDiscretization{OffsetArrays.OffsetVector{Float64, StepRangeLen{Float64, Base.TwicePrecision{Float64}, Base.TwicePrecision{Float64}, Int64}}, OffsetArrays.OffsetVector{Float64, StepRangeLen{Float64, Base.TwicePrecision{Float64}, Base.TwicePrecision{Float64}, Int64}}, Float64, Float64}, Float64, Float64, OffsetArrays.OffsetVector{Float64, StepRangeLen{Float64, Base.TwicePrecision{Float64}, Base.TwicePrecision{Float64}, Int64}}, Nothing, CPU}, Float64, BuoyancyForce{BuoyancyTracer, Oceananigans.Grids.NegativeZDirection}, FPlane{Float64}, Nothing, @NamedTuple{u::Field{Face, Center, Center, Nothing, RectilinearGrid{Float64, Bounded, Flat, Bounded, Oceananigans.Grids.StaticVerticalDiscretization{OffsetArrays.OffsetVector{Float64, StepRangeLen{Float64, Base.TwicePrecision{Float64}, Base.TwicePrecision{Float64}, Int64}}, OffsetArrays.OffsetVector{Float64, StepRangeLen{Float64, Base.TwicePrecision{Float64}, Base.TwicePrecision{Float64}, Int64}}, Float64, Float64}, Float64, Float64, OffsetArrays.OffsetVector{Float64, StepRangeLen{Float64, Base.TwicePrecision{Float64}, Base.TwicePrecision{Float64}, Int64}}, Nothing, CPU}, Tuple{Colon, Colon, Colon}, OffsetArrays.OffsetArray{Float64, 3, Array{Float64, 3}}, Float64, FieldBoundaryConditions{BoundaryCondition{Open{Nothing}, Nothing}, BoundaryCondition{Open{Nothing}, Nothing}, Nothing, Nothing, BoundaryCondition{Flux, Nothing}, BoundaryCondition{Flux, Nothing}, BoundaryCondition{Flux, Nothing}}, Nothing, Nothing}, v::Field{Center, Face, Center, Nothing, RectilinearGrid{Float64, Bounded, Flat, Bounded, Oceananigans.Grids.StaticVerticalDiscretization{OffsetArrays.OffsetVector{Float64, StepRangeLen{Float64, Base.TwicePrecision{Float64}, Base.TwicePrecision{Float64}, Int64}}, OffsetArrays.OffsetVector{Float64, StepRangeLen{Float64, Base.TwicePrecision{Float64}, Base.TwicePrecision{Float64}, Int64}}, Float64, Float64}, Float64, Float64, OffsetArrays.OffsetVector{Float64, StepRangeLen{Float64, Base.TwicePrecision{Float64}, Base.TwicePrecision{Float64}, Int64}}, Nothing, CPU}, Tuple{Colon, Colon, Colon}, OffsetArrays.OffsetArray{Float64, 3, Array{Float64, 3}}, Float64, FieldBoundaryConditions{BoundaryCondition{Flux, Nothing}, BoundaryCondition{Flux, Nothing}, Nothing, Nothing, BoundaryCondition{Flux, Nothing}, BoundaryCondition{Flux, Nothing}, BoundaryCondition{Flux, Nothing}}, Nothing, Nothing}, w::Field{Center, Center, Face, Nothing, RectilinearGrid{Float64, Bounded, Flat, Bounded, Oceananigans.Grids.StaticVerticalDiscretization{OffsetArrays.OffsetVector{Float64, StepRangeLen{Float64, Base.TwicePrecision{Float64}, Base.TwicePrecision{Float64}, Int64}}, OffsetArrays.OffsetVector{Float64, StepRangeLen{Float64, Base.TwicePrecision{Float64}, Base.TwicePrecision{Float64}, Int64}}, Float64, Float64}, Float64, Float64, OffsetArrays.OffsetVector{Float64, StepRangeLen{Float64, Base.TwicePrecision{Float64}, Base.TwicePrecision{Float64}, Int64}}, Nothing, CPU}, Tuple{Colon, Colon, Colon}, OffsetArrays.OffsetArray{Float64, 3, Array{Float64, 3}}, Float64, FieldBoundaryConditions{BoundaryCondition{Flux, Nothing}, BoundaryCondition{Flux, Nothing}, Nothing, Nothing, BoundaryCondition{Open{Nothing}, Nothing}, BoundaryCondition{Open{Nothing}, Nothing}, BoundaryCondition{Flux, Nothing}}, Nothing, Nothing}}, @NamedTuple{b::Field{Center, Center, Center, Nothing, RectilinearGrid{Float64, Bounded, Flat, Bounded, Oceananigans.Grids.StaticVerticalDiscretization{OffsetArrays.OffsetVector{Float64, StepRangeLen{Float64, Base.TwicePrecision{Float64}, Base.TwicePrecision{Float64}, Int64}}, OffsetArrays.OffsetVector{Float64, StepRangeLen{Float64, Base.TwicePrecision{Float64}, Base.TwicePrecision{Float64}, Int64}}, Float64, Float64}, Float64, Float64, OffsetArrays.OffsetVector{Float64, StepRangeLen{Float64, Base.TwicePrecision{Float64}, Base.TwicePrecision{Float64}, Int64}}, Nothing, CPU}, Tuple{Colon, Colon, Colon}, OffsetArrays.OffsetArray{Float64, 3, Array{Float64, 3}}, Float64, FieldBoundaryConditions{BoundaryCondition{Flux, Nothing}, BoundaryCondition{Flux, Nothing}, Nothing, Nothing, BoundaryCondition{Flux, Nothing}, BoundaryCondition{Flux, Nothing}, BoundaryCondition{Flux, Nothing}}, Nothing, Nothing}}, @NamedTuple{pNHS::Field{Center, Center, Center, Nothing, RectilinearGrid{Float64, Bounded, Flat, Bounded, Oceananigans.Grids.StaticVerticalDiscretization{OffsetArrays.OffsetVector{Float64, StepRangeLen{Float64, Base.TwicePrecision{Float64}, Base.TwicePrecision{Float64}, Int64}}, OffsetArrays.OffsetVector{Float64, StepRangeLen{Float64, Base.TwicePrecision{Float64}, Base.TwicePrecision{Float64}, Int64}}, Float64, Float64}, Float64, Float64, OffsetArrays.OffsetVector{Float64, StepRangeLen{Float64, Base.TwicePrecision{Float64}, Base.TwicePrecision{Float64}, Int64}}, Nothing, CPU}, Tuple{Colon, Colon, Colon}, OffsetArrays.OffsetArray{Float64, 3, Array{Float64, 3}}, Float64, FieldBoundaryConditions{BoundaryCondition{Flux, Nothing}, BoundaryCondition{Flux, Nothing}, Nothing, Nothing, BoundaryCondition{Flux, Nothing}, BoundaryCondition{Flux, Nothing}, BoundaryCondition{Flux, Nothing}}, Nothing, Nothing}, pHY′::Field{Center, Center, Center, Nothing, RectilinearGrid{Float64, Bounded, Flat, Bounded, Oceananigans.Grids.StaticVerticalDiscretization{OffsetArrays.OffsetVector{Float64, StepRangeLen{Float64, Base.TwicePrecision{Float64}, Base.TwicePrecision{Float64}, Int64}}, OffsetArrays.OffsetVector{Float64, StepRangeLen{Float64, Base.TwicePrecision{Float64}, Base.TwicePrecision{Float64}, Int64}}, Float64, Float64}, Float64, Float64, OffsetArrays.OffsetVector{Float64, StepRangeLen{Float64, Base.TwicePrecision{Float64}, Base.TwicePrecision{Float64}, Int64}}, Nothing, CPU}, Tuple{Colon, Colon, Colon}, OffsetArrays.OffsetArray{Float64, 3, Array{Float64, 3}}, Float64, FieldBoundaryConditions{BoundaryCondition{Flux, Nothing}, BoundaryCondition{Flux, Nothing}, Nothing, Nothing, BoundaryCondition{Flux, Nothing}, BoundaryCondition{Flux, Nothing}, BoundaryCondition{Flux, Nothing}}, Nothing, Nothing}}, @NamedTuple{u::AdvectiveForcing{StepRangeLen{Float64, Base.TwicePrecision{Float64}, Base.TwicePrecision{Float64}, Int64}, Oceananigans.Fields.ZeroField{Int64, 3}, Oceananigans.Fields.ZeroField{Int64, 3}}, v::Oceananigans.Forcings.MultipleForcings{2, Tuple{AdvectiveForcing{StepRangeLen{Float64, Base.TwicePrecision{Float64}, Base.TwicePrecision{Float64}, Int64}, Oceananigans.Fields.ZeroField{Int64, 3}, Oceananigans.Fields.ZeroField{Int64, 3}}, Oceananigans.Forcings.ContinuousForcing{Center, Face, Center, Float64, typeof(v_forcing_func), Tuple{Symbol}, Tuple{Int64}, Tuple{typeof(Oceananigans.Operators.identity3)}}}}, w::Oceananigans.Forcings.MultipleForcings{2, Tuple{AdvectiveForcing{StepRangeLen{Float64, Base.TwicePrecision{Float64}, Base.TwicePrecision{Float64}, Int64}, Oceananigans.Fields.ZeroField{Int64, 3}, Oceananigans.Fields.ZeroField{Int64, 3}}, Oceananigans.Forcings.ContinuousForcing{Center, Center, Face, Float64, typeof(w_forcing_func), Tuple{Symbol}, Tuple{Int64}, Tuple{typeof(Oceananigans.Operators.identity4)}}}}, b::Oceananigans.Forcings.MultipleForcings{2, Tuple{AdvectiveForcing{StepRangeLen{Float64, Base.TwicePrecision{Float64}, Base.TwicePrecision{Float64}, Int64}, Oceananigans.Fields.ZeroField{Int64, 3}, Oceananigans.Fields.ZeroField{Int64, 3}}, Oceananigans.Forcings.ContinuousForcing{Center, Center, Center, Float64, typeof(b_forcing_func), Tuple{Symbol}, Tuple{Int64}, Tuple{typeof(Oceananigans.Operators.identity5)}}}}}, WENO{3, Float64, Float32, Nothing, WENO{2, Float64, Float32, Nothing, UpwindBiased{1, Float64, Nothing, Centered{1, Float64, Nothing}}, Centered{1, Float64, Nothing}}, Centered{2, Float64, Centered{1, Float64, Nothing}}}, Oceananigans.Solvers.FFTBasedPoissonSolver{RectilinearGrid{Float64, Bounded, Flat, Bounded, Oceananigans.Grids.StaticVerticalDiscretization{OffsetArrays.OffsetVector{Float64, StepRangeLen{Float64, Base.TwicePrecision{Float64}, Base.TwicePrecision{Float64}, Int64}}, OffsetArrays.OffsetVector{Float64, StepRangeLen{Float64, Base.TwicePrecision{Float64}, Base.TwicePrecision{Float64}, Int64}}, Float64, Float64}, Float64, Float64, OffsetArrays.OffsetVector{Float64, StepRangeLen{Float64, Base.TwicePrecision{Float64}, Base.TwicePrecision{Float64}, Int64}}, Nothing, CPU}, @NamedTuple{λx::Array{Float64, 3}, λy::Array{Float64, 3}, λz::Array{Float64, 3}}, Array{ComplexF64, 3}, Nothing, @NamedTuple{forward::Tuple{Oceananigans.Solvers.DiscreteTransform{FFTW.r2rFFTWPlan{ComplexF64, Vector{Int32}, true, 3, Vector{Int64}}, Oceananigans.Solvers.Forward, RectilinearGrid{Float64, Bounded, Flat, Bounded, Oceananigans.Grids.StaticVerticalDiscretization{OffsetArrays.OffsetVector{Float64, StepRangeLen{Float64, Base.TwicePrecision{Float64}, Base.TwicePrecision{Float64}, Int64}}, OffsetArrays.OffsetVector{Float64, StepRangeLen{Float64, Base.TwicePrecision{Float64}, Base.TwicePrecision{Float64}, Int64}}, Float64, Float64}, Float64, Float64, OffsetArrays.OffsetVector{Float64, StepRangeLen{Float64, Base.TwicePrecision{Float64}, Base.TwicePrecision{Float64}, Int64}}, Nothing, CPU}, Vector{Int64}, Vector{Bounded}, Int64, Nothing, Nothing}, Oceananigans.Solvers.DiscreteTransform{Nothing, Nothing, Nothing, Nothing, Nothing, Nothing, Nothing, Nothing}}, backward::Tuple{Oceananigans.Solvers.DiscreteTransform{Nothing, Nothing, Nothing, Nothing, Nothing, Nothing, Nothing, Nothing}, Oceananigans.Solvers.DiscreteTransform{FFTW.r2rFFTWPlan{ComplexF64, Vector{Int32}, true, 3, Vector{Int64}}, Oceananigans.Solvers.Backward, RectilinearGrid{Float64, Bounded, Flat, Bounded, Oceananigans.Grids.StaticVerticalDiscretization{OffsetArrays.OffsetVector{Float64, StepRangeLen{Float64, Base.TwicePrecision{Float64}, Base.TwicePrecision{Float64}, Int64}}, OffsetArrays.OffsetVector{Float64, StepRangeLen{Float64, Base.TwicePrecision{Float64}, Base.TwicePrecision{Float64}, Int64}}, Float64, Float64}, Float64, Float64, OffsetArrays.OffsetVector{Float64, StepRangeLen{Float64, Base.TwicePrecision{Float64}, Base.TwicePrecision{Float64}, Int64}}, Nothing, CPU}, Vector{Int64}, Vector{Bounded}, Float64, Nothing, Nothing}}}}, Nothing, Oceananigans.Models.NonhydrostaticModels.BackgroundFields{false, @NamedTuple{u::Oceananigans.Fields.ZeroField{Int64, 3}, v::Oceananigans.Fields.ZeroField{Int64, 3}, w::Oceananigans.Fields.ZeroField{Int64, 3}}, @NamedTuple{b::Oceananigans.Fields.ZeroField{Int64, 3}}}, Nothing, Nothing, @NamedTuple{}}, Float64, Float64, OrderedCollections.OrderedDict{Symbol, Oceananigans.AbstractDiagnostic}, OrderedCollections.OrderedDict{Symbol, Oceananigans.AbstractOutputWriter}, OrderedCollections.OrderedDict{Symbol, Callback}, Float64, Bool}\u001b[39m\u001b[0m\u001b[1m)\u001b[22m",
      "\u001b[90m    @\u001b[39m \u001b[32mOceananigans.Simulations\u001b[39m \u001b[90mC:\\Users\\Tom Cummings\\.julia\\packages\\Oceananigans\\3ZIHr\\src\\Simulations\\\u001b[39m\u001b[90m\u001b[4msimulation.jl:253\u001b[24m\u001b[39m",
      "  [7] \u001b[0m\u001b[1mtime_step!\u001b[22m\u001b[0m\u001b[1m(\u001b[22m\u001b[90msim\u001b[39m::\u001b[0mSimulation\u001b[90m{NonhydrostaticModel{Oceananigans.TimeSteppers.RungeKutta3TimeStepper{Float64, @NamedTuple{u::Field{Face, Center, Center, Nothing, RectilinearGrid{Float64, Bounded, Flat, Bounded, Oceananigans.Grids.StaticVerticalDiscretization{OffsetArrays.OffsetVector{Float64, StepRangeLen{Float64, Base.TwicePrecision{Float64}, Base.TwicePrecision{Float64}, Int64}}, OffsetArrays.OffsetVector{Float64, StepRangeLen{Float64, Base.TwicePrecision{Float64}, Base.TwicePrecision{Float64}, Int64}}, Float64, Float64}, Float64, Float64, OffsetArrays.OffsetVector{Float64, StepRangeLen{Float64, Base.TwicePrecision{Float64}, Base.TwicePrecision{Float64}, Int64}}, Nothing, CPU}, Tuple{Colon, Colon, Colon}, OffsetArrays.OffsetArray{Float64, 3, Array{Float64, 3}}, Float64, FieldBoundaryConditions{Nothing, Nothing, Nothing, Nothing, BoundaryCondition{Flux, Nothing}, BoundaryCondition{Flux, Nothing}, BoundaryCondition{Flux, Nothing}}, Nothing, Nothing}, v::Field{Center, Face, Center, Nothing, RectilinearGrid{Float64, Bounded, Flat, Bounded, Oceananigans.Grids.StaticVerticalDiscretization{OffsetArrays.OffsetVector{Float64, StepRangeLen{Float64, Base.TwicePrecision{Float64}, Base.TwicePrecision{Float64}, Int64}}, OffsetArrays.OffsetVector{Float64, StepRangeLen{Float64, Base.TwicePrecision{Float64}, Base.TwicePrecision{Float64}, Int64}}, Float64, Float64}, Float64, Float64, OffsetArrays.OffsetVector{Float64, StepRangeLen{Float64, Base.TwicePrecision{Float64}, Base.TwicePrecision{Float64}, Int64}}, Nothing, CPU}, Tuple{Colon, Colon, Colon}, OffsetArrays.OffsetArray{Float64, 3, Array{Float64, 3}}, Float64, FieldBoundaryConditions{BoundaryCondition{Flux, Nothing}, BoundaryCondition{Flux, Nothing}, Nothing, Nothing, BoundaryCondition{Flux, Nothing}, BoundaryCondition{Flux, Nothing}, BoundaryCondition{Flux, Nothing}}, Nothing, Nothing}, w::Field{Center, Center, Face, Nothing, RectilinearGrid{Float64, Bounded, Flat, Bounded, Oceananigans.Grids.StaticVerticalDiscretization{OffsetArrays.OffsetVector{Float64, StepRangeLen{Float64, Base.TwicePrecision{Float64}, Base.TwicePrecision{Float64}, Int64}}, OffsetArrays.OffsetVector{Float64, StepRangeLen{Float64, Base.TwicePrecision{Float64}, Base.TwicePrecision{Float64}, Int64}}, Float64, Float64}, Float64, Float64, OffsetArrays.OffsetVector{Float64, StepRangeLen{Float64, Base.TwicePrecision{Float64}, Base.TwicePrecision{Float64}, Int64}}, Nothing, CPU}, Tuple{Colon, Colon, Colon}, OffsetArrays.OffsetArray{Float64, 3, Array{Float64, 3}}, Float64, FieldBoundaryConditions{BoundaryCondition{Flux, Nothing}, BoundaryCondition{Flux, Nothing}, Nothing, Nothing, Nothing, Nothing, BoundaryCondition{Flux, Nothing}}, Nothing, Nothing}, b::Field{Center, Center, Center, Nothing, RectilinearGrid{Float64, Bounded, Flat, Bounded, Oceananigans.Grids.StaticVerticalDiscretization{OffsetArrays.OffsetVector{Float64, StepRangeLen{Float64, Base.TwicePrecision{Float64}, Base.TwicePrecision{Float64}, Int64}}, OffsetArrays.OffsetVector{Float64, StepRangeLen{Float64, Base.TwicePrecision{Float64}, Base.TwicePrecision{Float64}, Int64}}, Float64, Float64}, Float64, Float64, OffsetArrays.OffsetVector{Float64, StepRangeLen{Float64, Base.TwicePrecision{Float64}, Base.TwicePrecision{Float64}, Int64}}, Nothing, CPU}, Tuple{Colon, Colon, Colon}, OffsetArrays.OffsetArray{Float64, 3, Array{Float64, 3}}, Float64, FieldBoundaryConditions{BoundaryCondition{Flux, Nothing}, BoundaryCondition{Flux, Nothing}, Nothing, Nothing, BoundaryCondition{Flux, Nothing}, BoundaryCondition{Flux, Nothing}, BoundaryCondition{Flux, Nothing}}, Nothing, Nothing}}, Nothing}, Nothing, CPU, RectilinearGrid{Float64, Bounded, Flat, Bounded, Oceananigans.Grids.StaticVerticalDiscretization{OffsetArrays.OffsetVector{Float64, StepRangeLen{Float64, Base.TwicePrecision{Float64}, Base.TwicePrecision{Float64}, Int64}}, OffsetArrays.OffsetVector{Float64, StepRangeLen{Float64, Base.TwicePrecision{Float64}, Base.TwicePrecision{Float64}, Int64}}, Float64, Float64}, Float64, Float64, OffsetArrays.OffsetVector{Float64, StepRangeLen{Float64, Base.TwicePrecision{Float64}, Base.TwicePrecision{Float64}, Int64}}, Nothing, CPU}, Float64, BuoyancyForce{BuoyancyTracer, Oceananigans.Grids.NegativeZDirection}, FPlane{Float64}, Nothing, @NamedTuple{u::Field{Face, Center, Center, Nothing, RectilinearGrid{Float64, Bounded, Flat, Bounded, Oceananigans.Grids.StaticVerticalDiscretization{OffsetArrays.OffsetVector{Float64, StepRangeLen{Float64, Base.TwicePrecision{Float64}, Base.TwicePrecision{Float64}, Int64}}, OffsetArrays.OffsetVector{Float64, StepRangeLen{Float64, Base.TwicePrecision{Float64}, Base.TwicePrecision{Float64}, Int64}}, Float64, Float64}, Float64, Float64, OffsetArrays.OffsetVector{Float64, StepRangeLen{Float64, Base.TwicePrecision{Float64}, Base.TwicePrecision{Float64}, Int64}}, Nothing, CPU}, Tuple{Colon, Colon, Colon}, OffsetArrays.OffsetArray{Float64, 3, Array{Float64, 3}}, Float64, FieldBoundaryConditions{BoundaryCondition{Open{Nothing}, Nothing}, BoundaryCondition{Open{Nothing}, Nothing}, Nothing, Nothing, BoundaryCondition{Flux, Nothing}, BoundaryCondition{Flux, Nothing}, BoundaryCondition{Flux, Nothing}}, Nothing, Nothing}, v::Field{Center, Face, Center, Nothing, RectilinearGrid{Float64, Bounded, Flat, Bounded, Oceananigans.Grids.StaticVerticalDiscretization{OffsetArrays.OffsetVector{Float64, StepRangeLen{Float64, Base.TwicePrecision{Float64}, Base.TwicePrecision{Float64}, Int64}}, OffsetArrays.OffsetVector{Float64, StepRangeLen{Float64, Base.TwicePrecision{Float64}, Base.TwicePrecision{Float64}, Int64}}, Float64, Float64}, Float64, Float64, OffsetArrays.OffsetVector{Float64, StepRangeLen{Float64, Base.TwicePrecision{Float64}, Base.TwicePrecision{Float64}, Int64}}, Nothing, CPU}, Tuple{Colon, Colon, Colon}, OffsetArrays.OffsetArray{Float64, 3, Array{Float64, 3}}, Float64, FieldBoundaryConditions{BoundaryCondition{Flux, Nothing}, BoundaryCondition{Flux, Nothing}, Nothing, Nothing, BoundaryCondition{Flux, Nothing}, BoundaryCondition{Flux, Nothing}, BoundaryCondition{Flux, Nothing}}, Nothing, Nothing}, w::Field{Center, Center, Face, Nothing, RectilinearGrid{Float64, Bounded, Flat, Bounded, Oceananigans.Grids.StaticVerticalDiscretization{OffsetArrays.OffsetVector{Float64, StepRangeLen{Float64, Base.TwicePrecision{Float64}, Base.TwicePrecision{Float64}, Int64}}, OffsetArrays.OffsetVector{Float64, StepRangeLen{Float64, Base.TwicePrecision{Float64}, Base.TwicePrecision{Float64}, Int64}}, Float64, Float64}, Float64, Float64, OffsetArrays.OffsetVector{Float64, StepRangeLen{Float64, Base.TwicePrecision{Float64}, Base.TwicePrecision{Float64}, Int64}}, Nothing, CPU}, Tuple{Colon, Colon, Colon}, OffsetArrays.OffsetArray{Float64, 3, Array{Float64, 3}}, Float64, FieldBoundaryConditions{BoundaryCondition{Flux, Nothing}, BoundaryCondition{Flux, Nothing}, Nothing, Nothing, BoundaryCondition{Open{Nothing}, Nothing}, BoundaryCondition{Open{Nothing}, Nothing}, BoundaryCondition{Flux, Nothing}}, Nothing, Nothing}}, @NamedTuple{b::Field{Center, Center, Center, Nothing, RectilinearGrid{Float64, Bounded, Flat, Bounded, Oceananigans.Grids.StaticVerticalDiscretization{OffsetArrays.OffsetVector{Float64, StepRangeLen{Float64, Base.TwicePrecision{Float64}, Base.TwicePrecision{Float64}, Int64}}, OffsetArrays.OffsetVector{Float64, StepRangeLen{Float64, Base.TwicePrecision{Float64}, Base.TwicePrecision{Float64}, Int64}}, Float64, Float64}, Float64, Float64, OffsetArrays.OffsetVector{Float64, StepRangeLen{Float64, Base.TwicePrecision{Float64}, Base.TwicePrecision{Float64}, Int64}}, Nothing, CPU}, Tuple{Colon, Colon, Colon}, OffsetArrays.OffsetArray{Float64, 3, Array{Float64, 3}}, Float64, FieldBoundaryConditions{BoundaryCondition{Flux, Nothing}, BoundaryCondition{Flux, Nothing}, Nothing, Nothing, BoundaryCondition{Flux, Nothing}, BoundaryCondition{Flux, Nothing}, BoundaryCondition{Flux, Nothing}}, Nothing, Nothing}}, @NamedTuple{pNHS::Field{Center, Center, Center, Nothing, RectilinearGrid{Float64, Bounded, Flat, Bounded, Oceananigans.Grids.StaticVerticalDiscretization{OffsetArrays.OffsetVector{Float64, StepRangeLen{Float64, Base.TwicePrecision{Float64}, Base.TwicePrecision{Float64}, Int64}}, OffsetArrays.OffsetVector{Float64, StepRangeLen{Float64, Base.TwicePrecision{Float64}, Base.TwicePrecision{Float64}, Int64}}, Float64, Float64}, Float64, Float64, OffsetArrays.OffsetVector{Float64, StepRangeLen{Float64, Base.TwicePrecision{Float64}, Base.TwicePrecision{Float64}, Int64}}, Nothing, CPU}, Tuple{Colon, Colon, Colon}, OffsetArrays.OffsetArray{Float64, 3, Array{Float64, 3}}, Float64, FieldBoundaryConditions{BoundaryCondition{Flux, Nothing}, BoundaryCondition{Flux, Nothing}, Nothing, Nothing, BoundaryCondition{Flux, Nothing}, BoundaryCondition{Flux, Nothing}, BoundaryCondition{Flux, Nothing}}, Nothing, Nothing}, pHY′::Field{Center, Center, Center, Nothing, RectilinearGrid{Float64, Bounded, Flat, Bounded, Oceananigans.Grids.StaticVerticalDiscretization{OffsetArrays.OffsetVector{Float64, StepRangeLen{Float64, Base.TwicePrecision{Float64}, Base.TwicePrecision{Float64}, Int64}}, OffsetArrays.OffsetVector{Float64, StepRangeLen{Float64, Base.TwicePrecision{Float64}, Base.TwicePrecision{Float64}, Int64}}, Float64, Float64}, Float64, Float64, OffsetArrays.OffsetVector{Float64, StepRangeLen{Float64, Base.TwicePrecision{Float64}, Base.TwicePrecision{Float64}, Int64}}, Nothing, CPU}, Tuple{Colon, Colon, Colon}, OffsetArrays.OffsetArray{Float64, 3, Array{Float64, 3}}, Float64, FieldBoundaryConditions{BoundaryCondition{Flux, Nothing}, BoundaryCondition{Flux, Nothing}, Nothing, Nothing, BoundaryCondition{Flux, Nothing}, BoundaryCondition{Flux, Nothing}, BoundaryCondition{Flux, Nothing}}, Nothing, Nothing}}, @NamedTuple{u::AdvectiveForcing{StepRangeLen{Float64, Base.TwicePrecision{Float64}, Base.TwicePrecision{Float64}, Int64}, Oceananigans.Fields.ZeroField{Int64, 3}, Oceananigans.Fields.ZeroField{Int64, 3}}, v::Oceananigans.Forcings.MultipleForcings{2, Tuple{AdvectiveForcing{StepRangeLen{Float64, Base.TwicePrecision{Float64}, Base.TwicePrecision{Float64}, Int64}, Oceananigans.Fields.ZeroField{Int64, 3}, Oceananigans.Fields.ZeroField{Int64, 3}}, Oceananigans.Forcings.ContinuousForcing{Center, Face, Center, Float64, typeof(v_forcing_func), Tuple{Symbol}, Tuple{Int64}, Tuple{typeof(Oceananigans.Operators.identity3)}}}}, w::Oceananigans.Forcings.MultipleForcings{2, Tuple{AdvectiveForcing{StepRangeLen{Float64, Base.TwicePrecision{Float64}, Base.TwicePrecision{Float64}, Int64}, Oceananigans.Fields.ZeroField{Int64, 3}, Oceananigans.Fields.ZeroField{Int64, 3}}, Oceananigans.Forcings.ContinuousForcing{Center, Center, Face, Float64, typeof(w_forcing_func), Tuple{Symbol}, Tuple{Int64}, Tuple{typeof(Oceananigans.Operators.identity4)}}}}, b::Oceananigans.Forcings.MultipleForcings{2, Tuple{AdvectiveForcing{StepRangeLen{Float64, Base.TwicePrecision{Float64}, Base.TwicePrecision{Float64}, Int64}, Oceananigans.Fields.ZeroField{Int64, 3}, Oceananigans.Fields.ZeroField{Int64, 3}}, Oceananigans.Forcings.ContinuousForcing{Center, Center, Center, Float64, typeof(b_forcing_func), Tuple{Symbol}, Tuple{Int64}, Tuple{typeof(Oceananigans.Operators.identity5)}}}}}, WENO{3, Float64, Float32, Nothing, WENO{2, Float64, Float32, Nothing, UpwindBiased{1, Float64, Nothing, Centered{1, Float64, Nothing}}, Centered{1, Float64, Nothing}}, Centered{2, Float64, Centered{1, Float64, Nothing}}}, Oceananigans.Solvers.FFTBasedPoissonSolver{RectilinearGrid{Float64, Bounded, Flat, Bounded, Oceananigans.Grids.StaticVerticalDiscretization{OffsetArrays.OffsetVector{Float64, StepRangeLen{Float64, Base.TwicePrecision{Float64}, Base.TwicePrecision{Float64}, Int64}}, OffsetArrays.OffsetVector{Float64, StepRangeLen{Float64, Base.TwicePrecision{Float64}, Base.TwicePrecision{Float64}, Int64}}, Float64, Float64}, Float64, Float64, OffsetArrays.OffsetVector{Float64, StepRangeLen{Float64, Base.TwicePrecision{Float64}, Base.TwicePrecision{Float64}, Int64}}, Nothing, CPU}, @NamedTuple{λx::Array{Float64, 3}, λy::Array{Float64, 3}, λz::Array{Float64, 3}}, Array{ComplexF64, 3}, Nothing, @NamedTuple{forward::Tuple{Oceananigans.Solvers.DiscreteTransform{FFTW.r2rFFTWPlan{ComplexF64, Vector{Int32}, true, 3, Vector{Int64}}, Oceananigans.Solvers.Forward, RectilinearGrid{Float64, Bounded, Flat, Bounded, Oceananigans.Grids.StaticVerticalDiscretization{OffsetArrays.OffsetVector{Float64, StepRangeLen{Float64, Base.TwicePrecision{Float64}, Base.TwicePrecision{Float64}, Int64}}, OffsetArrays.OffsetVector{Float64, StepRangeLen{Float64, Base.TwicePrecision{Float64}, Base.TwicePrecision{Float64}, Int64}}, Float64, Float64}, Float64, Float64, OffsetArrays.OffsetVector{Float64, StepRangeLen{Float64, Base.TwicePrecision{Float64}, Base.TwicePrecision{Float64}, Int64}}, Nothing, CPU}, Vector{Int64}, Vector{Bounded}, Int64, Nothing, Nothing}, Oceananigans.Solvers.DiscreteTransform{Nothing, Nothing, Nothing, Nothing, Nothing, Nothing, Nothing, Nothing}}, backward::Tuple{Oceananigans.Solvers.DiscreteTransform{Nothing, Nothing, Nothing, Nothing, Nothing, Nothing, Nothing, Nothing}, Oceananigans.Solvers.DiscreteTransform{FFTW.r2rFFTWPlan{ComplexF64, Vector{Int32}, true, 3, Vector{Int64}}, Oceananigans.Solvers.Backward, RectilinearGrid{Float64, Bounded, Flat, Bounded, Oceananigans.Grids.StaticVerticalDiscretization{OffsetArrays.OffsetVector{Float64, StepRangeLen{Float64, Base.TwicePrecision{Float64}, Base.TwicePrecision{Float64}, Int64}}, OffsetArrays.OffsetVector{Float64, StepRangeLen{Float64, Base.TwicePrecision{Float64}, Base.TwicePrecision{Float64}, Int64}}, Float64, Float64}, Float64, Float64, OffsetArrays.OffsetVector{Float64, StepRangeLen{Float64, Base.TwicePrecision{Float64}, Base.TwicePrecision{Float64}, Int64}}, Nothing, CPU}, Vector{Int64}, Vector{Bounded}, Float64, Nothing, Nothing}}}}, Nothing, Oceananigans.Models.NonhydrostaticModels.BackgroundFields{false, @NamedTuple{u::Oceananigans.Fields.ZeroField{Int64, 3}, v::Oceananigans.Fields.ZeroField{Int64, 3}, w::Oceananigans.Fields.ZeroField{Int64, 3}}, @NamedTuple{b::Oceananigans.Fields.ZeroField{Int64, 3}}}, Nothing, Nothing, @NamedTuple{}}, Float64, Float64, OrderedCollections.OrderedDict{Symbol, Oceananigans.AbstractDiagnostic}, OrderedCollections.OrderedDict{Symbol, Oceananigans.AbstractOutputWriter}, OrderedCollections.OrderedDict{Symbol, Callback}, Float64, Bool}\u001b[39m\u001b[0m\u001b[1m)\u001b[22m",
      "\u001b[90m    @\u001b[39m \u001b[32mOceananigans.Simulations\u001b[39m \u001b[90mC:\\Users\\Tom Cummings\\.julia\\packages\\Oceananigans\\3ZIHr\\src\\Simulations\\\u001b[39m\u001b[90m\u001b[4mrun.jl:162\u001b[24m\u001b[39m",
      "  [8] \u001b[0m\u001b[1mrun!\u001b[22m\u001b[0m\u001b[1m(\u001b[22m\u001b[90msim\u001b[39m::\u001b[0mSimulation\u001b[90m{NonhydrostaticModel{Oceananigans.TimeSteppers.RungeKutta3TimeStepper{Float64, @NamedTuple{u::Field{Face, Center, Center, Nothing, RectilinearGrid{Float64, Bounded, Flat, Bounded, Oceananigans.Grids.StaticVerticalDiscretization{OffsetArrays.OffsetVector{Float64, StepRangeLen{Float64, Base.TwicePrecision{Float64}, Base.TwicePrecision{Float64}, Int64}}, OffsetArrays.OffsetVector{Float64, StepRangeLen{Float64, Base.TwicePrecision{Float64}, Base.TwicePrecision{Float64}, Int64}}, Float64, Float64}, Float64, Float64, OffsetArrays.OffsetVector{Float64, StepRangeLen{Float64, Base.TwicePrecision{Float64}, Base.TwicePrecision{Float64}, Int64}}, Nothing, CPU}, Tuple{Colon, Colon, Colon}, OffsetArrays.OffsetArray{Float64, 3, Array{Float64, 3}}, Float64, FieldBoundaryConditions{Nothing, Nothing, Nothing, Nothing, BoundaryCondition{Flux, Nothing}, BoundaryCondition{Flux, Nothing}, BoundaryCondition{Flux, Nothing}}, Nothing, Nothing}, v::Field{Center, Face, Center, Nothing, RectilinearGrid{Float64, Bounded, Flat, Bounded, Oceananigans.Grids.StaticVerticalDiscretization{OffsetArrays.OffsetVector{Float64, StepRangeLen{Float64, Base.TwicePrecision{Float64}, Base.TwicePrecision{Float64}, Int64}}, OffsetArrays.OffsetVector{Float64, StepRangeLen{Float64, Base.TwicePrecision{Float64}, Base.TwicePrecision{Float64}, Int64}}, Float64, Float64}, Float64, Float64, OffsetArrays.OffsetVector{Float64, StepRangeLen{Float64, Base.TwicePrecision{Float64}, Base.TwicePrecision{Float64}, Int64}}, Nothing, CPU}, Tuple{Colon, Colon, Colon}, OffsetArrays.OffsetArray{Float64, 3, Array{Float64, 3}}, Float64, FieldBoundaryConditions{BoundaryCondition{Flux, Nothing}, BoundaryCondition{Flux, Nothing}, Nothing, Nothing, BoundaryCondition{Flux, Nothing}, BoundaryCondition{Flux, Nothing}, BoundaryCondition{Flux, Nothing}}, Nothing, Nothing}, w::Field{Center, Center, Face, Nothing, RectilinearGrid{Float64, Bounded, Flat, Bounded, Oceananigans.Grids.StaticVerticalDiscretization{OffsetArrays.OffsetVector{Float64, StepRangeLen{Float64, Base.TwicePrecision{Float64}, Base.TwicePrecision{Float64}, Int64}}, OffsetArrays.OffsetVector{Float64, StepRangeLen{Float64, Base.TwicePrecision{Float64}, Base.TwicePrecision{Float64}, Int64}}, Float64, Float64}, Float64, Float64, OffsetArrays.OffsetVector{Float64, StepRangeLen{Float64, Base.TwicePrecision{Float64}, Base.TwicePrecision{Float64}, Int64}}, Nothing, CPU}, Tuple{Colon, Colon, Colon}, OffsetArrays.OffsetArray{Float64, 3, Array{Float64, 3}}, Float64, FieldBoundaryConditions{BoundaryCondition{Flux, Nothing}, BoundaryCondition{Flux, Nothing}, Nothing, Nothing, Nothing, Nothing, BoundaryCondition{Flux, Nothing}}, Nothing, Nothing}, b::Field{Center, Center, Center, Nothing, RectilinearGrid{Float64, Bounded, Flat, Bounded, Oceananigans.Grids.StaticVerticalDiscretization{OffsetArrays.OffsetVector{Float64, StepRangeLen{Float64, Base.TwicePrecision{Float64}, Base.TwicePrecision{Float64}, Int64}}, OffsetArrays.OffsetVector{Float64, StepRangeLen{Float64, Base.TwicePrecision{Float64}, Base.TwicePrecision{Float64}, Int64}}, Float64, Float64}, Float64, Float64, OffsetArrays.OffsetVector{Float64, StepRangeLen{Float64, Base.TwicePrecision{Float64}, Base.TwicePrecision{Float64}, Int64}}, Nothing, CPU}, Tuple{Colon, Colon, Colon}, OffsetArrays.OffsetArray{Float64, 3, Array{Float64, 3}}, Float64, FieldBoundaryConditions{BoundaryCondition{Flux, Nothing}, BoundaryCondition{Flux, Nothing}, Nothing, Nothing, BoundaryCondition{Flux, Nothing}, BoundaryCondition{Flux, Nothing}, BoundaryCondition{Flux, Nothing}}, Nothing, Nothing}}, Nothing}, Nothing, CPU, RectilinearGrid{Float64, Bounded, Flat, Bounded, Oceananigans.Grids.StaticVerticalDiscretization{OffsetArrays.OffsetVector{Float64, StepRangeLen{Float64, Base.TwicePrecision{Float64}, Base.TwicePrecision{Float64}, Int64}}, OffsetArrays.OffsetVector{Float64, StepRangeLen{Float64, Base.TwicePrecision{Float64}, Base.TwicePrecision{Float64}, Int64}}, Float64, Float64}, Float64, Float64, OffsetArrays.OffsetVector{Float64, StepRangeLen{Float64, Base.TwicePrecision{Float64}, Base.TwicePrecision{Float64}, Int64}}, Nothing, CPU}, Float64, BuoyancyForce{BuoyancyTracer, Oceananigans.Grids.NegativeZDirection}, FPlane{Float64}, Nothing, @NamedTuple{u::Field{Face, Center, Center, Nothing, RectilinearGrid{Float64, Bounded, Flat, Bounded, Oceananigans.Grids.StaticVerticalDiscretization{OffsetArrays.OffsetVector{Float64, StepRangeLen{Float64, Base.TwicePrecision{Float64}, Base.TwicePrecision{Float64}, Int64}}, OffsetArrays.OffsetVector{Float64, StepRangeLen{Float64, Base.TwicePrecision{Float64}, Base.TwicePrecision{Float64}, Int64}}, Float64, Float64}, Float64, Float64, OffsetArrays.OffsetVector{Float64, StepRangeLen{Float64, Base.TwicePrecision{Float64}, Base.TwicePrecision{Float64}, Int64}}, Nothing, CPU}, Tuple{Colon, Colon, Colon}, OffsetArrays.OffsetArray{Float64, 3, Array{Float64, 3}}, Float64, FieldBoundaryConditions{BoundaryCondition{Open{Nothing}, Nothing}, BoundaryCondition{Open{Nothing}, Nothing}, Nothing, Nothing, BoundaryCondition{Flux, Nothing}, BoundaryCondition{Flux, Nothing}, BoundaryCondition{Flux, Nothing}}, Nothing, Nothing}, v::Field{Center, Face, Center, Nothing, RectilinearGrid{Float64, Bounded, Flat, Bounded, Oceananigans.Grids.StaticVerticalDiscretization{OffsetArrays.OffsetVector{Float64, StepRangeLen{Float64, Base.TwicePrecision{Float64}, Base.TwicePrecision{Float64}, Int64}}, OffsetArrays.OffsetVector{Float64, StepRangeLen{Float64, Base.TwicePrecision{Float64}, Base.TwicePrecision{Float64}, Int64}}, Float64, Float64}, Float64, Float64, OffsetArrays.OffsetVector{Float64, StepRangeLen{Float64, Base.TwicePrecision{Float64}, Base.TwicePrecision{Float64}, Int64}}, Nothing, CPU}, Tuple{Colon, Colon, Colon}, OffsetArrays.OffsetArray{Float64, 3, Array{Float64, 3}}, Float64, FieldBoundaryConditions{BoundaryCondition{Flux, Nothing}, BoundaryCondition{Flux, Nothing}, Nothing, Nothing, BoundaryCondition{Flux, Nothing}, BoundaryCondition{Flux, Nothing}, BoundaryCondition{Flux, Nothing}}, Nothing, Nothing}, w::Field{Center, Center, Face, Nothing, RectilinearGrid{Float64, Bounded, Flat, Bounded, Oceananigans.Grids.StaticVerticalDiscretization{OffsetArrays.OffsetVector{Float64, StepRangeLen{Float64, Base.TwicePrecision{Float64}, Base.TwicePrecision{Float64}, Int64}}, OffsetArrays.OffsetVector{Float64, StepRangeLen{Float64, Base.TwicePrecision{Float64}, Base.TwicePrecision{Float64}, Int64}}, Float64, Float64}, Float64, Float64, OffsetArrays.OffsetVector{Float64, StepRangeLen{Float64, Base.TwicePrecision{Float64}, Base.TwicePrecision{Float64}, Int64}}, Nothing, CPU}, Tuple{Colon, Colon, Colon}, OffsetArrays.OffsetArray{Float64, 3, Array{Float64, 3}}, Float64, FieldBoundaryConditions{BoundaryCondition{Flux, Nothing}, BoundaryCondition{Flux, Nothing}, Nothing, Nothing, BoundaryCondition{Open{Nothing}, Nothing}, BoundaryCondition{Open{Nothing}, Nothing}, BoundaryCondition{Flux, Nothing}}, Nothing, Nothing}}, @NamedTuple{b::Field{Center, Center, Center, Nothing, RectilinearGrid{Float64, Bounded, Flat, Bounded, Oceananigans.Grids.StaticVerticalDiscretization{OffsetArrays.OffsetVector{Float64, StepRangeLen{Float64, Base.TwicePrecision{Float64}, Base.TwicePrecision{Float64}, Int64}}, OffsetArrays.OffsetVector{Float64, StepRangeLen{Float64, Base.TwicePrecision{Float64}, Base.TwicePrecision{Float64}, Int64}}, Float64, Float64}, Float64, Float64, OffsetArrays.OffsetVector{Float64, StepRangeLen{Float64, Base.TwicePrecision{Float64}, Base.TwicePrecision{Float64}, Int64}}, Nothing, CPU}, Tuple{Colon, Colon, Colon}, OffsetArrays.OffsetArray{Float64, 3, Array{Float64, 3}}, Float64, FieldBoundaryConditions{BoundaryCondition{Flux, Nothing}, BoundaryCondition{Flux, Nothing}, Nothing, Nothing, BoundaryCondition{Flux, Nothing}, BoundaryCondition{Flux, Nothing}, BoundaryCondition{Flux, Nothing}}, Nothing, Nothing}}, @NamedTuple{pNHS::Field{Center, Center, Center, Nothing, RectilinearGrid{Float64, Bounded, Flat, Bounded, Oceananigans.Grids.StaticVerticalDiscretization{OffsetArrays.OffsetVector{Float64, StepRangeLen{Float64, Base.TwicePrecision{Float64}, Base.TwicePrecision{Float64}, Int64}}, OffsetArrays.OffsetVector{Float64, StepRangeLen{Float64, Base.TwicePrecision{Float64}, Base.TwicePrecision{Float64}, Int64}}, Float64, Float64}, Float64, Float64, OffsetArrays.OffsetVector{Float64, StepRangeLen{Float64, Base.TwicePrecision{Float64}, Base.TwicePrecision{Float64}, Int64}}, Nothing, CPU}, Tuple{Colon, Colon, Colon}, OffsetArrays.OffsetArray{Float64, 3, Array{Float64, 3}}, Float64, FieldBoundaryConditions{BoundaryCondition{Flux, Nothing}, BoundaryCondition{Flux, Nothing}, Nothing, Nothing, BoundaryCondition{Flux, Nothing}, BoundaryCondition{Flux, Nothing}, BoundaryCondition{Flux, Nothing}}, Nothing, Nothing}, pHY′::Field{Center, Center, Center, Nothing, RectilinearGrid{Float64, Bounded, Flat, Bounded, Oceananigans.Grids.StaticVerticalDiscretization{OffsetArrays.OffsetVector{Float64, StepRangeLen{Float64, Base.TwicePrecision{Float64}, Base.TwicePrecision{Float64}, Int64}}, OffsetArrays.OffsetVector{Float64, StepRangeLen{Float64, Base.TwicePrecision{Float64}, Base.TwicePrecision{Float64}, Int64}}, Float64, Float64}, Float64, Float64, OffsetArrays.OffsetVector{Float64, StepRangeLen{Float64, Base.TwicePrecision{Float64}, Base.TwicePrecision{Float64}, Int64}}, Nothing, CPU}, Tuple{Colon, Colon, Colon}, OffsetArrays.OffsetArray{Float64, 3, Array{Float64, 3}}, Float64, FieldBoundaryConditions{BoundaryCondition{Flux, Nothing}, BoundaryCondition{Flux, Nothing}, Nothing, Nothing, BoundaryCondition{Flux, Nothing}, BoundaryCondition{Flux, Nothing}, BoundaryCondition{Flux, Nothing}}, Nothing, Nothing}}, @NamedTuple{u::AdvectiveForcing{StepRangeLen{Float64, Base.TwicePrecision{Float64}, Base.TwicePrecision{Float64}, Int64}, Oceananigans.Fields.ZeroField{Int64, 3}, Oceananigans.Fields.ZeroField{Int64, 3}}, v::Oceananigans.Forcings.MultipleForcings{2, Tuple{AdvectiveForcing{StepRangeLen{Float64, Base.TwicePrecision{Float64}, Base.TwicePrecision{Float64}, Int64}, Oceananigans.Fields.ZeroField{Int64, 3}, Oceananigans.Fields.ZeroField{Int64, 3}}, Oceananigans.Forcings.ContinuousForcing{Center, Face, Center, Float64, typeof(v_forcing_func), Tuple{Symbol}, Tuple{Int64}, Tuple{typeof(Oceananigans.Operators.identity3)}}}}, w::Oceananigans.Forcings.MultipleForcings{2, Tuple{AdvectiveForcing{StepRangeLen{Float64, Base.TwicePrecision{Float64}, Base.TwicePrecision{Float64}, Int64}, Oceananigans.Fields.ZeroField{Int64, 3}, Oceananigans.Fields.ZeroField{Int64, 3}}, Oceananigans.Forcings.ContinuousForcing{Center, Center, Face, Float64, typeof(w_forcing_func), Tuple{Symbol}, Tuple{Int64}, Tuple{typeof(Oceananigans.Operators.identity4)}}}}, b::Oceananigans.Forcings.MultipleForcings{2, Tuple{AdvectiveForcing{StepRangeLen{Float64, Base.TwicePrecision{Float64}, Base.TwicePrecision{Float64}, Int64}, Oceananigans.Fields.ZeroField{Int64, 3}, Oceananigans.Fields.ZeroField{Int64, 3}}, Oceananigans.Forcings.ContinuousForcing{Center, Center, Center, Float64, typeof(b_forcing_func), Tuple{Symbol}, Tuple{Int64}, Tuple{typeof(Oceananigans.Operators.identity5)}}}}}, WENO{3, Float64, Float32, Nothing, WENO{2, Float64, Float32, Nothing, UpwindBiased{1, Float64, Nothing, Centered{1, Float64, Nothing}}, Centered{1, Float64, Nothing}}, Centered{2, Float64, Centered{1, Float64, Nothing}}}, Oceananigans.Solvers.FFTBasedPoissonSolver{RectilinearGrid{Float64, Bounded, Flat, Bounded, Oceananigans.Grids.StaticVerticalDiscretization{OffsetArrays.OffsetVector{Float64, StepRangeLen{Float64, Base.TwicePrecision{Float64}, Base.TwicePrecision{Float64}, Int64}}, OffsetArrays.OffsetVector{Float64, StepRangeLen{Float64, Base.TwicePrecision{Float64}, Base.TwicePrecision{Float64}, Int64}}, Float64, Float64}, Float64, Float64, OffsetArrays.OffsetVector{Float64, StepRangeLen{Float64, Base.TwicePrecision{Float64}, Base.TwicePrecision{Float64}, Int64}}, Nothing, CPU}, @NamedTuple{λx::Array{Float64, 3}, λy::Array{Float64, 3}, λz::Array{Float64, 3}}, Array{ComplexF64, 3}, Nothing, @NamedTuple{forward::Tuple{Oceananigans.Solvers.DiscreteTransform{FFTW.r2rFFTWPlan{ComplexF64, Vector{Int32}, true, 3, Vector{Int64}}, Oceananigans.Solvers.Forward, RectilinearGrid{Float64, Bounded, Flat, Bounded, Oceananigans.Grids.StaticVerticalDiscretization{OffsetArrays.OffsetVector{Float64, StepRangeLen{Float64, Base.TwicePrecision{Float64}, Base.TwicePrecision{Float64}, Int64}}, OffsetArrays.OffsetVector{Float64, StepRangeLen{Float64, Base.TwicePrecision{Float64}, Base.TwicePrecision{Float64}, Int64}}, Float64, Float64}, Float64, Float64, OffsetArrays.OffsetVector{Float64, StepRangeLen{Float64, Base.TwicePrecision{Float64}, Base.TwicePrecision{Float64}, Int64}}, Nothing, CPU}, Vector{Int64}, Vector{Bounded}, Int64, Nothing, Nothing}, Oceananigans.Solvers.DiscreteTransform{Nothing, Nothing, Nothing, Nothing, Nothing, Nothing, Nothing, Nothing}}, backward::Tuple{Oceananigans.Solvers.DiscreteTransform{Nothing, Nothing, Nothing, Nothing, Nothing, Nothing, Nothing, Nothing}, Oceananigans.Solvers.DiscreteTransform{FFTW.r2rFFTWPlan{ComplexF64, Vector{Int32}, true, 3, Vector{Int64}}, Oceananigans.Solvers.Backward, RectilinearGrid{Float64, Bounded, Flat, Bounded, Oceananigans.Grids.StaticVerticalDiscretization{OffsetArrays.OffsetVector{Float64, StepRangeLen{Float64, Base.TwicePrecision{Float64}, Base.TwicePrecision{Float64}, Int64}}, OffsetArrays.OffsetVector{Float64, StepRangeLen{Float64, Base.TwicePrecision{Float64}, Base.TwicePrecision{Float64}, Int64}}, Float64, Float64}, Float64, Float64, OffsetArrays.OffsetVector{Float64, StepRangeLen{Float64, Base.TwicePrecision{Float64}, Base.TwicePrecision{Float64}, Int64}}, Nothing, CPU}, Vector{Int64}, Vector{Bounded}, Float64, Nothing, Nothing}}}}, Nothing, Oceananigans.Models.NonhydrostaticModels.BackgroundFields{false, @NamedTuple{u::Oceananigans.Fields.ZeroField{Int64, 3}, v::Oceananigans.Fields.ZeroField{Int64, 3}, w::Oceananigans.Fields.ZeroField{Int64, 3}}, @NamedTuple{b::Oceananigans.Fields.ZeroField{Int64, 3}}}, Nothing, Nothing, @NamedTuple{}}, Float64, Float64, OrderedCollections.OrderedDict{Symbol, Oceananigans.AbstractDiagnostic}, OrderedCollections.OrderedDict{Symbol, Oceananigans.AbstractOutputWriter}, OrderedCollections.OrderedDict{Symbol, Callback}, Float64, Bool}\u001b[39m; \u001b[90mpickup\u001b[39m::\u001b[0mBool\u001b[0m\u001b[1m)\u001b[22m",
      "\u001b[90m    @\u001b[39m \u001b[32mOceananigans.Simulations\u001b[39m \u001b[90mC:\\Users\\Tom Cummings\\.julia\\packages\\Oceananigans\\3ZIHr\\src\\Simulations\\\u001b[39m\u001b[90m\u001b[4mrun.jl:105\u001b[24m\u001b[39m",
      "  [9] \u001b[0m\u001b[1mrun!\u001b[22m\u001b[0m\u001b[1m(\u001b[22m\u001b[90msim\u001b[39m::\u001b[0mSimulation\u001b[90m{NonhydrostaticModel{Oceananigans.TimeSteppers.RungeKutta3TimeStepper{Float64, @NamedTuple{u::Field{Face, Center, Center, Nothing, RectilinearGrid{Float64, Bounded, Flat, Bounded, Oceananigans.Grids.StaticVerticalDiscretization{OffsetArrays.OffsetVector{Float64, StepRangeLen{Float64, Base.TwicePrecision{Float64}, Base.TwicePrecision{Float64}, Int64}}, OffsetArrays.OffsetVector{Float64, StepRangeLen{Float64, Base.TwicePrecision{Float64}, Base.TwicePrecision{Float64}, Int64}}, Float64, Float64}, Float64, Float64, OffsetArrays.OffsetVector{Float64, StepRangeLen{Float64, Base.TwicePrecision{Float64}, Base.TwicePrecision{Float64}, Int64}}, Nothing, CPU}, Tuple{Colon, Colon, Colon}, OffsetArrays.OffsetArray{Float64, 3, Array{Float64, 3}}, Float64, FieldBoundaryConditions{Nothing, Nothing, Nothing, Nothing, BoundaryCondition{Flux, Nothing}, BoundaryCondition{Flux, Nothing}, BoundaryCondition{Flux, Nothing}}, Nothing, Nothing}, v::Field{Center, Face, Center, Nothing, RectilinearGrid{Float64, Bounded, Flat, Bounded, Oceananigans.Grids.StaticVerticalDiscretization{OffsetArrays.OffsetVector{Float64, StepRangeLen{Float64, Base.TwicePrecision{Float64}, Base.TwicePrecision{Float64}, Int64}}, OffsetArrays.OffsetVector{Float64, StepRangeLen{Float64, Base.TwicePrecision{Float64}, Base.TwicePrecision{Float64}, Int64}}, Float64, Float64}, Float64, Float64, OffsetArrays.OffsetVector{Float64, StepRangeLen{Float64, Base.TwicePrecision{Float64}, Base.TwicePrecision{Float64}, Int64}}, Nothing, CPU}, Tuple{Colon, Colon, Colon}, OffsetArrays.OffsetArray{Float64, 3, Array{Float64, 3}}, Float64, FieldBoundaryConditions{BoundaryCondition{Flux, Nothing}, BoundaryCondition{Flux, Nothing}, Nothing, Nothing, BoundaryCondition{Flux, Nothing}, BoundaryCondition{Flux, Nothing}, BoundaryCondition{Flux, Nothing}}, Nothing, Nothing}, w::Field{Center, Center, Face, Nothing, RectilinearGrid{Float64, Bounded, Flat, Bounded, Oceananigans.Grids.StaticVerticalDiscretization{OffsetArrays.OffsetVector{Float64, StepRangeLen{Float64, Base.TwicePrecision{Float64}, Base.TwicePrecision{Float64}, Int64}}, OffsetArrays.OffsetVector{Float64, StepRangeLen{Float64, Base.TwicePrecision{Float64}, Base.TwicePrecision{Float64}, Int64}}, Float64, Float64}, Float64, Float64, OffsetArrays.OffsetVector{Float64, StepRangeLen{Float64, Base.TwicePrecision{Float64}, Base.TwicePrecision{Float64}, Int64}}, Nothing, CPU}, Tuple{Colon, Colon, Colon}, OffsetArrays.OffsetArray{Float64, 3, Array{Float64, 3}}, Float64, FieldBoundaryConditions{BoundaryCondition{Flux, Nothing}, BoundaryCondition{Flux, Nothing}, Nothing, Nothing, Nothing, Nothing, BoundaryCondition{Flux, Nothing}}, Nothing, Nothing}, b::Field{Center, Center, Center, Nothing, RectilinearGrid{Float64, Bounded, Flat, Bounded, Oceananigans.Grids.StaticVerticalDiscretization{OffsetArrays.OffsetVector{Float64, StepRangeLen{Float64, Base.TwicePrecision{Float64}, Base.TwicePrecision{Float64}, Int64}}, OffsetArrays.OffsetVector{Float64, StepRangeLen{Float64, Base.TwicePrecision{Float64}, Base.TwicePrecision{Float64}, Int64}}, Float64, Float64}, Float64, Float64, OffsetArrays.OffsetVector{Float64, StepRangeLen{Float64, Base.TwicePrecision{Float64}, Base.TwicePrecision{Float64}, Int64}}, Nothing, CPU}, Tuple{Colon, Colon, Colon}, OffsetArrays.OffsetArray{Float64, 3, Array{Float64, 3}}, Float64, FieldBoundaryConditions{BoundaryCondition{Flux, Nothing}, BoundaryCondition{Flux, Nothing}, Nothing, Nothing, BoundaryCondition{Flux, Nothing}, BoundaryCondition{Flux, Nothing}, BoundaryCondition{Flux, Nothing}}, Nothing, Nothing}}, Nothing}, Nothing, CPU, RectilinearGrid{Float64, Bounded, Flat, Bounded, Oceananigans.Grids.StaticVerticalDiscretization{OffsetArrays.OffsetVector{Float64, StepRangeLen{Float64, Base.TwicePrecision{Float64}, Base.TwicePrecision{Float64}, Int64}}, OffsetArrays.OffsetVector{Float64, StepRangeLen{Float64, Base.TwicePrecision{Float64}, Base.TwicePrecision{Float64}, Int64}}, Float64, Float64}, Float64, Float64, OffsetArrays.OffsetVector{Float64, StepRangeLen{Float64, Base.TwicePrecision{Float64}, Base.TwicePrecision{Float64}, Int64}}, Nothing, CPU}, Float64, BuoyancyForce{BuoyancyTracer, Oceananigans.Grids.NegativeZDirection}, FPlane{Float64}, Nothing, @NamedTuple{u::Field{Face, Center, Center, Nothing, RectilinearGrid{Float64, Bounded, Flat, Bounded, Oceananigans.Grids.StaticVerticalDiscretization{OffsetArrays.OffsetVector{Float64, StepRangeLen{Float64, Base.TwicePrecision{Float64}, Base.TwicePrecision{Float64}, Int64}}, OffsetArrays.OffsetVector{Float64, StepRangeLen{Float64, Base.TwicePrecision{Float64}, Base.TwicePrecision{Float64}, Int64}}, Float64, Float64}, Float64, Float64, OffsetArrays.OffsetVector{Float64, StepRangeLen{Float64, Base.TwicePrecision{Float64}, Base.TwicePrecision{Float64}, Int64}}, Nothing, CPU}, Tuple{Colon, Colon, Colon}, OffsetArrays.OffsetArray{Float64, 3, Array{Float64, 3}}, Float64, FieldBoundaryConditions{BoundaryCondition{Open{Nothing}, Nothing}, BoundaryCondition{Open{Nothing}, Nothing}, Nothing, Nothing, BoundaryCondition{Flux, Nothing}, BoundaryCondition{Flux, Nothing}, BoundaryCondition{Flux, Nothing}}, Nothing, Nothing}, v::Field{Center, Face, Center, Nothing, RectilinearGrid{Float64, Bounded, Flat, Bounded, Oceananigans.Grids.StaticVerticalDiscretization{OffsetArrays.OffsetVector{Float64, StepRangeLen{Float64, Base.TwicePrecision{Float64}, Base.TwicePrecision{Float64}, Int64}}, OffsetArrays.OffsetVector{Float64, StepRangeLen{Float64, Base.TwicePrecision{Float64}, Base.TwicePrecision{Float64}, Int64}}, Float64, Float64}, Float64, Float64, OffsetArrays.OffsetVector{Float64, StepRangeLen{Float64, Base.TwicePrecision{Float64}, Base.TwicePrecision{Float64}, Int64}}, Nothing, CPU}, Tuple{Colon, Colon, Colon}, OffsetArrays.OffsetArray{Float64, 3, Array{Float64, 3}}, Float64, FieldBoundaryConditions{BoundaryCondition{Flux, Nothing}, BoundaryCondition{Flux, Nothing}, Nothing, Nothing, BoundaryCondition{Flux, Nothing}, BoundaryCondition{Flux, Nothing}, BoundaryCondition{Flux, Nothing}}, Nothing, Nothing}, w::Field{Center, Center, Face, Nothing, RectilinearGrid{Float64, Bounded, Flat, Bounded, Oceananigans.Grids.StaticVerticalDiscretization{OffsetArrays.OffsetVector{Float64, StepRangeLen{Float64, Base.TwicePrecision{Float64}, Base.TwicePrecision{Float64}, Int64}}, OffsetArrays.OffsetVector{Float64, StepRangeLen{Float64, Base.TwicePrecision{Float64}, Base.TwicePrecision{Float64}, Int64}}, Float64, Float64}, Float64, Float64, OffsetArrays.OffsetVector{Float64, StepRangeLen{Float64, Base.TwicePrecision{Float64}, Base.TwicePrecision{Float64}, Int64}}, Nothing, CPU}, Tuple{Colon, Colon, Colon}, OffsetArrays.OffsetArray{Float64, 3, Array{Float64, 3}}, Float64, FieldBoundaryConditions{BoundaryCondition{Flux, Nothing}, BoundaryCondition{Flux, Nothing}, Nothing, Nothing, BoundaryCondition{Open{Nothing}, Nothing}, BoundaryCondition{Open{Nothing}, Nothing}, BoundaryCondition{Flux, Nothing}}, Nothing, Nothing}}, @NamedTuple{b::Field{Center, Center, Center, Nothing, RectilinearGrid{Float64, Bounded, Flat, Bounded, Oceananigans.Grids.StaticVerticalDiscretization{OffsetArrays.OffsetVector{Float64, StepRangeLen{Float64, Base.TwicePrecision{Float64}, Base.TwicePrecision{Float64}, Int64}}, OffsetArrays.OffsetVector{Float64, StepRangeLen{Float64, Base.TwicePrecision{Float64}, Base.TwicePrecision{Float64}, Int64}}, Float64, Float64}, Float64, Float64, OffsetArrays.OffsetVector{Float64, StepRangeLen{Float64, Base.TwicePrecision{Float64}, Base.TwicePrecision{Float64}, Int64}}, Nothing, CPU}, Tuple{Colon, Colon, Colon}, OffsetArrays.OffsetArray{Float64, 3, Array{Float64, 3}}, Float64, FieldBoundaryConditions{BoundaryCondition{Flux, Nothing}, BoundaryCondition{Flux, Nothing}, Nothing, Nothing, BoundaryCondition{Flux, Nothing}, BoundaryCondition{Flux, Nothing}, BoundaryCondition{Flux, Nothing}}, Nothing, Nothing}}, @NamedTuple{pNHS::Field{Center, Center, Center, Nothing, RectilinearGrid{Float64, Bounded, Flat, Bounded, Oceananigans.Grids.StaticVerticalDiscretization{OffsetArrays.OffsetVector{Float64, StepRangeLen{Float64, Base.TwicePrecision{Float64}, Base.TwicePrecision{Float64}, Int64}}, OffsetArrays.OffsetVector{Float64, StepRangeLen{Float64, Base.TwicePrecision{Float64}, Base.TwicePrecision{Float64}, Int64}}, Float64, Float64}, Float64, Float64, OffsetArrays.OffsetVector{Float64, StepRangeLen{Float64, Base.TwicePrecision{Float64}, Base.TwicePrecision{Float64}, Int64}}, Nothing, CPU}, Tuple{Colon, Colon, Colon}, OffsetArrays.OffsetArray{Float64, 3, Array{Float64, 3}}, Float64, FieldBoundaryConditions{BoundaryCondition{Flux, Nothing}, BoundaryCondition{Flux, Nothing}, Nothing, Nothing, BoundaryCondition{Flux, Nothing}, BoundaryCondition{Flux, Nothing}, BoundaryCondition{Flux, Nothing}}, Nothing, Nothing}, pHY′::Field{Center, Center, Center, Nothing, RectilinearGrid{Float64, Bounded, Flat, Bounded, Oceananigans.Grids.StaticVerticalDiscretization{OffsetArrays.OffsetVector{Float64, StepRangeLen{Float64, Base.TwicePrecision{Float64}, Base.TwicePrecision{Float64}, Int64}}, OffsetArrays.OffsetVector{Float64, StepRangeLen{Float64, Base.TwicePrecision{Float64}, Base.TwicePrecision{Float64}, Int64}}, Float64, Float64}, Float64, Float64, OffsetArrays.OffsetVector{Float64, StepRangeLen{Float64, Base.TwicePrecision{Float64}, Base.TwicePrecision{Float64}, Int64}}, Nothing, CPU}, Tuple{Colon, Colon, Colon}, OffsetArrays.OffsetArray{Float64, 3, Array{Float64, 3}}, Float64, FieldBoundaryConditions{BoundaryCondition{Flux, Nothing}, BoundaryCondition{Flux, Nothing}, Nothing, Nothing, BoundaryCondition{Flux, Nothing}, BoundaryCondition{Flux, Nothing}, BoundaryCondition{Flux, Nothing}}, Nothing, Nothing}}, @NamedTuple{u::AdvectiveForcing{StepRangeLen{Float64, Base.TwicePrecision{Float64}, Base.TwicePrecision{Float64}, Int64}, Oceananigans.Fields.ZeroField{Int64, 3}, Oceananigans.Fields.ZeroField{Int64, 3}}, v::Oceananigans.Forcings.MultipleForcings{2, Tuple{AdvectiveForcing{StepRangeLen{Float64, Base.TwicePrecision{Float64}, Base.TwicePrecision{Float64}, Int64}, Oceananigans.Fields.ZeroField{Int64, 3}, Oceananigans.Fields.ZeroField{Int64, 3}}, Oceananigans.Forcings.ContinuousForcing{Center, Face, Center, Float64, typeof(v_forcing_func), Tuple{Symbol}, Tuple{Int64}, Tuple{typeof(Oceananigans.Operators.identity3)}}}}, w::Oceananigans.Forcings.MultipleForcings{2, Tuple{AdvectiveForcing{StepRangeLen{Float64, Base.TwicePrecision{Float64}, Base.TwicePrecision{Float64}, Int64}, Oceananigans.Fields.ZeroField{Int64, 3}, Oceananigans.Fields.ZeroField{Int64, 3}}, Oceananigans.Forcings.ContinuousForcing{Center, Center, Face, Float64, typeof(w_forcing_func), Tuple{Symbol}, Tuple{Int64}, Tuple{typeof(Oceananigans.Operators.identity4)}}}}, b::Oceananigans.Forcings.MultipleForcings{2, Tuple{AdvectiveForcing{StepRangeLen{Float64, Base.TwicePrecision{Float64}, Base.TwicePrecision{Float64}, Int64}, Oceananigans.Fields.ZeroField{Int64, 3}, Oceananigans.Fields.ZeroField{Int64, 3}}, Oceananigans.Forcings.ContinuousForcing{Center, Center, Center, Float64, typeof(b_forcing_func), Tuple{Symbol}, Tuple{Int64}, Tuple{typeof(Oceananigans.Operators.identity5)}}}}}, WENO{3, Float64, Float32, Nothing, WENO{2, Float64, Float32, Nothing, UpwindBiased{1, Float64, Nothing, Centered{1, Float64, Nothing}}, Centered{1, Float64, Nothing}}, Centered{2, Float64, Centered{1, Float64, Nothing}}}, Oceananigans.Solvers.FFTBasedPoissonSolver{RectilinearGrid{Float64, Bounded, Flat, Bounded, Oceananigans.Grids.StaticVerticalDiscretization{OffsetArrays.OffsetVector{Float64, StepRangeLen{Float64, Base.TwicePrecision{Float64}, Base.TwicePrecision{Float64}, Int64}}, OffsetArrays.OffsetVector{Float64, StepRangeLen{Float64, Base.TwicePrecision{Float64}, Base.TwicePrecision{Float64}, Int64}}, Float64, Float64}, Float64, Float64, OffsetArrays.OffsetVector{Float64, StepRangeLen{Float64, Base.TwicePrecision{Float64}, Base.TwicePrecision{Float64}, Int64}}, Nothing, CPU}, @NamedTuple{λx::Array{Float64, 3}, λy::Array{Float64, 3}, λz::Array{Float64, 3}}, Array{ComplexF64, 3}, Nothing, @NamedTuple{forward::Tuple{Oceananigans.Solvers.DiscreteTransform{FFTW.r2rFFTWPlan{ComplexF64, Vector{Int32}, true, 3, Vector{Int64}}, Oceananigans.Solvers.Forward, RectilinearGrid{Float64, Bounded, Flat, Bounded, Oceananigans.Grids.StaticVerticalDiscretization{OffsetArrays.OffsetVector{Float64, StepRangeLen{Float64, Base.TwicePrecision{Float64}, Base.TwicePrecision{Float64}, Int64}}, OffsetArrays.OffsetVector{Float64, StepRangeLen{Float64, Base.TwicePrecision{Float64}, Base.TwicePrecision{Float64}, Int64}}, Float64, Float64}, Float64, Float64, OffsetArrays.OffsetVector{Float64, StepRangeLen{Float64, Base.TwicePrecision{Float64}, Base.TwicePrecision{Float64}, Int64}}, Nothing, CPU}, Vector{Int64}, Vector{Bounded}, Int64, Nothing, Nothing}, Oceananigans.Solvers.DiscreteTransform{Nothing, Nothing, Nothing, Nothing, Nothing, Nothing, Nothing, Nothing}}, backward::Tuple{Oceananigans.Solvers.DiscreteTransform{Nothing, Nothing, Nothing, Nothing, Nothing, Nothing, Nothing, Nothing}, Oceananigans.Solvers.DiscreteTransform{FFTW.r2rFFTWPlan{ComplexF64, Vector{Int32}, true, 3, Vector{Int64}}, Oceananigans.Solvers.Backward, RectilinearGrid{Float64, Bounded, Flat, Bounded, Oceananigans.Grids.StaticVerticalDiscretization{OffsetArrays.OffsetVector{Float64, StepRangeLen{Float64, Base.TwicePrecision{Float64}, Base.TwicePrecision{Float64}, Int64}}, OffsetArrays.OffsetVector{Float64, StepRangeLen{Float64, Base.TwicePrecision{Float64}, Base.TwicePrecision{Float64}, Int64}}, Float64, Float64}, Float64, Float64, OffsetArrays.OffsetVector{Float64, StepRangeLen{Float64, Base.TwicePrecision{Float64}, Base.TwicePrecision{Float64}, Int64}}, Nothing, CPU}, Vector{Int64}, Vector{Bounded}, Float64, Nothing, Nothing}}}}, Nothing, Oceananigans.Models.NonhydrostaticModels.BackgroundFields{false, @NamedTuple{u::Oceananigans.Fields.ZeroField{Int64, 3}, v::Oceananigans.Fields.ZeroField{Int64, 3}, w::Oceananigans.Fields.ZeroField{Int64, 3}}, @NamedTuple{b::Oceananigans.Fields.ZeroField{Int64, 3}}}, Nothing, Nothing, @NamedTuple{}}, Float64, Float64, OrderedCollections.OrderedDict{Symbol, Oceananigans.AbstractDiagnostic}, OrderedCollections.OrderedDict{Symbol, Oceananigans.AbstractOutputWriter}, OrderedCollections.OrderedDict{Symbol, Callback}, Float64, Bool}\u001b[39m\u001b[0m\u001b[1m)\u001b[22m",
      "\u001b[90m    @\u001b[39m \u001b[32mOceananigans.Simulations\u001b[39m \u001b[90mC:\\Users\\Tom Cummings\\.julia\\packages\\Oceananigans\\3ZIHr\\src\\Simulations\\\u001b[39m\u001b[90m\u001b[4mrun.jl:92\u001b[24m\u001b[39m",
      " [10] top-level scope",
      "\u001b[90m    @\u001b[39m \u001b[90m\u001b[4mIn[74]:3\u001b[24m\u001b[39m"
     ]
    }
   ],
   "source": [
    "@info \"Running the simulation...\"\n",
    "\n",
    "run!(simulation)\n",
    "\n",
    "@info \"Simulation completed in \" * prettytime(simulation.run_wall_time)"
   ]
  },
  {
   "cell_type": "markdown",
   "id": "e5049e04",
   "metadata": {},
   "source": [
    "## Oceananigans Animation\n",
    "(Won't work if you comment out julia animation field writer )"
   ]
  },
  {
   "cell_type": "code",
   "execution_count": null,
   "id": "1b048cf6",
   "metadata": {},
   "outputs": [
    {
     "ename": "LoadError",
     "evalue": "BoundsError: attempt to access 0-element Vector{String} at index [1]",
     "output_type": "error",
     "traceback": [
      "BoundsError: attempt to access 0-element Vector{String} at index [1]",
      "",
      "Stacktrace:",
      " [1] \u001b[0m\u001b[1mthrow_boundserror\u001b[22m\u001b[0m\u001b[1m(\u001b[22m\u001b[90mA\u001b[39m::\u001b[0mVector\u001b[90m{String}\u001b[39m, \u001b[90mI\u001b[39m::\u001b[0mTuple\u001b[90m{Int64}\u001b[39m\u001b[0m\u001b[1m)\u001b[22m",
      "\u001b[90m   @\u001b[39m \u001b[90mBase\u001b[39m \u001b[90m.\\\u001b[39m\u001b[90m\u001b[4messentials.jl:14\u001b[24m\u001b[39m",
      " [2] \u001b[0m\u001b[1mgetindex\u001b[22m",
      "\u001b[90m   @\u001b[39m \u001b[90m.\\\u001b[39m\u001b[90m\u001b[4messentials.jl:916\u001b[24m\u001b[39m\u001b[90m [inlined]\u001b[39m",
      " [3] \u001b[0m\u001b[1mfirst\u001b[22m",
      "\u001b[90m   @\u001b[39m \u001b[90m.\\\u001b[39m\u001b[90m\u001b[4mabstractarray.jl:452\u001b[24m\u001b[39m\u001b[90m [inlined]\u001b[39m",
      " [4] \u001b[0m\u001b[1mFieldTimeSeries\u001b[22m\u001b[0m\u001b[1m(\u001b[22m\u001b[90mpath\u001b[39m::\u001b[0mString, \u001b[90mname\u001b[39m::\u001b[0mString; \u001b[90mbackend\u001b[39m::\u001b[0mInMemory\u001b[90m{Nothing}\u001b[39m, \u001b[90marchitecture\u001b[39m::\u001b[0mNothing, \u001b[90mgrid\u001b[39m::\u001b[0mNothing, \u001b[90mlocation\u001b[39m::\u001b[0mNothing, \u001b[90mboundary_conditions\u001b[39m::\u001b[0mOceananigans.OutputReaders.UnspecifiedBoundaryConditions, \u001b[90mtime_indexing\u001b[39m::\u001b[0mOceananigans.OutputReaders.Linear, \u001b[90miterations\u001b[39m::\u001b[0mNothing, \u001b[90mtimes\u001b[39m::\u001b[0mNothing, \u001b[90mreader_kw\u001b[39m::\u001b[0m@NamedTuple\u001b[90m{}\u001b[39m\u001b[0m\u001b[1m)\u001b[22m",
      "\u001b[90m   @\u001b[39m \u001b[32mOceananigans.OutputReaders\u001b[39m \u001b[90mC:\\Users\\Tom Cummings\\.julia\\packages\\Oceananigans\\3ZIHr\\src\\OutputReaders\\\u001b[39m\u001b[90m\u001b[4mfield_time_series.jl:497\u001b[24m\u001b[39m",
      " [5] \u001b[0m\u001b[1mFieldTimeSeries\u001b[22m\u001b[0m\u001b[1m(\u001b[22m\u001b[90mpath\u001b[39m::\u001b[0mString, \u001b[90mname\u001b[39m::\u001b[0mString\u001b[0m\u001b[1m)\u001b[22m",
      "\u001b[90m   @\u001b[39m \u001b[32mOceananigans.OutputReaders\u001b[39m \u001b[90mC:\\Users\\Tom Cummings\\.julia\\packages\\Oceananigans\\3ZIHr\\src\\OutputReaders\\\u001b[39m\u001b[90m\u001b[4mfield_time_series.jl:478\u001b[24m\u001b[39m",
      " [6] top-level scope",
      "\u001b[90m   @\u001b[39m \u001b[90m\u001b[4mIn[44]:2\u001b[24m\u001b[39m"
     ]
    }
   ],
   "source": [
    "# Visualization\n",
    "b_ts = FieldTimeSeries(filename * \".jld2\", \"b\")\n",
    "ζ_ts = FieldTimeSeries(filename * \".jld2\", \"ζ\")\n",
    "\n",
    "u_ts = FieldTimeSeries(filename * \".jld2\", \"u\")\n",
    "v_ts = FieldTimeSeries(filename * \".jld2\", \"v\")\n",
    "w_ts = FieldTimeSeries(filename * \".jld2\", \"w\")\n",
    "\n",
    "times = b_ts.times\n"
   ]
  },
  {
   "cell_type": "code",
   "execution_count": null,
   "id": "f2a8c54c",
   "metadata": {},
   "outputs": [],
   "source": [
    "# Coordinates\n",
    "x = xnodes(grid, Center())# ./ 1e2  # km\n",
    "z = znodes(grid, Center())# ./ 1e2  # km"
   ]
  },
  {
   "cell_type": "code",
   "execution_count": null,
   "id": "b4e264bc",
   "metadata": {},
   "outputs": [],
   "source": [
    "#using CairoMakie\n",
    "fig = Figure(size=(1800, 1000))"
   ]
  },
  {
   "cell_type": "code",
   "execution_count": null,
   "id": "52b6548b",
   "metadata": {},
   "outputs": [],
   "source": []
  },
  {
   "cell_type": "code",
   "execution_count": null,
   "id": "37905ab1",
   "metadata": {},
   "outputs": [],
   "source": [
    "# Animation setup\n",
    "n = Observable(1)\n",
    "b_slice = @lift interior(b_ts[$n], :, 1, :)\n",
    "ζ_slice = @lift interior(ζ_ts[$n], :, 1, :)\n",
    "\n",
    "u_slice = @lift interior(u_ts[$n], :, 1, :)\n",
    "v_slice = @lift interior(v_ts[$n], :, 1, :)\n",
    "w_slice = @lift interior(w_ts[$n], :, 1, :)\n",
    "\n",
    "title_text = @lift \"Day $(round(times[$n]/day, digits=1))\""
   ]
  },
  {
   "cell_type": "code",
   "execution_count": null,
   "id": "72cb5c52",
   "metadata": {},
   "outputs": [],
   "source": [
    "\n",
    "\n",
    "# Animations of Buoyancy and Vorticity\n",
    "empty!(fig)\n",
    "\n",
    "# Buoyancy plot\n",
    "ax_b = Axis(fig[1, 1], title=\"Buoyancy\", xlabel=\"y [m]\", ylabel=\"z [m]\")\n",
    "hm_b = heatmap!(ax_b, x, z, b_slice, colorrange=(0, Δb), colormap=:thermal)\n",
    "Colorbar(fig[1, 2], hm_b, label=\"Buoyancy [m s⁻²]\")\n",
    "#(ax_b, x, z, b_slice ; levels=10, color=:black, linewidth=0.5)\n",
    "\n",
    "\n",
    "# Vorticity plot\n",
    "ax_ζ = Axis(fig[1, 3], title=\"Vorticity\", xlabel=\"y [m]\")\n",
    "hm_ζ = heatmap!(ax_ζ, x, z, ζ_slice, colorrange=(-3e-3, 3e-3), colormap=:balance)\n",
    "Colorbar(fig[1, 4], hm_ζ, label=\"Vorticity [s⁻¹]\")\n",
    "contour!(ax_ζ, x, z, b_slice ; levels=10, color=:black, linewidth=0.5)\n",
    "\n",
    "Label(fig[0, :], title_text, fontsize=24)\n",
    "\n",
    "# Create animation\n",
    "frames = 1:length(times)\n",
    "record(fig, filename * \"_julia_animation.mp4\", frames, framerate=8) do i\n",
    "    n[] = i\n",
    "end\n",
    "\n",
    "fig  # Display final frame \n",
    "\n",
    "\n",
    "     \n",
    "\n"
   ]
  },
  {
   "cell_type": "code",
   "execution_count": null,
   "id": "30eb6ab5",
   "metadata": {},
   "outputs": [],
   "source": [
    "#=\n",
    "\n",
    "#animation of U only\n",
    "\n",
    "\n",
    "empty!(fig)\n",
    "\n",
    "ax_u = Axis(fig[1, 1], title=\"U\", xlabel=\"y [m]\", ylabel=\"z [m]\")\n",
    "hm = heatmap!(ax_u, x, z, u_slice; colorrange=(-5e-5, 5e-5), colormap=:balance)\n",
    "Colorbar(fig[1, 2], hm_b, label=\"V [m s⁻1]\")\n",
    "contour!(ax_u, x, z, b_slice, levels=10, color=:black, linewidth=0.5)\n",
    "\n",
    "\n",
    "# Create animation\n",
    "frames = 1:length(times)\n",
    "record(fig, filename * \"_animation_velocities.mp4\", frames, framerate=8) do i\n",
    "    n[] = i\n",
    "end\n",
    "\n",
    "fig  # Display final frame\n",
    "\n",
    "=#"
   ]
  },
  {
   "cell_type": "code",
   "execution_count": null,
   "id": "528c4663",
   "metadata": {},
   "outputs": [],
   "source": [
    "#animation of W only\n",
    "\n",
    "#=\n",
    "\n",
    "empty!(fig)\n",
    "\n",
    "ax_w = Axis(fig[1, 1], title=\"W\", xlabel=\"y [m]\", ylabel=\"z [m]\")\n",
    "hm = heatmap!(ax_w, x, z, w_slice; colorrange=(-5e-5, 5e-5), colormap=:balance)\n",
    "Colorbar(fig[1, 2], hm_b, label=\"W [m s⁻1]\")\n",
    "#contour!(ax_u, x, z, b_slice, levels=10, color=:black, linewidth=0.5)\n",
    "\n",
    "\n",
    "# Create animation\n",
    "frames = 1:length(times)\n",
    "record(fig, filename * \"_animation_velocities.mp4\", frames, framerate=8) do i\n",
    "    n[] = i\n",
    "end\n",
    "\n",
    "fig  # Display final frame\n",
    "\n",
    "=#"
   ]
  }
 ],
 "metadata": {
  "kernelspec": {
   "display_name": "Julia 1.11.5",
   "language": "julia",
   "name": "julia-1.11"
  },
  "language_info": {
   "file_extension": ".jl",
   "mimetype": "application/julia",
   "name": "julia",
   "version": "1.11.5"
  }
 },
 "nbformat": 4,
 "nbformat_minor": 5
}
