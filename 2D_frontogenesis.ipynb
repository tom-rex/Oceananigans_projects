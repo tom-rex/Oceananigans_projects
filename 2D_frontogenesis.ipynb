{
 "cells": [
  {
   "cell_type": "markdown",
   "id": "19986a1d",
   "metadata": {},
   "source": [
    "## Import Packages"
   ]
  },
  {
   "cell_type": "code",
   "execution_count": 2,
   "id": "15db6684",
   "metadata": {},
   "outputs": [],
   "source": [
    "using Oceananigans #use v.1.10\n",
    "using Oceananigans.Units\n",
    "using Oceananigans.OutputReaders: FieldTimeSeries\n",
    "using Oceananigans.BoundaryConditions\n",
    "using Oceananigans.TurbulenceClosures\n",
    "#using CairoMakie \n",
    "using NCDatasets"
   ]
  },
  {
   "cell_type": "markdown",
   "id": "20d9ef67",
   "metadata": {},
   "source": [
    "## Define Model Parameters"
   ]
  },
  {
   "cell_type": "code",
   "execution_count": 3,
   "id": "683fd408",
   "metadata": {},
   "outputs": [
    {
     "name": "stdout",
     "output_type": "stream",
     "text": [
      "Filename: B00_run2\n",
      "\n",
      "Derived parameters:\n",
      "H = 0.1 km\n",
      "α = 0.0 s⁻¹\n",
      "M² = 1.0e-6 s⁻²\n",
      "N² = 0.0 s⁻²\n",
      "Bu = 0.0\n",
      "κh = 0.0\n",
      "κv = NaN\n"
     ]
    }
   ],
   "source": [
    "# Model parameters\n",
    "Nx = 240\n",
    "Ny = 80\n",
    "f = 1e-4               # Coriolis frequency [s⁻¹]\n",
    "L_front = 10kilometers  # Initial front width [m]\n",
    "aspect_ratio = 100      # L/H\n",
    "δ = 0                   # Strain ratio (α/f)\n",
    "Ro = 1               # Rossby number (defines M^2)\n",
    "F = Inf              # Froude number (N² = M²/(F²H))\n",
    "Re_h = Inf        # horizontal reynolds number\n",
    "Re_v = +Inf              #vertical reynolds number\n",
    "n = 2              #diffusivity number                 \n",
    "\n",
    "sponge_width = 8kilometers\n",
    "damping_rate = f\n",
    "\n",
    "# Derived parameters\n",
    "H_front = L_front/aspect_ratio\n",
    "α = f*δ\n",
    "M² = (Ro^2*f^2*L_front)/H_front\n",
    "N² = (M²*L_front)/(F^2*H_front)\n",
    "Bu = Ro/F\n",
    "Δb = M²*L_front\n",
    "κh = (sqrt(Δb*H_front)*L_front^(n-1))/Re_h\n",
    "κv = κh*(Re_h/Re_v)*(H_front/L_front)^n\n",
    "\n",
    "\n",
    "filename = \"δ=\"*string(δ)*\"_Ro=\"*string(Ro)*\"_F=\"*string(F)*\"_Re_h=\"*string(Re_h)\n",
    "filename = \"B00_run2\"\n",
    "\n",
    "println(\"Filename: \", filename)\n",
    "println(\"\\nDerived parameters:\")\n",
    "println(\"H = \", H_front/1000, \" km\")\n",
    "println(\"α = \", α, \" s⁻¹\")\n",
    "println(\"M² = \", M², \" s⁻²\")\n",
    "println(\"N² = \", N², \" s⁻²\")\n",
    "println(\"Bu = \", Bu)\n",
    "println(\"κh = \", κh)\n",
    "println(\"κv = \", κv)"
   ]
  },
  {
   "cell_type": "markdown",
   "id": "1a9ba48a",
   "metadata": {},
   "source": [
    "## Define Model Domain"
   ]
  },
  {
   "cell_type": "code",
   "execution_count": 4,
   "id": "c3b138a6",
   "metadata": {},
   "outputs": [
    {
     "data": {
      "text/plain": [
       "240×1×80 RectilinearGrid{Float64, Bounded, Flat, Bounded} on CPU with 3×0×3 halo\n",
       "├── Bounded  x ∈ [-320000.0, 320000.0] regularly spaced with Δx=2666.67\n",
       "├── Flat y                             \n",
       "└── Bounded  z ∈ [-100.0, 0.0]         regularly spaced with Δz=1.25"
      ]
     },
     "execution_count": 4,
     "metadata": {},
     "output_type": "execute_result"
    }
   ],
   "source": [
    "\n",
    "Lx = 64*L_front #40kilometers\n",
    "Lz = H_front\n",
    "\n",
    "grid = RectilinearGrid(size = (Nx, Ny), #in ST15 they use Nx = 200*L_front, Nz = 100*H_front\n",
    "                       x = (-Lx/2, Lx/2),\n",
    "                       z = (-Lz, 0),\n",
    "                       topology = (Bounded, Flat, Bounded))"
   ]
  },
  {
   "cell_type": "markdown",
   "id": "b1a708bf",
   "metadata": {},
   "source": [
    "## Forcing Terms"
   ]
  },
  {
   "cell_type": "code",
   "execution_count": 5,
   "id": "a3d42c1a",
   "metadata": {},
   "outputs": [
    {
     "data": {
      "text/plain": [
       "ContinuousForcing{Float64}\n",
       "├── func: b_forcing_func (generic function with 1 method)\n",
       "├── parameters: 0.0\n",
       "└── field dependencies: (:b,)"
      ]
     },
     "execution_count": 5,
     "metadata": {},
     "output_type": "execute_result"
    }
   ],
   "source": [
    "# advective forcing term \n",
    "u_background = XFaceField(grid)\n",
    "u_background .= - α * xnodes(grid, Face(), Center(), Center())\n",
    "background_flow = AdvectiveForcing(u = u_background)\n",
    "\n",
    "# no addtional u forcing\n",
    "\n",
    "# v forcing\n",
    "v_forcing_func(x, z, t, v, α) = - 2*α*v\n",
    "v_forcing = Forcing(v_forcing_func, parameters = α, field_dependencies = :v )\n",
    "\n",
    "# w forcing\n",
    "w_forcing_func(x, z, t, w, α) = - α*w\n",
    "w_forcing = Forcing(w_forcing_func, parameters = α, field_dependencies = :w )\n",
    "\n",
    "# b forcing\n",
    "b_forcing_func(x, z, t, α, b ) = - α*b\n",
    "b_forcing = Forcing(b_forcing_func, parameters = α, field_dependencies= :b )\n",
    "\n"
   ]
  },
  {
   "cell_type": "markdown",
   "id": "c362427e",
   "metadata": {},
   "source": [
    "## Sponge Layer"
   ]
  },
  {
   "cell_type": "code",
   "execution_count": 6,
   "id": "2c98a7b3",
   "metadata": {},
   "outputs": [
    {
     "data": {
      "text/plain": [
       "Relaxation{Float64, typeof(right_mask), typeof(target_buoyancy_right)}\n",
       "├── rate: 0.0001\n",
       "├── mask: right_mask (generic function with 1 method)\n",
       "└── target: target_buoyancy_right (generic function with 1 method)"
      ]
     },
     "execution_count": 6,
     "metadata": {},
     "output_type": "execute_result"
    }
   ],
   "source": [
    "Δb = L_front * M²\n",
    "\n",
    "target_buoyancy_left(x,z,t) = z*N²\n",
    "target_buoyancy_right(x,z,t) = z*N² + Δb\n",
    "    \n",
    "\n",
    "\n",
    "\n",
    "\n",
    "left_mask_3D   = GaussianMask{:x}(center=-grid.Lx/2, width = sponge_width)\n",
    "left_mask(x,z) = left_mask_3D(x,0,z)\n",
    "uvw_sponge_left = Relaxation(rate=damping_rate, mask=left_mask)\n",
    "b_sponge_left = Relaxation(rate=damping_rate, mask=left_mask, target = target_buoyancy_left) \n",
    "\n",
    "right_mask_3D  = GaussianMask{:x}(center=grid.Lx/2,width = sponge_width)\n",
    "right_mask(x,z) = right_mask_3D(x,0,z)\n",
    "uvw_sponge_right = Relaxation(rate=damping_rate, mask=right_mask)\n",
    "b_sponge_right = Relaxation(rate=damping_rate, mask=right_mask, target = target_buoyancy_right ) \n",
    "\n"
   ]
  },
  {
   "cell_type": "markdown",
   "id": "57a7e0d1",
   "metadata": {},
   "source": [
    "## Boundary conditions"
   ]
  },
  {
   "cell_type": "code",
   "execution_count": 7,
   "id": "1ac74531",
   "metadata": {},
   "outputs": [
    {
     "data": {
      "text/plain": [
       "(u = Oceananigans.FieldBoundaryConditions, with boundary conditions\n",
       "├── west: DefaultBoundaryCondition (FluxBoundaryCondition: Nothing)\n",
       "├── east: DefaultBoundaryCondition (FluxBoundaryCondition: Nothing)\n",
       "├── south: DefaultBoundaryCondition (FluxBoundaryCondition: Nothing)\n",
       "├── north: DefaultBoundaryCondition (FluxBoundaryCondition: Nothing)\n",
       "├── bottom: GradientBoundaryCondition: 0.0\n",
       "├── top: GradientBoundaryCondition: 0.0\n",
       "└── immersed: DefaultBoundaryCondition (FluxBoundaryCondition: Nothing), v = Oceananigans.FieldBoundaryConditions, with boundary conditions\n",
       "├── west: DefaultBoundaryCondition (FluxBoundaryCondition: Nothing)\n",
       "├── east: DefaultBoundaryCondition (FluxBoundaryCondition: Nothing)\n",
       "├── south: DefaultBoundaryCondition (FluxBoundaryCondition: Nothing)\n",
       "├── north: DefaultBoundaryCondition (FluxBoundaryCondition: Nothing)\n",
       "├── bottom: GradientBoundaryCondition: 0.0\n",
       "├── top: GradientBoundaryCondition: 0.0\n",
       "└── immersed: DefaultBoundaryCondition (FluxBoundaryCondition: Nothing), w = Oceananigans.FieldBoundaryConditions, with boundary conditions\n",
       "├── west: DefaultBoundaryCondition (FluxBoundaryCondition: Nothing)\n",
       "├── east: DefaultBoundaryCondition (FluxBoundaryCondition: Nothing)\n",
       "├── south: DefaultBoundaryCondition (FluxBoundaryCondition: Nothing)\n",
       "├── north: DefaultBoundaryCondition (FluxBoundaryCondition: Nothing)\n",
       "├── bottom: ValueBoundaryCondition: 0.0\n",
       "├── top: ValueBoundaryCondition: 0.0\n",
       "└── immersed: DefaultBoundaryCondition (FluxBoundaryCondition: Nothing))"
      ]
     },
     "execution_count": 7,
     "metadata": {},
     "output_type": "execute_result"
    }
   ],
   "source": [
    "\n",
    "using Oceananigans.BoundaryConditions\n",
    "\n",
    "# Free-slip for u and v (∂u/∂z = ∂v/∂z = 0)\n",
    "free_slip = FieldBoundaryConditions(\n",
    "    top = GradientBoundaryCondition(0.0),\n",
    "    bottom = GradientBoundaryCondition(0.0)\n",
    ")\n",
    "\n",
    "# No vertical flow (w = 0 at top/bottom)\n",
    "no_penetration = FieldBoundaryConditions(\n",
    "    top = ValueBoundaryCondition(0.0),\n",
    "    bottom = ValueBoundaryCondition(0.0)\n",
    ")\n",
    "\n",
    "velocity_bcs = (\n",
    "    u = free_slip,\n",
    "    v = free_slip,\n",
    "    w = no_penetration\n",
    ")\n",
    "\n"
   ]
  },
  {
   "cell_type": "markdown",
   "id": "40ce9d7c",
   "metadata": {},
   "source": [
    "## Buoyancy background conditions"
   ]
  },
  {
   "cell_type": "code",
   "execution_count": 8,
   "id": "16bad9ff",
   "metadata": {},
   "outputs": [
    {
     "data": {
      "text/plain": [
       "Oceananigans.FieldBoundaryConditions, with boundary conditions\n",
       "├── west: DefaultBoundaryCondition (FluxBoundaryCondition: Nothing)\n",
       "├── east: DefaultBoundaryCondition (FluxBoundaryCondition: Nothing)\n",
       "├── south: DefaultBoundaryCondition (FluxBoundaryCondition: Nothing)\n",
       "├── north: DefaultBoundaryCondition (FluxBoundaryCondition: Nothing)\n",
       "├── bottom: GradientBoundaryCondition: 0.0\n",
       "├── top: GradientBoundaryCondition: 0.0\n",
       "└── immersed: DefaultBoundaryCondition (FluxBoundaryCondition: Nothing)"
      ]
     },
     "execution_count": 8,
     "metadata": {},
     "output_type": "execute_result"
    }
   ],
   "source": [
    "\n",
    "∂b∂z_top = N²\n",
    "∂b∂z_bottom = N²\n",
    "\n",
    "buoyancy_bcs = FieldBoundaryConditions(\n",
    "    top = GradientBoundaryCondition(∂b∂z_top),\n",
    "    bottom = GradientBoundaryCondition(∂b∂z_bottom)\n",
    ")\n",
    "    "
   ]
  },
  {
   "cell_type": "markdown",
   "id": "bff7470a",
   "metadata": {},
   "source": [
    "## Closure"
   ]
  },
  {
   "cell_type": "code",
   "execution_count": 9,
   "id": "b636fde9",
   "metadata": {},
   "outputs": [
    {
     "data": {
      "text/plain": [
       "(HorizontalScalarDiffusivity{ExplicitTimeDiscretization}(ν=0.0, κ=0.0), VerticalScalarDiffusivity{ExplicitTimeDiscretization}(ν=NaN, κ=NaN))"
      ]
     },
     "execution_count": 9,
     "metadata": {},
     "output_type": "execute_result"
    }
   ],
   "source": [
    "horizontal_closure = HorizontalScalarDiffusivity(ν=κh, κ=κh )\n",
    "vertical_closure = VerticalScalarDiffusivity(ν=κv , κ=κv )\n",
    "closure = (horizontal_closure, vertical_closure)"
   ]
  },
  {
   "cell_type": "markdown",
   "id": "678891d4",
   "metadata": {},
   "source": [
    "## Defining The Model"
   ]
  },
  {
   "cell_type": "code",
   "execution_count": 10,
   "id": "6124d068",
   "metadata": {},
   "outputs": [
    {
     "data": {
      "text/plain": [
       "NonhydrostaticModel{CPU, RectilinearGrid}(time = 0 seconds, iteration = 0)\n",
       "├── grid: 240×1×80 RectilinearGrid{Float64, Bounded, Flat, Bounded} on CPU with 3×0×3 halo\n",
       "├── timestepper: RungeKutta3TimeStepper\n",
       "├── advection scheme: WENO{3, Float64, Float32}(order=5)\n",
       "├── tracers: b\n",
       "├── closure: Tuple with 2 closures:\n",
       "│   ├── HorizontalScalarDiffusivity{ExplicitTimeDiscretization}(ν=0.0, κ=(b=0.0,))\n",
       "│   └── VerticalScalarDiffusivity{ExplicitTimeDiscretization}(ν=NaN, κ=(b=NaN,))\n",
       "├── buoyancy: BuoyancyTracer with ĝ = NegativeZDirection()\n",
       "└── coriolis: FPlane{Float64}(f=0.0001)"
      ]
     },
     "execution_count": 10,
     "metadata": {},
     "output_type": "execute_result"
    }
   ],
   "source": [
    "#with sponge\n",
    "\n",
    "model = NonhydrostaticModel(; grid,\n",
    "                coriolis = FPlane(f = f),\n",
    "                buoyancy = BuoyancyTracer(),\n",
    "                tracers = :b,\n",
    "                advection = WENO(),\n",
    "                forcing = (; u = (background_flow, uvw_sponge_left, uvw_sponge_right),\n",
    "                             v = (background_flow , v_forcing, uvw_sponge_left, uvw_sponge_right) , \n",
    "                             w = (background_flow , w_forcing, uvw_sponge_left, uvw_sponge_right),\n",
    "                             b = (background_flow, b_forcing, b_sponge_left, b_sponge_right)),\n",
    "                boundary_conditions = (; b=buoyancy_bcs, velocity_bcs),\n",
    "                closure = closure\n",
    "\n",
    "                )\n",
    "\n",
    "\n",
    "#without sponge \n",
    "#=\n",
    "model = NonhydrostaticModel(; grid,\n",
    "                coriolis = FPlane(f = f),\n",
    "                buoyancy = BuoyancyTracer(),\n",
    "                tracers = :b,\n",
    "                advection = WENO(),\n",
    "                forcing = (; u = (background_flow),\n",
    "                             v = (background_flow , v_forcing) , \n",
    "                             w = (background_flow , w_forcing),\n",
    "                             b = (background_flow, b_forcing))\n",
    "                #boundary_conditions = (; b=buoyancy_bcs, velocity_bcs)\n",
    "                )\n",
    "=#\n",
    "\n",
    "\n"
   ]
  },
  {
   "cell_type": "markdown",
   "id": "28524149",
   "metadata": {},
   "source": [
    "## Initial Conditions"
   ]
  },
  {
   "cell_type": "code",
   "execution_count": 11,
   "id": "25cc6e69",
   "metadata": {},
   "outputs": [],
   "source": [
    "#inital setup\n",
    "\n",
    "Δb = L_front * M²  # buoyancy jump across front  \n",
    "\n",
    "\n",
    "\n",
    "k = 2*pi/L_front\n",
    "λ = sqrt(Δb * H_front) / f\n",
    "u₀ = Ro * f * L_front\n",
    "uᵢ(x, z) = u₀ * sin(k * x)\n",
    "Φ = 1\n",
    "\n",
    "bᵢ(x, z) = N² * z + Δb * 1/2* (tanh(x/L_front) + 1) \n",
    "#bᵢ(x, z) = sin(k * x)\n",
    "#thermal_wind_balance(x,z) = (1/2 * N² * z^2 + Δb * 1/2* z * (tanh(x/L_front) + 1))/f\n",
    "\n",
    "\n",
    "set!(model, b= bᵢ, u = 0, v = 0, w = 0)  # Start from rest\n"
   ]
  },
  {
   "cell_type": "markdown",
   "id": "02f80eaf",
   "metadata": {},
   "source": [
    "## Define Simulation"
   ]
  },
  {
   "cell_type": "code",
   "execution_count": 12,
   "id": "b684c2bb",
   "metadata": {},
   "outputs": [
    {
     "data": {
      "text/plain": [
       "Simulation of NonhydrostaticModel{CPU, RectilinearGrid}(time = 0 seconds, iteration = 0)\n",
       "├── Next time step: 20 minutes\n",
       "├── Elapsed wall time: 0 seconds\n",
       "├── Wall time per iteration: NaN days\n",
       "├── Stop time: 10 days\n",
       "├── Stop iteration: Inf\n",
       "├── Wall time limit: Inf\n",
       "├── Minimum relative step: 0.0\n",
       "├── Callbacks: OrderedDict with 4 entries:\n",
       "│   ├── stop_time_exceeded => 4\n",
       "│   ├── stop_iteration_exceeded => -\n",
       "│   ├── wall_time_limit_exceeded => e\n",
       "│   └── nan_checker => }\n",
       "├── Output writers: OrderedDict with no entries\n",
       "└── Diagnostics: OrderedDict with no entries"
      ]
     },
     "execution_count": 12,
     "metadata": {},
     "output_type": "execute_result"
    }
   ],
   "source": [
    "simulation = Simulation(model, Δt=20minutes, stop_time=10days)"
   ]
  },
  {
   "cell_type": "code",
   "execution_count": 13,
   "id": "0f45de7a",
   "metadata": {},
   "outputs": [],
   "source": [
    "conjure_time_step_wizard!(simulation, IterationInterval(20), cfl=0.2, max_Δt=20minutes)"
   ]
  },
  {
   "cell_type": "code",
   "execution_count": 14,
   "id": "79e94aa2",
   "metadata": {},
   "outputs": [],
   "source": [
    "using Printf\n",
    "\n",
    "wall_clock = Ref(time_ns())\n",
    "\n",
    "function print_progress(sim)\n",
    "    u, v, w = model.velocities\n",
    "    progress = 100 * (time(sim) / sim.stop_time)\n",
    "    elapsed = (time_ns() - wall_clock[]) / 1e9\n",
    "\n",
    "    @printf(\"[%05.2f%%] i: %d, t: %s, wall time: %s, max(u): (%6.3e, %6.3e, %6.3e) m/s, next Δt: %s\\n\",\n",
    "            progress, iteration(sim), prettytime(sim), prettytime(elapsed),\n",
    "            maximum(abs, u), maximum(abs, v), maximum(abs, w), prettytime(sim.Δt))\n",
    "\n",
    "    wall_clock[] = time_ns()\n",
    "\n",
    "    return nothing\n",
    "end\n",
    "\n",
    "add_callback!(simulation, print_progress, IterationInterval(100))"
   ]
  },
  {
   "cell_type": "markdown",
   "id": "30ce626c",
   "metadata": {},
   "source": [
    "## Diagnostic/Output"
   ]
  },
  {
   "cell_type": "code",
   "execution_count": 15,
   "id": "52ffaa52",
   "metadata": {},
   "outputs": [
    {
     "data": {
      "text/plain": [
       "NetCDFWriter scheduled on TimeInterval(10 minutes):\n",
       "├── filepath: B00_run2.nc\n",
       "├── dimensions: time(0), x_faa(241), x_caa(240), z_aaf(81), z_aac(80)\n",
       "├── 5 outputs: (v, w, Ri, b, u)\n",
       "└── array type: Array{Float32}\n",
       "├── file_splitting: NoFileSplitting\n",
       "└── file size: 26.2 KiB"
      ]
     },
     "execution_count": 15,
     "metadata": {},
     "output_type": "execute_result"
    }
   ],
   "source": [
    "# Output setup\n",
    "u, v, w = model.velocities\n",
    "ζ = ∂z(u) - ∂x(w)  # Vorticity in x-z plane\n",
    "b = model.tracers.b\n",
    "\n",
    "# Compute Ri\n",
    "Ri = N² / (∂z(u)^2 + ∂z(v)^2) \n",
    "\n",
    "#=\n",
    "#For Julia animation\n",
    "simulation.output_writers[:fields] = JLD2Writer(\n",
    "    model, (; b, ζ , u, v, w),\n",
    "    filename=filename * \".jld2\",\n",
    "    schedule=TimeInterval(0.5day),\n",
    "    overwrite_existing=true\n",
    "    )\n",
    "=#\n",
    "\n",
    "\n",
    "#For python viusalisation\n",
    "simulation.output_writers[:fields] = NetCDFWriter(\n",
    "    model, (; b, u, v, w, Ri), filename=filename * \".nc\", schedule=TimeInterval(10minutes), overwrite_existing=true)\n"
   ]
  },
  {
   "cell_type": "markdown",
   "id": "52051e0c",
   "metadata": {},
   "source": [
    "## Run Simulation"
   ]
  },
  {
   "cell_type": "markdown",
   "id": "04c235fa",
   "metadata": {},
   "source": [
    "@info \"Running the simulation...\"\n",
    "\n",
    "run!(simulation)\n",
    "\n",
    "@info \"Simulation completed in \" * prettytime(simulation.run_wall_time)"
   ]
  },
  {
   "cell_type": "markdown",
   "id": "e5049e04",
   "metadata": {},
   "source": [
    "## Oceananigans Animation\n",
    "(Won't work if you comment out julia animation field writer )"
   ]
  },
  {
   "cell_type": "code",
   "execution_count": 16,
   "id": "1b048cf6",
   "metadata": {},
   "outputs": [
    {
     "ename": "LoadError",
     "evalue": "BoundsError: attempt to access 0-element Vector{String} at index [1]",
     "output_type": "error",
     "traceback": [
      "BoundsError: attempt to access 0-element Vector{String} at index [1]",
      "",
      "Stacktrace:",
      " [1] \u001b[0m\u001b[1mthrow_boundserror\u001b[22m\u001b[0m\u001b[1m(\u001b[22m\u001b[90mA\u001b[39m::\u001b[0mVector\u001b[90m{String}\u001b[39m, \u001b[90mI\u001b[39m::\u001b[0mTuple\u001b[90m{Int64}\u001b[39m\u001b[0m\u001b[1m)\u001b[22m",
      "\u001b[90m   @\u001b[39m \u001b[90mBase\u001b[39m \u001b[90m.\\\u001b[39m\u001b[90m\u001b[4messentials.jl:14\u001b[24m\u001b[39m",
      " [2] \u001b[0m\u001b[1mgetindex\u001b[22m",
      "\u001b[90m   @\u001b[39m \u001b[90m.\\\u001b[39m\u001b[90m\u001b[4messentials.jl:916\u001b[24m\u001b[39m\u001b[90m [inlined]\u001b[39m",
      " [3] \u001b[0m\u001b[1mfirst\u001b[22m",
      "\u001b[90m   @\u001b[39m \u001b[90m.\\\u001b[39m\u001b[90m\u001b[4mabstractarray.jl:452\u001b[24m\u001b[39m\u001b[90m [inlined]\u001b[39m",
      " [4] \u001b[0m\u001b[1mFieldTimeSeries\u001b[22m\u001b[0m\u001b[1m(\u001b[22m\u001b[90mpath\u001b[39m::\u001b[0mString, \u001b[90mname\u001b[39m::\u001b[0mString; \u001b[90mbackend\u001b[39m::\u001b[0mInMemory\u001b[90m{Nothing}\u001b[39m, \u001b[90marchitecture\u001b[39m::\u001b[0mNothing, \u001b[90mgrid\u001b[39m::\u001b[0mNothing, \u001b[90mlocation\u001b[39m::\u001b[0mNothing, \u001b[90mboundary_conditions\u001b[39m::\u001b[0mOceananigans.OutputReaders.UnspecifiedBoundaryConditions, \u001b[90mtime_indexing\u001b[39m::\u001b[0mOceananigans.OutputReaders.Linear, \u001b[90miterations\u001b[39m::\u001b[0mNothing, \u001b[90mtimes\u001b[39m::\u001b[0mNothing, \u001b[90mreader_kw\u001b[39m::\u001b[0m@NamedTuple\u001b[90m{}\u001b[39m\u001b[0m\u001b[1m)\u001b[22m",
      "\u001b[90m   @\u001b[39m \u001b[35mOceananigans.OutputReaders\u001b[39m \u001b[90mC:\\Users\\Tom Cummings\\.julia\\packages\\Oceananigans\\3ZIHr\\src\\OutputReaders\\\u001b[39m\u001b[90m\u001b[4mfield_time_series.jl:497\u001b[24m\u001b[39m",
      " [5] \u001b[0m\u001b[1mFieldTimeSeries\u001b[22m\u001b[0m\u001b[1m(\u001b[22m\u001b[90mpath\u001b[39m::\u001b[0mString, \u001b[90mname\u001b[39m::\u001b[0mString\u001b[0m\u001b[1m)\u001b[22m",
      "\u001b[90m   @\u001b[39m \u001b[35mOceananigans.OutputReaders\u001b[39m \u001b[90mC:\\Users\\Tom Cummings\\.julia\\packages\\Oceananigans\\3ZIHr\\src\\OutputReaders\\\u001b[39m\u001b[90m\u001b[4mfield_time_series.jl:478\u001b[24m\u001b[39m",
      " [6] top-level scope",
      "\u001b[90m   @\u001b[39m \u001b[90m\u001b[4mIn[16]:2\u001b[24m\u001b[39m"
     ]
    }
   ],
   "source": [
    "# Visualization\n",
    "b_ts = FieldTimeSeries(filename * \".jld2\", \"b\")\n",
    "ζ_ts = FieldTimeSeries(filename * \".jld2\", \"ζ\")\n",
    "\n",
    "u_ts = FieldTimeSeries(filename * \".jld2\", \"u\")\n",
    "v_ts = FieldTimeSeries(filename * \".jld2\", \"v\")\n",
    "w_ts = FieldTimeSeries(filename * \".jld2\", \"w\")\n",
    "\n",
    "times = b_ts.times\n"
   ]
  },
  {
   "cell_type": "code",
   "execution_count": null,
   "id": "f2a8c54c",
   "metadata": {},
   "outputs": [],
   "source": [
    "# Coordinates\n",
    "x = xnodes(grid, Center())# ./ 1e2  # km\n",
    "z = znodes(grid, Center())# ./ 1e2  # km"
   ]
  },
  {
   "cell_type": "code",
   "execution_count": null,
   "id": "b4e264bc",
   "metadata": {},
   "outputs": [],
   "source": [
    "#using CairoMakie\n",
    "fig = Figure(size=(1800, 1000))"
   ]
  },
  {
   "cell_type": "code",
   "execution_count": null,
   "id": "37905ab1",
   "metadata": {},
   "outputs": [],
   "source": [
    "# Animation setup\n",
    "n = Observable(1)\n",
    "b_slice = @lift interior(b_ts[$n], :, 1, :)\n",
    "ζ_slice = @lift interior(ζ_ts[$n], :, 1, :)\n",
    "\n",
    "u_slice = @lift interior(u_ts[$n], :, 1, :)\n",
    "v_slice = @lift interior(v_ts[$n], :, 1, :)\n",
    "w_slice = @lift interior(w_ts[$n], :, 1, :)\n",
    "\n",
    "title_text = @lift \"Day $(round(times[$n]/day, digits=1))\""
   ]
  },
  {
   "cell_type": "code",
   "execution_count": null,
   "id": "72cb5c52",
   "metadata": {},
   "outputs": [],
   "source": [
    "\n",
    "\n",
    "# Animations of Buoyancy and Vorticity\n",
    "empty!(fig)\n",
    "\n",
    "# Buoyancy plot\n",
    "ax_b = Axis(fig[1, 1], title=\"Buoyancy\", xlabel=\"y [m]\", ylabel=\"z [m]\")\n",
    "hm_b = heatmap!(ax_b, x, z, b_slice, colorrange=(0, Δb), colormap=:thermal)\n",
    "Colorbar(fig[1, 2], hm_b, label=\"Buoyancy [m s⁻²]\")\n",
    "#(ax_b, x, z, b_slice ; levels=10, color=:black, linewidth=0.5)\n",
    "\n",
    "\n",
    "# Vorticity plot\n",
    "ax_ζ = Axis(fig[1, 3], title=\"Vorticity\", xlabel=\"y [m]\")\n",
    "hm_ζ = heatmap!(ax_ζ, x, z, ζ_slice, colorrange=(-3e-3, 3e-3), colormap=:balance)\n",
    "Colorbar(fig[1, 4], hm_ζ, label=\"Vorticity [s⁻¹]\")\n",
    "contour!(ax_ζ, x, z, b_slice ; levels=10, color=:black, linewidth=0.5)\n",
    "\n",
    "Label(fig[0, :], title_text, fontsize=24)\n",
    "\n",
    "# Create animation\n",
    "frames = 1:length(times)\n",
    "record(fig, filename * \"_julia_animation.mp4\", frames, framerate=8) do i\n",
    "    n[] = i\n",
    "end\n",
    "\n",
    "fig  # Display final frame \n",
    "\n",
    "\n",
    "     \n",
    "\n"
   ]
  },
  {
   "cell_type": "code",
   "execution_count": null,
   "id": "30eb6ab5",
   "metadata": {},
   "outputs": [],
   "source": [
    "#=\n",
    "\n",
    "#animation of U only\n",
    "\n",
    "\n",
    "empty!(fig)\n",
    "\n",
    "ax_u = Axis(fig[1, 1], title=\"U\", xlabel=\"y [m]\", ylabel=\"z [m]\")\n",
    "hm = heatmap!(ax_u, x, z, u_slice; colorrange=(-5e-5, 5e-5), colormap=:balance)\n",
    "Colorbar(fig[1, 2], hm_b, label=\"V [m s⁻1]\")\n",
    "contour!(ax_u, x, z, b_slice, levels=10, color=:black, linewidth=0.5)\n",
    "\n",
    "\n",
    "# Create animation\n",
    "frames = 1:length(times)\n",
    "record(fig, filename * \"_animation_velocities.mp4\", frames, framerate=8) do i\n",
    "    n[] = i\n",
    "end\n",
    "\n",
    "fig  # Display final frame\n",
    "\n",
    "=#"
   ]
  },
  {
   "cell_type": "code",
   "execution_count": null,
   "id": "528c4663",
   "metadata": {},
   "outputs": [],
   "source": [
    "#animation of W only\n",
    "\n",
    "#=\n",
    "\n",
    "empty!(fig)\n",
    "\n",
    "ax_w = Axis(fig[1, 1], title=\"W\", xlabel=\"y [m]\", ylabel=\"z [m]\")\n",
    "hm = heatmap!(ax_w, x, z, w_slice; colorrange=(-5e-5, 5e-5), colormap=:balance)\n",
    "Colorbar(fig[1, 2], hm_b, label=\"W [m s⁻1]\")\n",
    "#contour!(ax_u, x, z, b_slice, levels=10, color=:black, linewidth=0.5)\n",
    "\n",
    "\n",
    "# Create animation\n",
    "frames = 1:length(times)\n",
    "record(fig, filename * \"_animation_velocities.mp4\", frames, framerate=8) do i\n",
    "    n[] = i\n",
    "end\n",
    "\n",
    "fig  # Display final frame\n",
    "\n",
    "=#"
   ]
  }
 ],
 "metadata": {
  "kernelspec": {
   "display_name": "Julia 1.11.5",
   "language": "julia",
   "name": "julia-1.11"
  },
  "language_info": {
   "file_extension": ".jl",
   "mimetype": "application/julia",
   "name": "julia",
   "version": "1.11.5"
  }
 },
 "nbformat": 4,
 "nbformat_minor": 5
}
