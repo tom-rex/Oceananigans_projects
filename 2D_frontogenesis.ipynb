{
 "cells": [
  {
   "cell_type": "code",
   "execution_count": 1,
   "id": "ad2da2f1",
   "metadata": {},
   "outputs": [
    {
     "name": "stderr",
     "output_type": "stream",
     "text": [
      "┌ Warning: You are using Julia v1.11 or later!\"\n",
      "│ Oceananigans is currently tested on Julia v1.10.\"\n",
      "│ If you find issues with Julia v1.11 or later,\"\n",
      "│ please report at https://github.com/CliMA/Oceananigans.jl/issues/new\n",
      "└ @ Oceananigans C:\\Users\\Tom Cummings\\.julia\\packages\\Oceananigans\\TXJRi\\src\\Oceananigans.jl:124\n"
     ]
    }
   ],
   "source": [
    "using Oceananigans\n",
    "using Oceananigans.Units\n",
    "using Oceananigans.OutputReaders: FieldTimeSeries"
   ]
  },
  {
   "cell_type": "code",
   "execution_count": 2,
   "id": "c3b138a6",
   "metadata": {},
   "outputs": [
    {
     "data": {
      "text/plain": [
       "48×1×8 RectilinearGrid{Float64, Bounded, Flat, Bounded} on CPU with 3×0×3 halo\n",
       "├── Bounded  x ∈ [-500000.0, 500000.0] regularly spaced with Δx=20833.3\n",
       "├── Flat y                             \n",
       "└── Bounded  z ∈ [-1000.0, 0.0]        regularly spaced with Δz=125.0"
      ]
     },
     "metadata": {},
     "output_type": "display_data"
    }
   ],
   "source": [
    "Lx = 1000kilometers # north-south extent [m]\n",
    "Lz = 1kilometers    # depth [m]\n",
    "\n",
    "grid = RectilinearGrid(size = (48, 8),\n",
    "                       x = (-Lx/2, Lx/2),\n",
    "                       z = (-Lz, 0),\n",
    "                       topology = (Bounded, Flat, Bounded))\n",
    "\n",
    "                       "
   ]
  },
  {
   "cell_type": "code",
   "execution_count": 3,
   "id": "67cca820",
   "metadata": {},
   "outputs": [
    {
     "data": {
      "text/plain": [
       "ContinuousForcing{Nothing} at (Face, Center, Center)\n",
       "├── func: u_forcing (generic function with 1 method)\n",
       "├── parameters: nothing\n",
       "└── field dependencies: ()"
      ]
     },
     "metadata": {},
     "output_type": "display_data"
    }
   ],
   "source": [
    "u_forcing(x, y, z, t) = exp(z) * cos(x) * sin(t)\n",
    "\n",
    "grid = RectilinearGrid(size=(1, 1, 1), extent=(1, 1, 1))\n",
    "model = NonhydrostaticModel(grid=grid, forcing=(u=u_forcing,))\n",
    "\n",
    "model.forcing.u"
   ]
  }
 ],
 "metadata": {
  "kernelspec": {
   "display_name": "Julia 1.11.5",
   "language": "julia",
   "name": "julia-1.11"
  },
  "language_info": {
   "file_extension": ".jl",
   "mimetype": "application/julia",
   "name": "julia",
   "version": "1.11.5"
  }
 },
 "nbformat": 4,
 "nbformat_minor": 5
}
