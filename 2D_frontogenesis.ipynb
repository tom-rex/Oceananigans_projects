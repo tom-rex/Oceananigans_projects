{
 "cells": [
  {
   "cell_type": "markdown",
   "id": "19986a1d",
   "metadata": {},
   "source": [
    "## Import Packages"
   ]
  },
  {
   "cell_type": "code",
   "execution_count": 53,
   "id": "15db6684",
   "metadata": {},
   "outputs": [],
   "source": [
    "using Oceananigans #use v.1.10\n",
    "using Oceananigans.Units\n",
    "using Oceananigans.OutputReaders: FieldTimeSeries\n",
    "using Oceananigans.BoundaryConditions\n",
    "using CairoMakie \n",
    "using NCDatasets"
   ]
  },
  {
   "cell_type": "markdown",
   "id": "20d9ef67",
   "metadata": {},
   "source": [
    "## Define Model Parameters"
   ]
  },
  {
   "cell_type": "code",
   "execution_count": 54,
   "id": "db0f5863",
   "metadata": {},
   "outputs": [
    {
     "name": "stdout",
     "output_type": "stream",
     "text": [
      "H = 0.1km\n",
      "α = 2.0e-5\n",
      "M² = 2.25e-6\n",
      "N² = 0.0014062499999999997\n",
      "Bu = 3.75\n",
      "2*Bu/delta = 37.5\n"
     ]
    }
   ],
   "source": [
    "\n",
    "#Filename\n",
    "filename = \"used_tanh2\"\n",
    "\n",
    "# model parameters\n",
    "\n",
    "f = 1e-4 # we keep f fixed here \n",
    "L_front = 10kilometers  # initial front width (L) stays fixed \n",
    "\n",
    "sponge_width = 8kilometers #50kilometers #10% of entire domain \n",
    "damping_rate =  f\n",
    "\n",
    "aspect_ratio = 100 # L/H  defines H\n",
    "δ = 0.2     # defines α (exactly 1e_4 * alpha)\n",
    "Ro = 1.5# defines M²\n",
    "F = 1/2.5# defines N² \n",
    "\n",
    "#deriving other parameters from those we defined\n",
    "H_front = L_front/aspect_ratio\n",
    "α = f*δ\n",
    "M² = (Ro^2*f^2*L_front)/H_front\n",
    "N² = (M²*L_front)/(F^2*H_front)\n",
    "Bu = Ro/F\n",
    "\n",
    "\n",
    "#M² = 0\n",
    "#N² = 1e-6\n",
    "#α = 0.00\n",
    "\n",
    "\n",
    "println(\"H = \", H_front/1000, \"km\")\n",
    "println(\"α = \", α)\n",
    "println(\"M² = \", M²)\n",
    "println(\"N² = \", N²)\n",
    "println(\"Bu = \", Bu)\n",
    "\n",
    "println(\"2*Bu/delta = \", 2*Bu/δ)\n"
   ]
  },
  {
   "cell_type": "markdown",
   "id": "1a9ba48a",
   "metadata": {},
   "source": [
    "## Define Model Domain"
   ]
  },
  {
   "cell_type": "code",
   "execution_count": null,
   "id": "c3b138a6",
   "metadata": {},
   "outputs": [
    {
     "data": {
      "text/plain": [
       "240×1×40 RectilinearGrid{Float64, Bounded, Flat, Bounded} on CPU with 3×0×3 halo\n",
       "├── Bounded  x ∈ [-40000.0, 40000.0] regularly spaced with Δx=333.333\n",
       "├── Flat y                           \n",
       "└── Bounded  z ∈ [-100.0, 0.0]       regularly spaced with Δz=2.5"
      ]
     },
     "execution_count": 55,
     "metadata": {},
     "output_type": "execute_result"
    }
   ],
   "source": [
    "\n",
    "Lx = 4*L_front #40kilometers\n",
    "Lz = H_front\n",
    "\n",
    "grid = RectilinearGrid(size = (240, 40), #in ST15 they use Nx = 200*L_front, Nz = 100*H_front\n",
    "                       x = (-Lx/2, Lx/2),\n",
    "                       z = (-Lz, 0),\n",
    "                       topology = (Bounded, Flat, Bounded))"
   ]
  },
  {
   "cell_type": "markdown",
   "id": "b1a708bf",
   "metadata": {},
   "source": [
    "## Forcing Terms"
   ]
  },
  {
   "cell_type": "code",
   "execution_count": 56,
   "id": "a3d42c1a",
   "metadata": {},
   "outputs": [
    {
     "data": {
      "text/plain": [
       "ContinuousForcing{Float64}\n",
       "├── func: b_forcing_func (generic function with 1 method)\n",
       "├── parameters: 2.0e-5\n",
       "└── field dependencies: (:b,)"
      ]
     },
     "execution_count": 56,
     "metadata": {},
     "output_type": "execute_result"
    }
   ],
   "source": [
    "# advective forcing term \n",
    "u_background = XFaceField(grid)\n",
    "u_background .= - α * xnodes(grid, Face(), Center(), Center())\n",
    "background_flow = AdvectiveForcing(u = u_background)\n",
    "\n",
    "# no addtional u forcing\n",
    "\n",
    "# v forcing\n",
    "v_forcing_func(x, z, t, v, α) = - 2*α*v\n",
    "v_forcing = Forcing(v_forcing_func, parameters = α, field_dependencies = :v )\n",
    "\n",
    "# w forcing\n",
    "w_forcing_func(x, z, t, w, α) = - α*w\n",
    "w_forcing = Forcing(w_forcing_func, parameters = α, field_dependencies = :w )\n",
    "\n",
    "# b forcing\n",
    "b_forcing_func(x, z, t, α, b ) = - α*b\n",
    "b_forcing = Forcing(b_forcing_func, parameters = α, field_dependencies= :b )\n",
    "\n"
   ]
  },
  {
   "cell_type": "markdown",
   "id": "c362427e",
   "metadata": {},
   "source": [
    "## Sponge Layer"
   ]
  },
  {
   "cell_type": "code",
   "execution_count": 57,
   "id": "2c98a7b3",
   "metadata": {},
   "outputs": [
    {
     "data": {
      "text/plain": [
       "Relaxation{Float64, typeof(right_mask), typeof(target_buoyancy_right)}\n",
       "├── rate: 0.0001\n",
       "├── mask: right_mask (generic function with 1 method)\n",
       "└── target: target_buoyancy_right (generic function with 1 method)"
      ]
     },
     "execution_count": 57,
     "metadata": {},
     "output_type": "execute_result"
    }
   ],
   "source": [
    "Δb = L_front * M²\n",
    "\n",
    "target_buoyancy_left(x,z,t) = z*N²\n",
    "target_buoyancy_right(x,z,t) = z*N² + Δb\n",
    "    \n",
    "\n",
    "\n",
    "\n",
    "\n",
    "left_mask_3D   = GaussianMask{:x}(center=-grid.Lx/2, width = sponge_width)\n",
    "left_mask(x,z) = left_mask_3D(x,0,z)\n",
    "uvw_sponge_left = Relaxation(rate=damping_rate, mask=left_mask)\n",
    "b_sponge_left = Relaxation(rate=damping_rate, mask=left_mask, target = target_buoyancy_left) \n",
    "\n",
    "right_mask_3D  = GaussianMask{:x}(center=grid.Lx/2,width = sponge_width)\n",
    "right_mask(x,z) = right_mask_3D(x,0,z)\n",
    "uvw_sponge_right = Relaxation(rate=damping_rate, mask=right_mask)\n",
    "b_sponge_right = Relaxation(rate=damping_rate, mask=right_mask, target = target_buoyancy_right ) \n",
    "\n",
    "#b_sponge = Relaxation(rate=damping_rate, target = target_buoyancy)\n",
    "\n"
   ]
  },
  {
   "cell_type": "markdown",
   "id": "57a7e0d1",
   "metadata": {},
   "source": [
    "## Boundary conditions"
   ]
  },
  {
   "cell_type": "code",
   "execution_count": 58,
   "id": "1ac74531",
   "metadata": {},
   "outputs": [
    {
     "data": {
      "text/plain": [
       "(u = Oceananigans.FieldBoundaryConditions, with boundary conditions\n",
       "├── west: DefaultBoundaryCondition (FluxBoundaryCondition: Nothing)\n",
       "├── east: DefaultBoundaryCondition (FluxBoundaryCondition: Nothing)\n",
       "├── south: DefaultBoundaryCondition (FluxBoundaryCondition: Nothing)\n",
       "├── north: DefaultBoundaryCondition (FluxBoundaryCondition: Nothing)\n",
       "├── bottom: GradientBoundaryCondition: 0.0\n",
       "├── top: GradientBoundaryCondition: 0.0\n",
       "└── immersed: DefaultBoundaryCondition (FluxBoundaryCondition: Nothing), v = Oceananigans.FieldBoundaryConditions, with boundary conditions\n",
       "├── west: DefaultBoundaryCondition (FluxBoundaryCondition: Nothing)\n",
       "├── east: DefaultBoundaryCondition (FluxBoundaryCondition: Nothing)\n",
       "├── south: DefaultBoundaryCondition (FluxBoundaryCondition: Nothing)\n",
       "├── north: DefaultBoundaryCondition (FluxBoundaryCondition: Nothing)\n",
       "├── bottom: GradientBoundaryCondition: 0.0\n",
       "├── top: GradientBoundaryCondition: 0.0\n",
       "└── immersed: DefaultBoundaryCondition (FluxBoundaryCondition: Nothing), w = Oceananigans.FieldBoundaryConditions, with boundary conditions\n",
       "├── west: DefaultBoundaryCondition (FluxBoundaryCondition: Nothing)\n",
       "├── east: DefaultBoundaryCondition (FluxBoundaryCondition: Nothing)\n",
       "├── south: DefaultBoundaryCondition (FluxBoundaryCondition: Nothing)\n",
       "├── north: DefaultBoundaryCondition (FluxBoundaryCondition: Nothing)\n",
       "├── bottom: ValueBoundaryCondition: 0.0\n",
       "├── top: ValueBoundaryCondition: 0.0\n",
       "└── immersed: DefaultBoundaryCondition (FluxBoundaryCondition: Nothing))"
      ]
     },
     "execution_count": 58,
     "metadata": {},
     "output_type": "execute_result"
    }
   ],
   "source": [
    "\n",
    "using Oceananigans.BoundaryConditions\n",
    "\n",
    "# Free-slip for u and v (∂u/∂z = ∂v/∂z = 0)\n",
    "free_slip = FieldBoundaryConditions(\n",
    "    top = GradientBoundaryCondition(0.0),\n",
    "    bottom = GradientBoundaryCondition(0.0)\n",
    ")\n",
    "\n",
    "# No vertical flow (w = 0 at top/bottom)\n",
    "no_penetration = FieldBoundaryConditions(\n",
    "    top = ValueBoundaryCondition(0.0),\n",
    "    bottom = ValueBoundaryCondition(0.0)\n",
    ")\n",
    "\n",
    "velocity_bcs = (\n",
    "    u = free_slip,\n",
    "    v = free_slip,\n",
    "    w = no_penetration\n",
    ")\n",
    "\n"
   ]
  },
  {
   "cell_type": "markdown",
   "id": "40ce9d7c",
   "metadata": {},
   "source": [
    "## Buoyancy background conditions"
   ]
  },
  {
   "cell_type": "code",
   "execution_count": 59,
   "id": "16bad9ff",
   "metadata": {},
   "outputs": [
    {
     "data": {
      "text/plain": [
       "Oceananigans.FieldBoundaryConditions, with boundary conditions\n",
       "├── west: DefaultBoundaryCondition (FluxBoundaryCondition: Nothing)\n",
       "├── east: DefaultBoundaryCondition (FluxBoundaryCondition: Nothing)\n",
       "├── south: DefaultBoundaryCondition (FluxBoundaryCondition: Nothing)\n",
       "├── north: DefaultBoundaryCondition (FluxBoundaryCondition: Nothing)\n",
       "├── bottom: GradientBoundaryCondition: 0.00140625\n",
       "├── top: GradientBoundaryCondition: 0.00140625\n",
       "└── immersed: DefaultBoundaryCondition (FluxBoundaryCondition: Nothing)"
      ]
     },
     "execution_count": 59,
     "metadata": {},
     "output_type": "execute_result"
    }
   ],
   "source": [
    "\n",
    "∂b∂z_top = N²\n",
    "∂b∂z_bottom = N²\n",
    "\n",
    "buoyancy_bcs = FieldBoundaryConditions(\n",
    "    top = GradientBoundaryCondition(∂b∂z_top),\n",
    "    bottom = GradientBoundaryCondition(∂b∂z_bottom)\n",
    ")\n",
    "    "
   ]
  },
  {
   "cell_type": "markdown",
   "id": "678891d4",
   "metadata": {},
   "source": [
    "## Defining The Model"
   ]
  },
  {
   "cell_type": "code",
   "execution_count": 60,
   "id": "6124d068",
   "metadata": {},
   "outputs": [
    {
     "data": {
      "text/plain": [
       "NonhydrostaticModel{CPU, RectilinearGrid}(time = 0 seconds, iteration = 0)\n",
       "├── grid: 240×1×40 RectilinearGrid{Float64, Bounded, Flat, Bounded} on CPU with 3×0×3 halo\n",
       "├── timestepper: RungeKutta3TimeStepper\n",
       "├── advection scheme: WENO{3, Float64, Float32}(order=5)\n",
       "├── tracers: b\n",
       "├── closure: Nothing\n",
       "├── buoyancy: BuoyancyTracer with ĝ = NegativeZDirection()\n",
       "└── coriolis: FPlane{Float64}(f=0.0001)"
      ]
     },
     "execution_count": 60,
     "metadata": {},
     "output_type": "execute_result"
    }
   ],
   "source": [
    "#with sponge\n",
    "\n",
    "model = NonhydrostaticModel(; grid,\n",
    "                coriolis = FPlane(f = f),\n",
    "                buoyancy = BuoyancyTracer(),\n",
    "                tracers = :b,\n",
    "                advection = WENO(),\n",
    "                forcing = (; u = (background_flow, uvw_sponge_left, uvw_sponge_right),\n",
    "                             v = (background_flow , v_forcing, uvw_sponge_left, uvw_sponge_right) , \n",
    "                             w = (background_flow , w_forcing, uvw_sponge_left, uvw_sponge_right),\n",
    "                             b = (background_flow, b_forcing, b_sponge_left, b_sponge_right))\n",
    "                #boundary_conditions = (; b=buoyancy_bcs, velocity_bcs)\n",
    "                )\n",
    "\n",
    "\n",
    "#without sponge \n",
    "#=\n",
    "model = NonhydrostaticModel(; grid,\n",
    "                coriolis = FPlane(f = f),\n",
    "                buoyancy = BuoyancyTracer(),\n",
    "                tracers = :b,\n",
    "                advection = WENO(),\n",
    "                forcing = (; u = (background_flow),\n",
    "                             v = (background_flow , v_forcing) , \n",
    "                             w = (background_flow , w_forcing),\n",
    "                             b = (background_flow, b_forcing))\n",
    "                #boundary_conditions = (; b=buoyancy_bcs, velocity_bcs)\n",
    "                )\n",
    "=#\n",
    "\n",
    "\n"
   ]
  },
  {
   "cell_type": "markdown",
   "id": "28524149",
   "metadata": {},
   "source": [
    "## Initial Conditions"
   ]
  },
  {
   "cell_type": "code",
   "execution_count": 61,
   "id": "25cc6e69",
   "metadata": {},
   "outputs": [],
   "source": [
    "#inital setup\n",
    "\n",
    "Δb = L_front * M²       # buoyancy jump across front\n",
    "ϵb = 1e-2 * Δb     # noise amplitude - note changed from 1e-2 to 1e-6\n",
    "\n",
    "ramp(x, L_front) = min(max(0, x/L_front + 1/2), 1)\n",
    "bᵢ(x, z) = N² * z + Δb * tanh(x/L_front)    #* ramp(x, L_front) # + ϵb * randn()\n",
    "\n",
    "set!(model, b=bᵢ, u = 0, v = 0, w = 0)  # Start from rest\n"
   ]
  },
  {
   "cell_type": "code",
   "execution_count": 62,
   "id": "5b5a0820",
   "metadata": {},
   "outputs": [
    {
     "data": {
      "text/plain": [
       "-2.2499992500003e-5"
      ]
     },
     "execution_count": 62,
     "metadata": {},
     "output_type": "execute_result"
    }
   ],
   "source": [
    "bᵢ(-10, 0)"
   ]
  },
  {
   "cell_type": "markdown",
   "id": "02f80eaf",
   "metadata": {},
   "source": [
    "## Define Simulation"
   ]
  },
  {
   "cell_type": "code",
   "execution_count": 63,
   "id": "b684c2bb",
   "metadata": {},
   "outputs": [
    {
     "data": {
      "text/plain": [
       "Simulation of NonhydrostaticModel{CPU, RectilinearGrid}(time = 0 seconds, iteration = 0)\n",
       "├── Next time step: 20 minutes\n",
       "├── Elapsed wall time: 0 seconds\n",
       "├── Wall time per iteration: NaN days\n",
       "├── Stop time: 10 days\n",
       "├── Stop iteration: Inf\n",
       "├── Wall time limit: Inf\n",
       "├── Minimum relative step: 0.0\n",
       "├── Callbacks: OrderedDict with 4 entries:\n",
       "│   ├── stop_time_exceeded => 4\n",
       "│   ├── stop_iteration_exceeded => -\n",
       "│   ├── wall_time_limit_exceeded => e\n",
       "│   └── nan_checker => }\n",
       "├── Output writers: OrderedDict with no entries\n",
       "└── Diagnostics: OrderedDict with no entries"
      ]
     },
     "execution_count": 63,
     "metadata": {},
     "output_type": "execute_result"
    }
   ],
   "source": [
    "simulation = Simulation(model, Δt=20minutes, stop_time=10days)"
   ]
  },
  {
   "cell_type": "code",
   "execution_count": 64,
   "id": "0f45de7a",
   "metadata": {},
   "outputs": [],
   "source": [
    "conjure_time_step_wizard!(simulation, IterationInterval(20), cfl=0.2, max_Δt=20minutes)"
   ]
  },
  {
   "cell_type": "code",
   "execution_count": 65,
   "id": "79e94aa2",
   "metadata": {},
   "outputs": [],
   "source": [
    "using Printf\n",
    "\n",
    "wall_clock = Ref(time_ns())\n",
    "\n",
    "function print_progress(sim)\n",
    "    u, v, w = model.velocities\n",
    "    progress = 100 * (time(sim) / sim.stop_time)\n",
    "    elapsed = (time_ns() - wall_clock[]) / 1e9\n",
    "\n",
    "    @printf(\"[%05.2f%%] i: %d, t: %s, wall time: %s, max(u): (%6.3e, %6.3e, %6.3e) m/s, next Δt: %s\\n\",\n",
    "            progress, iteration(sim), prettytime(sim), prettytime(elapsed),\n",
    "            maximum(abs, u), maximum(abs, v), maximum(abs, w), prettytime(sim.Δt))\n",
    "\n",
    "    wall_clock[] = time_ns()\n",
    "\n",
    "    return nothing\n",
    "end\n",
    "\n",
    "add_callback!(simulation, print_progress, IterationInterval(100))"
   ]
  },
  {
   "cell_type": "markdown",
   "id": "30ce626c",
   "metadata": {},
   "source": [
    "## Diagnostic/Output"
   ]
  },
  {
   "cell_type": "code",
   "execution_count": 66,
   "id": "52ffaa52",
   "metadata": {},
   "outputs": [
    {
     "data": {
      "text/plain": [
       "NetCDFWriter scheduled on TimeInterval(10 minutes):\n",
       "├── filepath: used_tanh2.nc\n",
       "├── dimensions: time(0), x_faa(241), x_caa(240), z_aaf(41), z_aac(40)\n",
       "├── 5 outputs: (v, w, b, u, ζ)\n",
       "└── array type: Array{Float32}\n",
       "├── file_splitting: NoFileSplitting\n",
       "└── file size: 25.9 KiB"
      ]
     },
     "execution_count": 66,
     "metadata": {},
     "output_type": "execute_result"
    }
   ],
   "source": [
    "# Output setup\n",
    "u, v, w = model.velocities\n",
    "ζ = ∂z(u) - ∂x(w)  # Vorticity in x-z plane\n",
    "b = model.tracers.b\n",
    "\n",
    "#=\n",
    "#For Julia animation\n",
    "simulation.output_writers[:fields] = JLD2Writer(\n",
    "    model, (; b, ζ , u, v, w),\n",
    "    filename=filename * \".jld2\",\n",
    "    schedule=TimeInterval(0.5day),\n",
    "    overwrite_existing=true\n",
    "    )\n",
    "=#\n",
    "\n",
    "\n",
    "#For python viusalisation\n",
    "simulation.output_writers[:fields] = NetCDFWriter(\n",
    "    model, (; b, ζ , u, v, w), filename=filename * \".nc\", schedule=TimeInterval(10minutes), overwrite_existing=true)\n"
   ]
  },
  {
   "cell_type": "markdown",
   "id": "52051e0c",
   "metadata": {},
   "source": [
    "## Run Simulation"
   ]
  },
  {
   "cell_type": "code",
   "execution_count": null,
   "id": "8f409ac6",
   "metadata": {},
   "outputs": [
    {
     "name": "stderr",
     "output_type": "stream",
     "text": [
      "\u001b[36m\u001b[1m[ \u001b[22m\u001b[39m\u001b[36m\u001b[1mInfo: \u001b[22m\u001b[39mRunning the simulation...\n",
      "\u001b[36m\u001b[1m[ \u001b[22m\u001b[39m\u001b[36m\u001b[1mInfo: \u001b[22m\u001b[39mInitializing simulation...\n"
     ]
    },
    {
     "name": "stdout",
     "output_type": "stream",
     "text": [
      "[00.00%] i: 0, t: 0 seconds, wall time: 12.884 seconds, max(u): (0.000e+00, 0.000e+00, 0.000e+00) m/s, next Δt: 20 minutes\n"
     ]
    },
    {
     "name": "stderr",
     "output_type": "stream",
     "text": [
      "\u001b[36m\u001b[1m[ \u001b[22m\u001b[39m\u001b[36m\u001b[1mInfo: \u001b[22m\u001b[39m    ... simulation initialization complete (11.212 seconds)\n",
      "\u001b[36m\u001b[1m[ \u001b[22m\u001b[39m\u001b[36m\u001b[1mInfo: \u001b[22m\u001b[39mExecuting initial time step...\n"
     ]
    }
   ],
   "source": [
    "@info \"Running the simulation...\"\n",
    "\n",
    "run!(simulation)\n",
    "\n",
    "@info \"Simulation completed in \" * prettytime(simulation.run_wall_time)"
   ]
  },
  {
   "cell_type": "markdown",
   "id": "e5049e04",
   "metadata": {},
   "source": [
    "## Oceananigans Animation\n",
    "(Won't work if you comment out julia animation field writer )"
   ]
  },
  {
   "cell_type": "code",
   "execution_count": null,
   "id": "1b048cf6",
   "metadata": {},
   "outputs": [
    {
     "ename": "LoadError",
     "evalue": "BoundsError: attempt to access 0-element Vector{String} at index [1]",
     "output_type": "error",
     "traceback": [
      "BoundsError: attempt to access 0-element Vector{String} at index [1]",
      "",
      "Stacktrace:",
      " [1] \u001b[0m\u001b[1mthrow_boundserror\u001b[22m\u001b[0m\u001b[1m(\u001b[22m\u001b[90mA\u001b[39m::\u001b[0mVector\u001b[90m{String}\u001b[39m, \u001b[90mI\u001b[39m::\u001b[0mTuple\u001b[90m{Int64}\u001b[39m\u001b[0m\u001b[1m)\u001b[22m",
      "\u001b[90m   @\u001b[39m \u001b[90mBase\u001b[39m \u001b[90m.\\\u001b[39m\u001b[90m\u001b[4messentials.jl:14\u001b[24m\u001b[39m",
      " [2] \u001b[0m\u001b[1mgetindex\u001b[22m",
      "\u001b[90m   @\u001b[39m \u001b[90m.\\\u001b[39m\u001b[90m\u001b[4messentials.jl:916\u001b[24m\u001b[39m\u001b[90m [inlined]\u001b[39m",
      " [3] \u001b[0m\u001b[1mfirst\u001b[22m",
      "\u001b[90m   @\u001b[39m \u001b[90m.\\\u001b[39m\u001b[90m\u001b[4mabstractarray.jl:452\u001b[24m\u001b[39m\u001b[90m [inlined]\u001b[39m",
      " [4] \u001b[0m\u001b[1mFieldTimeSeries\u001b[22m\u001b[0m\u001b[1m(\u001b[22m\u001b[90mpath\u001b[39m::\u001b[0mString, \u001b[90mname\u001b[39m::\u001b[0mString; \u001b[90mbackend\u001b[39m::\u001b[0mInMemory\u001b[90m{Nothing}\u001b[39m, \u001b[90marchitecture\u001b[39m::\u001b[0mNothing, \u001b[90mgrid\u001b[39m::\u001b[0mNothing, \u001b[90mlocation\u001b[39m::\u001b[0mNothing, \u001b[90mboundary_conditions\u001b[39m::\u001b[0mOceananigans.OutputReaders.UnspecifiedBoundaryConditions, \u001b[90mtime_indexing\u001b[39m::\u001b[0mOceananigans.OutputReaders.Linear, \u001b[90miterations\u001b[39m::\u001b[0mNothing, \u001b[90mtimes\u001b[39m::\u001b[0mNothing, \u001b[90mreader_kw\u001b[39m::\u001b[0m@NamedTuple\u001b[90m{}\u001b[39m\u001b[0m\u001b[1m)\u001b[22m",
      "\u001b[90m   @\u001b[39m \u001b[35mOceananigans.OutputReaders\u001b[39m \u001b[90mC:\\Users\\Tom Cummings\\.julia\\packages\\Oceananigans\\3ZIHr\\src\\OutputReaders\\\u001b[39m\u001b[90m\u001b[4mfield_time_series.jl:497\u001b[24m\u001b[39m",
      " [5] \u001b[0m\u001b[1mFieldTimeSeries\u001b[22m\u001b[0m\u001b[1m(\u001b[22m\u001b[90mpath\u001b[39m::\u001b[0mString, \u001b[90mname\u001b[39m::\u001b[0mString\u001b[0m\u001b[1m)\u001b[22m",
      "\u001b[90m   @\u001b[39m \u001b[35mOceananigans.OutputReaders\u001b[39m \u001b[90mC:\\Users\\Tom Cummings\\.julia\\packages\\Oceananigans\\3ZIHr\\src\\OutputReaders\\\u001b[39m\u001b[90m\u001b[4mfield_time_series.jl:478\u001b[24m\u001b[39m",
      " [6] top-level scope",
      "\u001b[90m   @\u001b[39m \u001b[90m\u001b[4mIn[50]:2\u001b[24m\u001b[39m"
     ]
    }
   ],
   "source": [
    "# Visualization\n",
    "b_ts = FieldTimeSeries(filename * \".jld2\", \"b\")\n",
    "ζ_ts = FieldTimeSeries(filename * \".jld2\", \"ζ\")\n",
    "\n",
    "u_ts = FieldTimeSeries(filename * \".jld2\", \"u\")\n",
    "v_ts = FieldTimeSeries(filename * \".jld2\", \"v\")\n",
    "w_ts = FieldTimeSeries(filename * \".jld2\", \"w\")\n",
    "\n",
    "times = b_ts.times\n"
   ]
  },
  {
   "cell_type": "code",
   "execution_count": null,
   "id": "f2a8c54c",
   "metadata": {},
   "outputs": [],
   "source": [
    "# Coordinates\n",
    "x = xnodes(grid, Center())# ./ 1e2  # km\n",
    "z = znodes(grid, Center())# ./ 1e2  # km"
   ]
  },
  {
   "cell_type": "code",
   "execution_count": null,
   "id": "b4e264bc",
   "metadata": {},
   "outputs": [],
   "source": [
    "#using CairoMakie\n",
    "fig = Figure(size=(1800, 1000))"
   ]
  },
  {
   "cell_type": "code",
   "execution_count": null,
   "id": "37905ab1",
   "metadata": {},
   "outputs": [],
   "source": [
    "# Animation setup\n",
    "n = Observable(1)\n",
    "b_slice = @lift interior(b_ts[$n], :, 1, :)\n",
    "ζ_slice = @lift interior(ζ_ts[$n], :, 1, :)\n",
    "\n",
    "u_slice = @lift interior(u_ts[$n], :, 1, :)\n",
    "v_slice = @lift interior(v_ts[$n], :, 1, :)\n",
    "w_slice = @lift interior(w_ts[$n], :, 1, :)\n",
    "\n",
    "title_text = @lift \"Day $(round(times[$n]/day, digits=1))\""
   ]
  },
  {
   "cell_type": "code",
   "execution_count": null,
   "id": "72cb5c52",
   "metadata": {},
   "outputs": [],
   "source": [
    "\n",
    "\n",
    "# Animations of Buoyancy and Vorticity\n",
    "empty!(fig)\n",
    "\n",
    "# Buoyancy plot\n",
    "ax_b = Axis(fig[1, 1], title=\"Buoyancy\", xlabel=\"y [m]\", ylabel=\"z [m]\")\n",
    "hm_b = heatmap!(ax_b, x, z, b_slice, colorrange=(0, Δb), colormap=:thermal)\n",
    "Colorbar(fig[1, 2], hm_b, label=\"Buoyancy [m s⁻²]\")\n",
    "#(ax_b, x, z, b_slice ; levels=10, color=:black, linewidth=0.5)\n",
    "\n",
    "\n",
    "# Vorticity plot\n",
    "ax_ζ = Axis(fig[1, 3], title=\"Vorticity\", xlabel=\"y [m]\")\n",
    "hm_ζ = heatmap!(ax_ζ, x, z, ζ_slice, colorrange=(-3e-3, 3e-3), colormap=:balance)\n",
    "Colorbar(fig[1, 4], hm_ζ, label=\"Vorticity [s⁻¹]\")\n",
    "contour!(ax_ζ, x, z, b_slice ; levels=10, color=:black, linewidth=0.5)\n",
    "\n",
    "Label(fig[0, :], title_text, fontsize=24)\n",
    "\n",
    "# Create animation\n",
    "frames = 1:length(times)\n",
    "record(fig, filename * \"_julia_animation.mp4\", frames, framerate=8) do i\n",
    "    n[] = i\n",
    "end\n",
    "\n",
    "fig  # Display final frame \n",
    "\n",
    "\n",
    "     \n",
    "\n"
   ]
  },
  {
   "cell_type": "code",
   "execution_count": null,
   "id": "30eb6ab5",
   "metadata": {},
   "outputs": [],
   "source": [
    "#=\n",
    "\n",
    "#animation of U only\n",
    "\n",
    "\n",
    "empty!(fig)\n",
    "\n",
    "ax_u = Axis(fig[1, 1], title=\"U\", xlabel=\"y [m]\", ylabel=\"z [m]\")\n",
    "hm = heatmap!(ax_u, x, z, u_slice; colorrange=(-5e-5, 5e-5), colormap=:balance)\n",
    "Colorbar(fig[1, 2], hm_b, label=\"V [m s⁻1]\")\n",
    "contour!(ax_u, x, z, b_slice, levels=10, color=:black, linewidth=0.5)\n",
    "\n",
    "\n",
    "# Create animation\n",
    "frames = 1:length(times)\n",
    "record(fig, filename * \"_animation_velocities.mp4\", frames, framerate=8) do i\n",
    "    n[] = i\n",
    "end\n",
    "\n",
    "fig  # Display final frame\n",
    "\n",
    "=#"
   ]
  },
  {
   "cell_type": "code",
   "execution_count": null,
   "id": "528c4663",
   "metadata": {},
   "outputs": [],
   "source": [
    "#animation of W only\n",
    "\n",
    "#=\n",
    "\n",
    "empty!(fig)\n",
    "\n",
    "ax_w = Axis(fig[1, 1], title=\"W\", xlabel=\"y [m]\", ylabel=\"z [m]\")\n",
    "hm = heatmap!(ax_w, x, z, w_slice; colorrange=(-5e-5, 5e-5), colormap=:balance)\n",
    "Colorbar(fig[1, 2], hm_b, label=\"W [m s⁻1]\")\n",
    "#contour!(ax_u, x, z, b_slice, levels=10, color=:black, linewidth=0.5)\n",
    "\n",
    "\n",
    "# Create animation\n",
    "frames = 1:length(times)\n",
    "record(fig, filename * \"_animation_velocities.mp4\", frames, framerate=8) do i\n",
    "    n[] = i\n",
    "end\n",
    "\n",
    "fig  # Display final frame\n",
    "\n",
    "=#"
   ]
  }
 ],
 "metadata": {
  "kernelspec": {
   "display_name": "Julia 1.11.5",
   "language": "julia",
   "name": "julia-1.11"
  },
  "language_info": {
   "file_extension": ".jl",
   "mimetype": "application/julia",
   "name": "julia",
   "version": "1.11.5"
  }
 },
 "nbformat": 4,
 "nbformat_minor": 5
}
