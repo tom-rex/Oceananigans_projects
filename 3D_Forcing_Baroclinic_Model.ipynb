{
 "cells": [
  {
   "cell_type": "code",
   "execution_count": 4,
   "id": "f64782fc",
   "metadata": {},
   "outputs": [
    {
     "name": "stderr",
     "output_type": "stream",
     "text": [
      "\u001b[32m\u001b[1m   Resolving\u001b[22m\u001b[39m package versions...\n",
      "\u001b[32m\u001b[1m  No Changes\u001b[22m\u001b[39m to `C:\\Users\\Tom Cummings\\.julia\\environments\\v1.11\\Project.toml`\n",
      "\u001b[32m\u001b[1m  No Changes\u001b[22m\u001b[39m to `C:\\Users\\Tom Cummings\\.julia\\environments\\v1.11\\Manifest.toml`\n"
     ]
    }
   ],
   "source": [
    "using Pkg\n",
    "Pkg.add(\"Oceananigans\")\n",
    "\n",
    "using Oceananigans\n",
    "using Oceananigans.Units"
   ]
  },
  {
   "cell_type": "code",
   "execution_count": 5,
   "id": "2f4156f7",
   "metadata": {},
   "outputs": [
    {
     "data": {
      "text/plain": [
       "48×48×8 RectilinearGrid{Float64, Periodic, Bounded, Bounded} on CPU with 3×3×3 halo\n",
       "├── Periodic x ∈ [0.0, 1.0e6)          regularly spaced with Δx=20833.3\n",
       "├── Bounded  y ∈ [-500000.0, 500000.0] regularly spaced with Δy=20833.3\n",
       "└── Bounded  z ∈ [-1000.0, 0.0]        regularly spaced with Δz=125.0"
      ]
     },
     "metadata": {},
     "output_type": "display_data"
    }
   ],
   "source": [
    "Lx = 1000kilometers # east-west extent [m]\n",
    "Ly = 1000kilometers # north-south extent [m]\n",
    "Lz = 1kilometers    # depth [m]\n",
    "\n",
    "grid = RectilinearGrid(size = (48, 48, 8),\n",
    "                       x = (0, Lx),\n",
    "                       y = (-Ly/2, Ly/2),\n",
    "                       z = (-Lz, 0),\n",
    "                       topology = (Periodic, Bounded, Bounded))"
   ]
  },
  {
   "cell_type": "code",
   "execution_count": 8,
   "id": "67816e2f",
   "metadata": {},
   "outputs": [
    {
     "data": {
      "text/plain": [
       "NonhydrostaticModel{CPU, RectilinearGrid}(time = 0 seconds, iteration = 0)\n",
       "├── grid: 48×48×8 RectilinearGrid{Float64, Periodic, Bounded, Bounded} on CPU with 3×3×3 halo\n",
       "├── timestepper: RungeKutta3TimeStepper\n",
       "├── advection scheme: WENO(order=5)\n",
       "├── tracers: b\n",
       "├── closure: Nothing\n",
       "├── buoyancy: BuoyancyTracer with ĝ = NegativeZDirection()\n",
       "└── coriolis: BetaPlane{Float64}(f₀=-0.000103126, β=1.61868e-11)"
      ]
     },
     "metadata": {},
     "output_type": "display_data"
    }
   ],
   "source": [
    "\n",
    "\n",
    "\n",
    "α = 0\n",
    "\n",
    "# Background deformation flow\n",
    "Ū(x, y, z, t) = -α * x\n",
    "V̄(x, y, z, t) = α*y  # No y-dependence in 2D\n",
    "\n",
    "model = NonhydrostaticModel(\n",
    "    grid = grid,\n",
    "    coriolis = BetaPlane(latitude = -45),\n",
    "    buoyancy = BuoyancyTracer(),\n",
    "    tracers = :b,\n",
    "    background_fields = (u=Ū, v=V̄),  # Adds deformation flow\n",
    "    advection = WENO(),              # High-order advection for fronts\n",
    "    #closure = ScalarDiffusivity(ν=1e-5, κ=1e-5),\n",
    "    )"
   ]
  },
  {
   "cell_type": "code",
   "execution_count": null,
   "id": "b0ca2859",
   "metadata": {},
   "outputs": [],
   "source": [
    "\"\"\"\n",
    "    ramp(y, Δy)\n",
    "\n",
    "Linear ramp from 0 to 1 between -Δy/2 and +Δy/2.\n",
    "\n",
    "For example:\n",
    "```\n",
    "            y < -Δy/2 => ramp = 0\n",
    "    -Δy/2 < y < -Δy/2 => ramp = y / Δy\n",
    "            y >  Δy/2 => ramp = 1\n",
    "```\n",
    "\"\"\"\n",
    "ramp(y, Δy) = min(max(0, y/Δy + 1/2), 1)\n",
    "\n",
    "N² = 1e-5 # [s⁻²] buoyancy frequency / stratification\n",
    "M² = 1e-7 # [s⁻²] horizontal buoyancy gradient\n",
    "\n",
    "Δy = 100kilometers # width of the region of the front\n",
    "Δb = Δy * M²       # buoyancy jump associated with the front\n",
    "ϵb = 1e-2 * Δb     # noise amplitude\n",
    "\n",
    "bᵢ(x, y, z) = N² * z + Δb * ramp(y, Δy) + ϵb * randn()\n",
    "\n",
    "set!(model, b=bᵢ)"
   ]
  },
  {
   "cell_type": "code",
   "execution_count": null,
   "id": "2ed535b0",
   "metadata": {},
   "outputs": [],
   "source": [
    "# Forcing terms (if not using background_fields)\n",
    "u_forcing(x, y, z, t, u, v, w, b) = α * u + coriolis.f₀ * v\n",
    "v_forcing(x, y, z, t, u, v, w, b) = -α * v - coriolis.f₀ * u"
   ]
  }
 ],
 "metadata": {
  "kernelspec": {
   "display_name": "Julia 1.11.5",
   "language": "julia",
   "name": "julia-1.11"
  },
  "language_info": {
   "file_extension": ".jl",
   "mimetype": "application/julia",
   "name": "julia",
   "version": "1.11.5"
  }
 },
 "nbformat": 4,
 "nbformat_minor": 5
}
