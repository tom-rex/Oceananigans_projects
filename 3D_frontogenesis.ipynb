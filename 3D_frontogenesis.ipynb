{
 "cells": [
  {
   "cell_type": "code",
   "execution_count": 1,
   "id": "f64782fc",
   "metadata": {},
   "outputs": [
    {
     "name": "stderr",
     "output_type": "stream",
     "text": [
      "\u001b[33m\u001b[1m┌ \u001b[22m\u001b[39m\u001b[33m\u001b[1mWarning: \u001b[22m\u001b[39mYou are using Julia v1.11 or later!\"\n",
      "\u001b[33m\u001b[1m│ \u001b[22m\u001b[39mOceananigans is currently tested on Julia v1.10.\"\n",
      "\u001b[33m\u001b[1m│ \u001b[22m\u001b[39mIf you find issues with Julia v1.11 or later,\"\n",
      "\u001b[33m\u001b[1m│ \u001b[22m\u001b[39mplease report at https://github.com/CliMA/Oceananigans.jl/issues/new\n",
      "\u001b[33m\u001b[1m└ \u001b[22m\u001b[39m\u001b[90m@ Oceananigans C:\\Users\\Tom Cummings\\.julia\\packages\\Oceananigans\\TXJRi\\src\\Oceananigans.jl:124\u001b[39m\n"
     ]
    }
   ],
   "source": [
    "using Oceananigans\n",
    "using Oceananigans.Units"
   ]
  },
  {
   "cell_type": "code",
   "execution_count": 2,
   "id": "2f4156f7",
   "metadata": {},
   "outputs": [
    {
     "data": {
      "text/plain": [
       "48×48×8 RectilinearGrid{Float64, Periodic, Bounded, Bounded} on CPU with 3×3×3 halo\n",
       "├── Periodic x ∈ [0.0, 1.0e6)          regularly spaced with Δx=20833.3\n",
       "├── Bounded  y ∈ [-500000.0, 500000.0] regularly spaced with Δy=20833.3\n",
       "└── Bounded  z ∈ [-1000.0, 0.0]        regularly spaced with Δz=125.0"
      ]
     },
     "execution_count": 2,
     "metadata": {},
     "output_type": "execute_result"
    }
   ],
   "source": [
    "Lx = 1000kilometers # east-west extent [m]\n",
    "Ly = 1000kilometers # north-south extent [m]\n",
    "Lz = 1kilometers    # depth [m]\n",
    "\n",
    "grid = RectilinearGrid(size = (48, 48, 8),\n",
    "                       x = (0, Lx),\n",
    "                       y = (-Ly/2, Ly/2),\n",
    "                       z = (-Lz, 0),\n",
    "                       topology = (Periodic, Bounded, Bounded))"
   ]
  },
  {
   "cell_type": "code",
   "execution_count": null,
   "id": "67816e2f",
   "metadata": {},
   "outputs": [
    {
     "ename": "LoadError",
     "evalue": "UndefVarError: `HydrostaticModel` not defined in `Main`\nSuggestion: check for spelling errors or missing imports.",
     "output_type": "error",
     "traceback": [
      "UndefVarError: `HydrostaticModel` not defined in `Main`\nSuggestion: check for spelling errors or missing imports.",
      "",
      "Stacktrace:",
      " [1] top-level scope",
      "\u001b[90m   @\u001b[39m \u001b[90m\u001b[4mIn[3]:12\u001b[24m\u001b[39m"
     ]
    }
   ],
   "source": [
    "\n",
    "\n",
    "coriolis = BetaPlane(latitude = -45, f₀ = 1e-4)\n",
    "\n",
    "\n",
    "α = 0\n",
    "\n",
    "# Background deformation flow\n",
    "Ū(x, y, z, t) = -α * x\n",
    "V̄(x, y, z, t) = α*y  # No y-dependence in 2D\n",
    "\n",
    "model = NonhydrostaticModel(\n",
    "    grid = grid,\n",
    "    coriolis = coriolis,\n",
    "    buoyancy = BuoyancyTracer(),\n",
    "    tracers = :b,\n",
    "    background_fields = (u=Ū, v=V̄),  # Adds deformation flow\n",
    "    advection = WENO(),              # High-order advection for fronts\n",
    "    #closure = ScalarDiffusivity(ν=1e-5, κ=1e-5),\n",
    "    )"
   ]
  },
  {
   "cell_type": "code",
   "execution_count": null,
   "id": "b0ca2859",
   "metadata": {},
   "outputs": [],
   "source": [
    "\"\"\"\n",
    "    ramp(y, Δy)\n",
    "\n",
    "Linear ramp from 0 to 1 between -Δy/2 and +Δy/2.\n",
    "\n",
    "For example:\n",
    "```\n",
    "            y < -Δy/2 => ramp = 0\n",
    "    -Δy/2 < y < -Δy/2 => ramp = y / Δy\n",
    "            y >  Δy/2 => ramp = 1\n",
    "```\n",
    "\"\"\"\n",
    "ramp(y, Δy) = min(max(0, y/Δy + 1/2), 1)\n",
    "\n",
    "N² = 1e-5 # [s⁻²] buoyancy frequency / stratification\n",
    "M² = 1e-7 # [s⁻²] horizontal buoyancy gradient\n",
    "\n",
    "Δy = 100kilometers # width of the region of the front\n",
    "Δb = Δy * M²       # buoyancy jump associated with the front\n",
    "ϵb = 1e-2 * Δb     # noise amplitude\n",
    "\n",
    "bᵢ(x, y, z) = N² * z + Δb * ramp(y, Δy) + ϵb * randn()\n",
    "\n",
    "set!(model, b=bᵢ)"
   ]
  },
  {
   "cell_type": "code",
   "execution_count": null,
   "id": "2ed535b0",
   "metadata": {},
   "outputs": [],
   "source": [
    "# Forcing terms (if not using background_fields)\n",
    "#u_forcing(x, y, z, t, u, v, w, b) = α * u + coriolis.f₀ * v\n",
    "#v_forcing(x, y, z, t, u, v, w, b) = -α * v - coriolis.f₀ * u"
   ]
  },
  {
   "cell_type": "code",
   "execution_count": null,
   "id": "4e3ee86c",
   "metadata": {},
   "outputs": [
    {
     "data": {
      "text/plain": [
       "Simulation of NonhydrostaticModel{CPU, RectilinearGrid}(time = 0 seconds, iteration = 0)\n",
       "├── Next time step: 20 minutes\n",
       "├── Elapsed wall time: 0 seconds\n",
       "├── Wall time per iteration: NaN days\n",
       "├── Stop time: 20 days\n",
       "├── Stop iteration: Inf\n",
       "├── Wall time limit: Inf\n",
       "├── Minimum relative step: 0.0\n",
       "├── Callbacks: OrderedDict with 4 entries:\n",
       "│   ├── stop_time_exceeded => Callback of stop_time_exceeded on IterationInterval(1)\n",
       "│   ├── stop_iteration_exceeded => Callback of stop_iteration_exceeded on IterationInterval(1)\n",
       "│   ├── wall_time_limit_exceeded => Callback of wall_time_limit_exceeded on IterationInterval(1)\n",
       "│   └── nan_checker => Callback of NaNChecker for u on IterationInterval(100)\n",
       "├── Output writers: OrderedDict with no entries\n",
       "└── Diagnostics: OrderedDict with no entries"
      ]
     },
     "execution_count": 6,
     "metadata": {},
     "output_type": "execute_result"
    }
   ],
   "source": [
    "simulation = Simulation(model, Δt=20minutes, stop_time=20days)"
   ]
  },
  {
   "cell_type": "code",
   "execution_count": null,
   "id": "3fdab854",
   "metadata": {},
   "outputs": [],
   "source": [
    "conjure_time_step_wizard!(simulation, IterationInterval(20), cfl=0.2, max_Δt=20minutes)"
   ]
  },
  {
   "cell_type": "code",
   "execution_count": null,
   "id": "166eee24",
   "metadata": {},
   "outputs": [],
   "source": [
    "using Printf\n",
    "\n",
    "wall_clock = Ref(time_ns())\n",
    "\n",
    "function print_progress(sim)\n",
    "    u, v, w = model.velocities\n",
    "    progress = 100 * (time(sim) / sim.stop_time)\n",
    "    elapsed = (time_ns() - wall_clock[]) / 1e9\n",
    "\n",
    "    @printf(\"[%05.2f%%] i: %d, t: %s, wall time: %s, max(u): (%6.3e, %6.3e, %6.3e) m/s, next Δt: %s\\n\",\n",
    "            progress, iteration(sim), prettytime(sim), prettytime(elapsed),\n",
    "            maximum(abs, u), maximum(abs, v), maximum(abs, w), prettytime(sim.Δt))\n",
    "\n",
    "    wall_clock[] = time_ns()\n",
    "\n",
    "    return nothing\n",
    "end\n",
    "\n",
    "add_callback!(simulation, print_progress, IterationInterval(100))"
   ]
  },
  {
   "cell_type": "markdown",
   "id": "8da38bf0",
   "metadata": {},
   "source": [
    "Diagnostics/Output"
   ]
  },
  {
   "cell_type": "code",
   "execution_count": null,
   "id": "74d5ce08",
   "metadata": {},
   "outputs": [
    {
     "data": {
      "text/plain": [
       "JLD2Writer scheduled on TimeInterval(12 hours):\n",
       "├── filepath: frontogenesis_zonal_average.jld2\n",
       "├── 3 outputs: (b, u, v)\n",
       "├── array type: Array{Float32}\n",
       "├── including: [:grid, :coriolis, :buoyancy, :closure]\n",
       "├── file_splitting: NoFileSplitting\n",
       "└── file size: 32.5 KiB"
      ]
     },
     "execution_count": 10,
     "metadata": {},
     "output_type": "execute_result"
    }
   ],
   "source": [
    "b = model.tracers.b\n",
    "u, v, w = model.velocities\n",
    "ζ = ∂x(v) - ∂y(u)\n",
    "B = Average(b, dims=1)\n",
    "U = Average(u, dims=1)\n",
    "V = Average(v, dims=1)\n",
    "\n",
    "filename = \"frontogenesis\"\n",
    "save_fields_interval = 0.5day\n",
    "\n",
    "slicers = (east = (grid.Nx, :, :),\n",
    "           north = (:, grid.Ny, :),\n",
    "           bottom = (:, :, 1),\n",
    "           top = (:, :, grid.Nz))\n",
    "\n",
    "for side in keys(slicers)\n",
    "    indices = slicers[side]\n",
    "\n",
    "    simulation.output_writers[side] = JLD2Writer(model, (; b, ζ);\n",
    "                                                 filename = filename * \"_$(side)_slice\",\n",
    "                                                 schedule = TimeInterval(save_fields_interval),\n",
    "                                                 overwrite_existing = true,\n",
    "                                                 indices)\n",
    "end\n",
    "\n",
    "simulation.output_writers[:zonal] = JLD2Writer(model, (; b=B, u=U, v=V);\n",
    "                                               filename = filename * \"_zonal_average\",\n",
    "                                               schedule = TimeInterval(save_fields_interval),\n",
    "                                               overwrite_existing = true)"
   ]
  },
  {
   "cell_type": "code",
   "execution_count": null,
   "id": "410ecaca",
   "metadata": {},
   "outputs": [
    {
     "name": "stderr",
     "output_type": "stream",
     "text": [
      "\u001b[36m\u001b[1m[ \u001b[22m\u001b[39m\u001b[36m\u001b[1mInfo: \u001b[22m\u001b[39mRunning the simulation...\n",
      "\u001b[36m\u001b[1m[ \u001b[22m\u001b[39m\u001b[36m\u001b[1mInfo: \u001b[22m\u001b[39mInitializing simulation...\n"
     ]
    },
    {
     "name": "stdout",
     "output_type": "stream",
     "text": [
      "[00.00%] i: 0, t: 0 seconds, wall time: 1.574 minutes, max(u): (0.000e+00, 0.000e+00, 0.000e+00) m/s, next Δt: 20 minutes\n"
     ]
    },
    {
     "name": "stderr",
     "output_type": "stream",
     "text": [
      "\u001b[36m\u001b[1m[ \u001b[22m\u001b[39m\u001b[36m\u001b[1mInfo: \u001b[22m\u001b[39m    ... simulation initialization complete (36.488 seconds)\n",
      "\u001b[36m\u001b[1m[ \u001b[22m\u001b[39m\u001b[36m\u001b[1mInfo: \u001b[22m\u001b[39mExecuting initial time step...\n",
      "\u001b[36m\u001b[1m[ \u001b[22m\u001b[39m\u001b[36m\u001b[1mInfo: \u001b[22m\u001b[39m    ... initial time step complete (9.763 seconds).\n"
     ]
    }
   ],
   "source": [
    "@info \"Running the simulation...\"\n",
    "\n",
    "run!(simulation)\n",
    "\n",
    "@info \"Simulation completed in \" * prettytime(simulation.run_wall_time)"
   ]
  },
  {
   "cell_type": "markdown",
   "id": "dad5cd84",
   "metadata": {},
   "source": [
    "Visualization"
   ]
  },
  {
   "cell_type": "code",
   "execution_count": null,
   "id": "acc0fb97",
   "metadata": {},
   "outputs": [],
   "source": [
    "using CairoMakie\n",
    "\n",
    "# Load data\n",
    "b_xz = FieldTimeSeries(filename * \"_xz_slice.jld2\", \"b\")\n",
    "ζ_xy = FieldTimeSeries(filename * \"_xy_slice.jld2\", \"ζ\")\n",
    "\n",
    "# Plot final state\n",
    "n = length(b_xz.times)\n",
    "\n",
    "fig = Figure(size=(1200, 600))\n",
    "\n",
    "ax1 = Axis(fig[1, 1], title=\"Buoyancy (xz slice)\", xlabel=\"x (km)\", ylabel=\"z (m)\")\n",
    "ax2 = Axis(fig[1, 2], title=\"Vorticity (surface)\", xlabel=\"x (km)\", ylabel=\"y (km)\")\n",
    "\n",
    "heatmap!(ax1, xnodes(b_xz)/1e3, znodes(b_xz), interior(b_xz[n], :, 1, :)')\n",
    "heatmap!(ax2, xnodes(ζ_xy)/1e3, ynodes(ζ_xy), interior(ζ_xy[n], :, :, 1)')\n",
    "\n",
    "Colorbar(fig[1, 3], heatmap!(ax1, ...), label=\"Buoyancy (m/s²)\")\n",
    "Colorbar(fig[1, 4], heatmap!(ax2, ...), label=\"Vorticity (s⁻¹)\")\n",
    "\n",
    "save(\"frontogenesis_final_state.png\", fig)"
   ]
  }
 ],
 "metadata": {
  "kernelspec": {
   "display_name": "Julia 1.11.5",
   "language": "julia",
   "name": "julia-1.11"
  },
  "language_info": {
   "file_extension": ".jl",
   "mimetype": "application/julia",
   "name": "julia",
   "version": "1.11.5"
  }
 },
 "nbformat": 4,
 "nbformat_minor": 5
}
