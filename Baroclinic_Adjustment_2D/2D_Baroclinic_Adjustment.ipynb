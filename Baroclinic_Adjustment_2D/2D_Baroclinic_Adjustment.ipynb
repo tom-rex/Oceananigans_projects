{
 "cells": [
  {
   "cell_type": "code",
   "execution_count": null,
   "id": "2a49bf40",
   "metadata": {},
   "outputs": [],
   "source": [
    "using Oceananigans\n",
    "using Oceananigans.Units\n",
    "using Oceananigans.OutputReaders: FieldTimeSeries"
   ]
  },
  {
   "cell_type": "code",
   "execution_count": null,
   "id": "df7f9b61",
   "metadata": {},
   "outputs": [],
   "source": [
    "Ly = 1000kilometers # north-south extent [m]\n",
    "Lz = 1kilometers    # depth [m]\n",
    "\n",
    "grid = RectilinearGrid(size = (48, 8),\n",
    "                       y = (-Ly/2, Ly/2),\n",
    "                       z = (-Lz, 0),\n",
    "                       topology = (Flat, Bounded, Bounded))"
   ]
  },
  {
   "cell_type": "code",
   "execution_count": null,
   "id": "3371fdbe",
   "metadata": {},
   "outputs": [],
   "source": [
    "model = HydrostaticFreeSurfaceModel(; grid,\n",
    "                                    coriolis = BetaPlane(latitude = -45),\n",
    "                                    buoyancy = BuoyancyTracer(),\n",
    "                                    tracers = :b,\n",
    "                                    momentum_advection = WENO(),\n",
    "                                    tracer_advection = WENO())"
   ]
  },
  {
   "cell_type": "code",
   "execution_count": null,
   "id": "ba910edf",
   "metadata": {},
   "outputs": [],
   "source": [
    "\"\"\"\n",
    "    ramp(y, Δy)\n",
    "\n",
    "Linear ramp from 0 to 1 between -Δy/2 and +Δy/2.\n",
    "\n",
    "For example:\n",
    "```\n",
    "            y < -Δy/2 => ramp = 0\n",
    "    -Δy/2 < y < -Δy/2 => ramp = y / Δy\n",
    "            y >  Δy/2 => ramp = 1\n",
    "```\n",
    "\"\"\"\n",
    "ramp(y, Δy) = min(max(0, y/Δy + 1/2), 1)\n",
    "\n",
    "N² = 1e-5 # [s⁻²] buoyancy frequency / stratification\n",
    "M² = 1e-7 # [s⁻²] horizontal buoyancy gradient\n",
    "\n",
    "Δy = 100kilometers # width of the region of the front\n",
    "Δb = Δy * M²       # buoyancy jump associated with the front\n",
    "ϵb = 1e-2 * Δb     # noise amplitude\n",
    "\n",
    "bᵢ(y, z) = N² * z + Δb * ramp(y, Δy) + ϵb * randn()\n",
    "\n",
    "set!(model, b=bᵢ)"
   ]
  },
  {
   "cell_type": "code",
   "execution_count": null,
   "id": "da0b483d",
   "metadata": {},
   "outputs": [],
   "source": [
    "simulation = Simulation(model, Δt=20minutes, stop_time=30days)"
   ]
  },
  {
   "cell_type": "code",
   "execution_count": null,
   "id": "72073322",
   "metadata": {},
   "outputs": [],
   "source": [
    "conjure_time_step_wizard!(simulation, IterationInterval(20), cfl=0.2, max_Δt=20minutes)"
   ]
  },
  {
   "cell_type": "code",
   "execution_count": null,
   "id": "37fe385e",
   "metadata": {},
   "outputs": [],
   "source": [
    "using Printf\n",
    "\n",
    "wall_clock = Ref(time_ns())\n",
    "\n",
    "function print_progress(sim)\n",
    "    u, v, w = model.velocities\n",
    "    progress = 100 * (time(sim) / sim.stop_time)\n",
    "    elapsed = (time_ns() - wall_clock[]) / 1e9\n",
    "\n",
    "    @printf(\"[%05.2f%%] i: %d, t: %s, wall time: %s, max(u): (%6.3e, %6.3e, %6.3e) m/s, next Δt: %s\\n\",\n",
    "            progress, iteration(sim), prettytime(sim), prettytime(elapsed),\n",
    "            maximum(abs, u), maximum(abs, v), maximum(abs, w), prettytime(sim.Δt))\n",
    "\n",
    "    wall_clock[] = time_ns()\n",
    "\n",
    "    return nothing\n",
    "end\n",
    "\n",
    "add_callback!(simulation, print_progress, IterationInterval(100))"
   ]
  },
  {
   "cell_type": "markdown",
   "id": "7f5d1c97",
   "metadata": {},
   "source": [
    "Diagnostics/Output"
   ]
  },
  {
   "cell_type": "code",
   "execution_count": null,
   "id": "5f10ac3a",
   "metadata": {},
   "outputs": [],
   "source": [
    "# Output setup\n",
    "filename = \"baroclinic_2D_yz.v2\"\n",
    "u, v, w = model.velocities\n",
    "ζ = ∂z(v) - ∂y(w)  # Vorticity in y-z plane\n",
    "b = model.tracers.b\n",
    "\n",
    "simulation.output_writers[:fields] = JLD2Writer(\n",
    "    model, (; b, ζ, u, v, w),\n",
    "    filename=filename * \".jld2\",\n",
    "    schedule=TimeInterval(0.5day),\n",
    "    overwrite_existing=true\n",
    ")"
   ]
  },
  {
   "cell_type": "code",
   "execution_count": null,
   "id": "9b73cc92",
   "metadata": {},
   "outputs": [],
   "source": [
    "@info \"Running the simulation...\"\n",
    "\n",
    "run!(simulation)\n",
    "\n",
    "@info \"Simulation completed in \" * prettytime(simulation.run_wall_time)"
   ]
  },
  {
   "cell_type": "markdown",
   "id": "90757324",
   "metadata": {},
   "source": [
    "visualization"
   ]
  },
  {
   "cell_type": "code",
   "execution_count": null,
   "id": "846c00e5",
   "metadata": {},
   "outputs": [],
   "source": [
    "# Visualization\n",
    "b_ts = FieldTimeSeries(filename * \".jld2\", \"b\")\n",
    "ζ_ts = FieldTimeSeries(filename * \".jld2\", \"ζ\")\n",
    "\n",
    "u_ts = FieldTimeSeries(filename * \".jld2\", \"u\")\n",
    "v_ts = FieldTimeSeries(filename * \".jld2\", \"v\")\n",
    "w_ts = FieldTimeSeries(filename * \".jld2\", \"w\")\n",
    "\n",
    "times = b_ts.times"
   ]
  },
  {
   "cell_type": "code",
   "execution_count": null,
   "id": "0d1604c6",
   "metadata": {},
   "outputs": [],
   "source": [
    "# Coordinates\n",
    "y = ynodes(grid, Center())# ./ 1e3  # km\n",
    "z = znodes(grid, Center())# ./ 1e3  # km"
   ]
  },
  {
   "cell_type": "code",
   "execution_count": null,
   "id": "222f201f",
   "metadata": {},
   "outputs": [],
   "source": [
    "using CairoMakie\n",
    "fig = Figure(size=(1800, 1000))"
   ]
  },
  {
   "cell_type": "code",
   "execution_count": null,
   "id": "0a4e1be8",
   "metadata": {},
   "outputs": [],
   "source": [
    "# Animation setup\n",
    "n = Observable(1)\n",
    "b_slice = @lift interior(b_ts[$n], 1, :, :)\n",
    "ζ_slice = @lift interior(ζ_ts[$n], 1, :, :)\n",
    "\n",
    "u_slice = @lift interior(u_ts[$n], 1, :, :)\n",
    "v_slice = @lift interior(v_ts[$n], 1, :, :)\n",
    "w_slice = @lift interior(w_ts[$n], 1, :, :)\n",
    "\n",
    "title_text = @lift \"Day $(round(times[$n]/day, digits=1))\""
   ]
  },
  {
   "cell_type": "code",
   "execution_count": null,
   "id": "f6e80d23",
   "metadata": {},
   "outputs": [],
   "source": [
    "# Animations of Buoyancy and Vorticity\n",
    "\n",
    "\n",
    "\n",
    "empty!(fig)\n",
    "\n",
    "# Buoyancy plot\n",
    "ax_b = Axis(fig[1, 1], title=\"Buoyancy\", xlabel=\"y [m]\", ylabel=\"z [m]\")\n",
    "hm_b = heatmap!(ax_b, y, z, b_slice, colorrange=(0, Δb), colormap=:thermal)\n",
    "contour!(ax_b, y, z, b_slice, levels=10, color=:black, linewidth=0.5)\n",
    "Colorbar(fig[1, 2], hm_b, label=\"Buoyancy [m s⁻²]\")\n",
    "\n",
    "# Vorticity plot\n",
    "ax_ζ = Axis(fig[1, 3], title=\"Vorticity\", xlabel=\"y [m]\")\n",
    "hm_ζ = heatmap!(ax_ζ, y, z, ζ_slice, colorrange=(-3e-3, 3e-3), colormap=:balance)\n",
    "contour!(ax_ζ, y, z, b_slice, levels=10, color=:black, linewidth=0.5)  # Overlay buoyancy contours\n",
    "Colorbar(fig[1, 4], hm_ζ, label=\"Vorticity [s⁻¹]\")\n",
    "\n",
    "Label(fig[0, :], title_text, fontsize=24)\n",
    "\n",
    "# Create animation\n",
    "frames = 1:length(times)\n",
    "record(fig, filename * \"_animation.mp4\", frames, framerate=8) do i\n",
    "    n[] = i\n",
    "end\n",
    "\n",
    "fig  # Display final frame"
   ]
  },
  {
   "cell_type": "code",
   "execution_count": null,
   "id": "7f1acdee",
   "metadata": {},
   "outputs": [],
   "source": [
    "#animations of of V and W commented out\n",
    "\n",
    "#=\n",
    "\n",
    "# y velocity (v)\n",
    "\n",
    "empty!(fig)\n",
    "\n",
    "ax_v = Axis(fig[1, 1], title=\"V\", xlabel=\"y [m]\", ylabel=\"z [m]\")\n",
    "hm = heatmap!(ax_v, y, z, v_slice; colorrange=(-1e-1, 1e-1), colormap=:balance)\n",
    "Colorbar(fig[1, 2], hm_b, label=\"V [m s⁻1]\")\n",
    "contour!(ax_v, y, z, b_slice, levels=10, color=:black, linewidth=0.5)\n",
    "\n",
    "# z velocity (w)\n",
    "ax_w = Axis(fig[1, 3], title=\"W\", xlabel=\"y [m]\")\n",
    "hm_w = heatmap!(ax_w, y, z, w_slice, colorrange=(-2e-2, 2e-2), colormap=:balance)\n",
    "contour!(ax_w, y, z, b_slice, levels=10, color=:black, linewidth=0.5)  # Overlay buoyancy contours\n",
    "Colorbar(fig[1, 4], hm_w, label=\"W [ms⁻¹]\")\n",
    "\n",
    "Label(fig[0, :], title_text, fontsize=24)\n",
    "\n",
    "# Create animation\n",
    "frames = 1:length(times)\n",
    "record(fig, filename * \"_animation_velocities.mp4\", frames, framerate=8) do i\n",
    "    n[] = i\n",
    "end\n",
    "\n",
    "fig  # Display final frame \n",
    "\n",
    "=#"
   ]
  },
  {
   "cell_type": "code",
   "execution_count": null,
   "id": "c7fb59ca",
   "metadata": {},
   "outputs": [],
   "source": [
    "#animation of V only\n",
    "\n",
    "empty!(fig)\n",
    "\n",
    "ax_v = Axis(fig[1, 1], title=\"V\", xlabel=\"y [m]\", ylabel=\"z [m]\")\n",
    "hm = heatmap!(ax_v, y, z, v_slice; colorrange=(-1e-1, 1e-1), colormap=:balance)\n",
    "Colorbar(fig[1, 2], hm_b, label=\"V [m s⁻1]\")\n",
    "contour!(ax_v, y, z, b_slice, levels=10, color=:black, linewidth=0.5)\n",
    "\n",
    "\n",
    "# Create animation\n",
    "frames = 1:length(times)\n",
    "record(fig, filename * \"_animation_velocities.mp4\", frames, framerate=8) do i\n",
    "    n[] = i\n",
    "end\n",
    "\n",
    "fig  # Display final frame"
   ]
  },
  {
   "cell_type": "code",
   "execution_count": null,
   "id": "dcf3e3a7",
   "metadata": {},
   "outputs": [],
   "source": [
    "#animation of U only\n",
    "\n",
    "empty!(fig)\n",
    "\n",
    "ax_u = Axis(fig[1, 1], title=\"U\", xlabel=\"y [m]\", ylabel=\"z [m]\")\n",
    "hm = heatmap!(ax_u, y, z, u_slice; colorrange=(-1e-1, 1e-1), colormap=:balance)\n",
    "Colorbar(fig[1, 2], hm_b, label=\"V [m s⁻1]\")\n",
    "contour!(ax_u, y, z, b_slice, levels=10, color=:black, linewidth=0.5)\n",
    "\n",
    "\n",
    "# Create animation\n",
    "frames = 1:length(times)\n",
    "record(fig, filename * \"_animation_velocities.mp4\", frames, framerate=8) do i\n",
    "    n[] = i\n",
    "end\n",
    "\n",
    "fig  # Display final frame"
   ]
  }
 ],
 "metadata": {
  "kernelspec": {
   "display_name": "Julia 1.11.5",
   "language": "julia",
   "name": "julia-1.11"
  },
  "language_info": {
   "file_extension": ".jl",
   "mimetype": "application/julia",
   "name": "julia",
   "version": "1.11.5"
  }
 },
 "nbformat": 4,
 "nbformat_minor": 5
}
