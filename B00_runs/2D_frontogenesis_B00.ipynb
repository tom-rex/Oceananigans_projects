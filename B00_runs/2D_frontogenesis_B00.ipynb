{
 "cells": [
  {
   "cell_type": "markdown",
   "id": "fca0f06a",
   "metadata": {},
   "source": [
    "## Import Packages"
   ]
  },
  {
   "cell_type": "code",
   "execution_count": 1,
   "id": "69d38429",
   "metadata": {},
   "outputs": [
    {
     "name": "stderr",
     "output_type": "stream",
     "text": [
      "\u001b[32m\u001b[1m  Activating\u001b[22m\u001b[39m new project at `c:\\Users\\Tom Cummings\\Documents\\Oceananigans_projects\\B00_runs`\n",
      "\u001b[33m\u001b[1m┌ \u001b[22m\u001b[39m\u001b[33m\u001b[1mWarning: \u001b[22m\u001b[39mYou are using Julia v1.11 or later!\"\n",
      "\u001b[33m\u001b[1m│ \u001b[22m\u001b[39mOceananigans is currently tested on Julia v1.10.\"\n",
      "\u001b[33m\u001b[1m│ \u001b[22m\u001b[39mIf you find issues with Julia v1.11 or later,\"\n",
      "\u001b[33m\u001b[1m│ \u001b[22m\u001b[39mplease report at https://github.com/CliMA/Oceananigans.jl/issues/new\n",
      "\u001b[33m\u001b[1m└ \u001b[22m\u001b[39m\u001b[90m@ Oceananigans C:\\Users\\Tom Cummings\\.julia\\packages\\Oceananigans\\3ZIHr\\src\\Oceananigans.jl:124\u001b[39m\n"
     ]
    }
   ],
   "source": [
    "using Pkg\n",
    "Pkg.activate(\".\")\n",
    "using Oceananigans #use v.1.10\n",
    "using Oceananigans.Units\n",
    "using Oceananigans.OutputReaders: FieldTimeSeries\n",
    "using Oceananigans.BoundaryConditions\n",
    "using Oceananigans.TurbulenceClosures\n",
    "using Oceananigans.Architectures: GPU\n",
    "#using CUDA: CuArray\n",
    "using CairoMakie \n",
    "using NCDatasets"
   ]
  },
  {
   "cell_type": "markdown",
   "id": "2af19b7d",
   "metadata": {},
   "source": [
    "## Define Model Parameters"
   ]
  },
  {
   "cell_type": "code",
   "execution_count": 2,
   "id": "fe03e7e0",
   "metadata": {},
   "outputs": [
    {
     "name": "stdout",
     "output_type": "stream",
     "text": [
      "Filename: frontogenesis_scaled_aspect_ratio\n",
      "\n",
      "Derived parameters:\n",
      "H = 0.1 km\n",
      "α = 0.0 s⁻¹\n",
      "M² = 2.5e-6 s⁻²\n",
      "N² = 0.0 s⁻²\n",
      "Bu = 0.0\n",
      "κh = 5.0e-5\n",
      "κv = 0.0\n"
     ]
    }
   ],
   "source": [
    "# Model parameters\n",
    "const Nx = 500\n",
    "const Nz = 160\n",
    "const f = 1e-4               # Coriolis frequency [s⁻¹]\n",
    "const L_front = 100kilometers  # Initial front width [m]\n",
    "const aspect_ratio = 1000      # L/H\n",
    "const δ = 0                   # Strain ratio (α/f)\n",
    "const Ro = 1/2               # Rossby number (defines M^2)\n",
    "const F = Inf              # Froude number (N² = M²/(F²H))\n",
    "const Re_h = 1e10     # horizontal reynolds number\n",
    "const Re_v = +Inf              #vertical reynolds number\n",
    "const n = 2              #diffusivity number     \n",
    "\n",
    "const sponge_width = 8kilometers\n",
    "const damping_rate = f\n",
    "\n",
    "# Derived parameters\n",
    "H_front = L_front/aspect_ratio\n",
    "α = f*δ\n",
    "M² = (Ro^2*f^2*L_front)/H_front\n",
    "N² = (M²*L_front)/(F^2*H_front)\n",
    "Bu = Ro/F\n",
    "Δb = M²*L_front\n",
    "κh = (sqrt(Δb*H_front)*L_front^(n-1))/Re_h\n",
    "κv = κh*(Re_h/Re_v)*(H_front/L_front)^n\n",
    "\n",
    "\n",
    "\n",
    "\n",
    "filename = \"δ=\"*string(δ)*\"_Ro=\"*string(Ro)*\"_F=\"*string(F)*\"_Re_h=\"*string(Re_h)\n",
    "filename = \"frontogenesis_scaled_aspect_ratio\"\n",
    "\n",
    "println(\"Filename: \", filename)\n",
    "println(\"\\nDerived parameters:\")\n",
    "println(\"H = \", H_front/1000, \" km\")\n",
    "println(\"α = \", α, \" s⁻¹\")\n",
    "println(\"M² = \", M², \" s⁻²\")\n",
    "println(\"N² = \", N², \" s⁻²\")\n",
    "println(\"Bu = \", Bu)\n",
    "println(\"κh = \", κh)\n",
    "println(\"κv = \", κv)"
   ]
  },
  {
   "cell_type": "markdown",
   "id": "b6d671c4",
   "metadata": {},
   "source": [
    "## Define Model Domain"
   ]
  },
  {
   "cell_type": "code",
   "execution_count": 3,
   "id": "ccdcc582",
   "metadata": {},
   "outputs": [
    {
     "data": {
      "text/plain": [
       "500×1×160 RectilinearGrid{Float64, Periodic, Flat, Bounded} on CPU with 3×0×3 halo\n",
       "├── Periodic x ∈ [-50000.0, 50000.0) regularly spaced with Δx=200.0\n",
       "├── Flat y                           \n",
       "└── Bounded  z ∈ [-100.0, 0.0]       regularly spaced with Δz=0.625"
      ]
     },
     "execution_count": 3,
     "metadata": {},
     "output_type": "execute_result"
    }
   ],
   "source": [
    "\n",
    "Lz = H_front\n",
    "\n",
    "grid = RectilinearGrid(size = (Nx, Nz), #in ST15 they use Nx = 200*L_front, Nz = 100*H_front\n",
    "                       x = (-L_front/2, L_front/2),\n",
    "                       z = (-Lz, 0),\n",
    "                       topology = (Periodic, Flat, Bounded))"
   ]
  },
  {
   "cell_type": "markdown",
   "id": "deda4e1b",
   "metadata": {},
   "source": [
    "## Forcing Terms"
   ]
  },
  {
   "cell_type": "code",
   "execution_count": 4,
   "id": "1c213943",
   "metadata": {},
   "outputs": [
    {
     "data": {
      "text/plain": [
       "ContinuousForcing{Float64}\n",
       "├── func: b_forcing_func (generic function with 1 method)\n",
       "├── parameters: 0.0\n",
       "└── field dependencies: (:b,)"
      ]
     },
     "execution_count": 4,
     "metadata": {},
     "output_type": "execute_result"
    }
   ],
   "source": [
    "# advective forcing term \n",
    "u_background = XFaceField(grid)\n",
    "u_background .= - α * xnodes(grid, Face(), Center(), Center())\n",
    "background_flow = AdvectiveForcing(u = u_background)\n",
    "\n",
    "# no addtional u forcing\n",
    "\n",
    "# v forcing\n",
    "v_forcing_func(x, z, t, v, α) = - 2*α*v\n",
    "v_forcing = Forcing(v_forcing_func, parameters = α, field_dependencies = :v )\n",
    "\n",
    "# w forcing\n",
    "w_forcing_func(x, z, t, w, α) = - α*w\n",
    "w_forcing = Forcing(w_forcing_func, parameters = α, field_dependencies = :w )\n",
    "\n",
    "# b forcing\n",
    "b_forcing_func(x, z, t, α, b ) = - α*b\n",
    "b_forcing = Forcing(b_forcing_func, parameters = α, field_dependencies= :b )\n",
    "\n"
   ]
  },
  {
   "cell_type": "markdown",
   "id": "39d4a9d9",
   "metadata": {},
   "source": [
    "## Sponge Layer"
   ]
  },
  {
   "cell_type": "code",
   "execution_count": 5,
   "id": "47ab07fc",
   "metadata": {},
   "outputs": [
    {
     "data": {
      "text/plain": [
       "Relaxation{Float64, typeof(right_mask), typeof(target_buoyancy_right)}\n",
       "├── rate: 0.0001\n",
       "├── mask: right_mask (generic function with 1 method)\n",
       "└── target: target_buoyancy_right (generic function with 1 method)"
      ]
     },
     "execution_count": 5,
     "metadata": {},
     "output_type": "execute_result"
    }
   ],
   "source": [
    "Δb = L_front * M²\n",
    "\n",
    "target_buoyancy_left(x,z,t) = z*N²\n",
    "target_buoyancy_right(x,z,t) = z*N² + Δb\n",
    "    \n",
    "\n",
    "\n",
    "\n",
    "\n",
    "left_mask_3D   = GaussianMask{:x}(center=-grid.Lx/2, width = sponge_width)\n",
    "left_mask(x,z) = left_mask_3D(x,0,z)\n",
    "uvw_sponge_left = Relaxation(rate=damping_rate, mask=left_mask)\n",
    "b_sponge_left = Relaxation(rate=damping_rate, mask=left_mask, target = target_buoyancy_left) \n",
    "\n",
    "right_mask_3D  = GaussianMask{:x}(center=grid.Lx/2,width = sponge_width)\n",
    "right_mask(x,z) = right_mask_3D(x,0,z)\n",
    "uvw_sponge_right = Relaxation(rate=damping_rate, mask=right_mask)\n",
    "b_sponge_right = Relaxation(rate=damping_rate, mask=right_mask, target = target_buoyancy_right ) \n",
    "\n"
   ]
  },
  {
   "cell_type": "markdown",
   "id": "9332cc1d",
   "metadata": {},
   "source": [
    "## Boundary Conditions"
   ]
  },
  {
   "cell_type": "code",
   "execution_count": 6,
   "id": "b32874ef",
   "metadata": {},
   "outputs": [
    {
     "data": {
      "text/plain": [
       "(u = Oceananigans.FieldBoundaryConditions, with boundary conditions\n",
       "├── west: DefaultBoundaryCondition (FluxBoundaryCondition: Nothing)\n",
       "├── east: DefaultBoundaryCondition (FluxBoundaryCondition: Nothing)\n",
       "├── south: DefaultBoundaryCondition (FluxBoundaryCondition: Nothing)\n",
       "├── north: DefaultBoundaryCondition (FluxBoundaryCondition: Nothing)\n",
       "├── bottom: GradientBoundaryCondition: 0.0\n",
       "├── top: GradientBoundaryCondition: 0.0\n",
       "└── immersed: DefaultBoundaryCondition (FluxBoundaryCondition: Nothing), v = Oceananigans.FieldBoundaryConditions, with boundary conditions\n",
       "├── west: DefaultBoundaryCondition (FluxBoundaryCondition: Nothing)\n",
       "├── east: DefaultBoundaryCondition (FluxBoundaryCondition: Nothing)\n",
       "├── south: DefaultBoundaryCondition (FluxBoundaryCondition: Nothing)\n",
       "├── north: DefaultBoundaryCondition (FluxBoundaryCondition: Nothing)\n",
       "├── bottom: GradientBoundaryCondition: 0.0\n",
       "├── top: GradientBoundaryCondition: 0.0\n",
       "└── immersed: DefaultBoundaryCondition (FluxBoundaryCondition: Nothing), w = Oceananigans.FieldBoundaryConditions, with boundary conditions\n",
       "├── west: DefaultBoundaryCondition (FluxBoundaryCondition: Nothing)\n",
       "├── east: DefaultBoundaryCondition (FluxBoundaryCondition: Nothing)\n",
       "├── south: DefaultBoundaryCondition (FluxBoundaryCondition: Nothing)\n",
       "├── north: DefaultBoundaryCondition (FluxBoundaryCondition: Nothing)\n",
       "├── bottom: ValueBoundaryCondition: 0.0\n",
       "├── top: ValueBoundaryCondition: 0.0\n",
       "└── immersed: DefaultBoundaryCondition (FluxBoundaryCondition: Nothing))"
      ]
     },
     "execution_count": 6,
     "metadata": {},
     "output_type": "execute_result"
    }
   ],
   "source": [
    "\n",
    "using Oceananigans.BoundaryConditions\n",
    "\n",
    "# Free-slip for u and v (∂u/∂z = ∂v/∂z = 0)\n",
    "free_slip = FieldBoundaryConditions(\n",
    "    top = GradientBoundaryCondition(0.0),\n",
    "    bottom = GradientBoundaryCondition(0.0)\n",
    ")\n",
    "\n",
    "# No vertical flow (w = 0 at top/bottom)\n",
    "no_penetration = FieldBoundaryConditions(\n",
    "    top = ValueBoundaryCondition(0.0),\n",
    "    bottom = ValueBoundaryCondition(0.0)\n",
    ")\n",
    "\n",
    "velocity_bcs = (\n",
    "    u = free_slip,\n",
    "    v = free_slip,\n",
    "    w = no_penetration\n",
    ")"
   ]
  },
  {
   "cell_type": "markdown",
   "id": "c011d783",
   "metadata": {},
   "source": [
    "## Buoyancy BC's"
   ]
  },
  {
   "cell_type": "code",
   "execution_count": 7,
   "id": "025324b5",
   "metadata": {},
   "outputs": [
    {
     "data": {
      "text/plain": [
       "Oceananigans.FieldBoundaryConditions, with boundary conditions\n",
       "├── west: DefaultBoundaryCondition (FluxBoundaryCondition: Nothing)\n",
       "├── east: DefaultBoundaryCondition (FluxBoundaryCondition: Nothing)\n",
       "├── south: DefaultBoundaryCondition (FluxBoundaryCondition: Nothing)\n",
       "├── north: DefaultBoundaryCondition (FluxBoundaryCondition: Nothing)\n",
       "├── bottom: GradientBoundaryCondition: 0.0\n",
       "├── top: GradientBoundaryCondition: 0.0\n",
       "└── immersed: DefaultBoundaryCondition (FluxBoundaryCondition: Nothing)"
      ]
     },
     "execution_count": 7,
     "metadata": {},
     "output_type": "execute_result"
    }
   ],
   "source": [
    "\n",
    "∂b∂z_top = N²\n",
    "∂b∂z_bottom = N²\n",
    "\n",
    "buoyancy_bcs = FieldBoundaryConditions(\n",
    "    top = GradientBoundaryCondition(∂b∂z_top),\n",
    "    bottom = GradientBoundaryCondition(∂b∂z_bottom)\n",
    ")\n",
    "    "
   ]
  },
  {
   "cell_type": "markdown",
   "id": "a0c7b213",
   "metadata": {},
   "source": [
    "## Closure"
   ]
  },
  {
   "cell_type": "code",
   "execution_count": 8,
   "id": "a7dfcfa3",
   "metadata": {},
   "outputs": [
    {
     "data": {
      "text/plain": [
       "(HorizontalScalarDiffusivity{ExplicitTimeDiscretization}(ν=5.0e-5, κ=5.0e-5), VerticalScalarDiffusivity{ExplicitTimeDiscretization}(ν=0.0, κ=0.0))"
      ]
     },
     "execution_count": 8,
     "metadata": {},
     "output_type": "execute_result"
    }
   ],
   "source": [
    "horizontal_closure = HorizontalScalarDiffusivity(ν=κh, κ=κh )\n",
    "vertical_closure = VerticalScalarDiffusivity(ν=κv , κ=κv )\n",
    "closure = (horizontal_closure, vertical_closure)"
   ]
  },
  {
   "cell_type": "markdown",
   "id": "600e2dcd",
   "metadata": {},
   "source": [
    "## Defining the Model"
   ]
  },
  {
   "cell_type": "code",
   "execution_count": 9,
   "id": "b39df122",
   "metadata": {},
   "outputs": [
    {
     "data": {
      "text/plain": [
       "NonhydrostaticModel{CPU, RectilinearGrid}(time = 0 seconds, iteration = 0)\n",
       "├── grid: 500×1×160 RectilinearGrid{Float64, Periodic, Flat, Bounded} on CPU with 3×0×3 halo\n",
       "├── timestepper: RungeKutta3TimeStepper\n",
       "├── advection scheme: WENO{3, Float64, Float32}(order=5)\n",
       "├── tracers: b\n",
       "├── closure: Nothing\n",
       "├── buoyancy: BuoyancyTracer with ĝ = NegativeZDirection()\n",
       "└── coriolis: FPlane{Float64}(f=0.0001)"
      ]
     },
     "execution_count": 9,
     "metadata": {},
     "output_type": "execute_result"
    }
   ],
   "source": [
    "#with sponge\n",
    "\n",
    "#=\n",
    "model = NonhydrostaticModel(; grid,\n",
    "                coriolis = FPlane(f = f),\n",
    "                buoyancy = BuoyancyTracer(),\n",
    "                tracers = :b,\n",
    "                advection = WENO(),\n",
    "                forcing = (; u = (background_flow, uvw_sponge_left, uvw_sponge_right),\n",
    "                             v = (background_flow , v_forcing, uvw_sponge_left, uvw_sponge_right) , \n",
    "                             w = (background_flow , w_forcing, uvw_sponge_left, uvw_sponge_right),\n",
    "                             b = (background_flow, b_forcing, b_sponge_left, b_sponge_right)),\n",
    "                boundary_conditions = (; b=buoyancy_bcs, velocity_bcs),\n",
    "                closure = closure\n",
    "\n",
    "                )\n",
    "=#\n",
    "\n",
    "#without sponge \n",
    "\n",
    "#=\n",
    "model = NonhydrostaticModel(; grid,\n",
    "                coriolis = FPlane(f = f),\n",
    "                buoyancy = BuoyancyTracer(),\n",
    "                tracers = :b,\n",
    "                advection = WENO()\n",
    "                forcing = (; u = (background_flow), v = (background_flow , v_forcing) , w = (background_flow , w_forcing), b = (background_flow, b_forcing))\n",
    "                #boundary_conditions = (; b=buoyancy_bcs, velocity_bcs)\n",
    "                )\n",
    "=#\n",
    "\n",
    "#without forcing\n",
    "model =  NonhydrostaticModel(; grid,\n",
    "                coriolis = FPlane(f = f),\n",
    "                buoyancy = BuoyancyTracer(),\n",
    "                tracers = :b,\n",
    "                advection = WENO(),\n",
    "                #forcing = (; u = (background_flow), v = (background_flow , v_forcing) , w = (background_flow , w_forcing), b = (background_flow, b_forcing))\n",
    "                #boundary_conditions = (; b=buoyancy_bcs, velocity_bcs)\n",
    ")\n",
    "\n",
    "\n"
   ]
  },
  {
   "cell_type": "markdown",
   "id": "3b9e706f",
   "metadata": {},
   "source": [
    "## Initial Conditions"
   ]
  },
  {
   "cell_type": "code",
   "execution_count": 10,
   "id": "c114c5c8",
   "metadata": {},
   "outputs": [],
   "source": [
    "#inital setup\n",
    "\n",
    "Δb = L_front * M²  # buoyancy jump across front  \n",
    "\n",
    "bᵢ(x, z) = Δb*((sin(2*pi/L_front * x) + 1)/2)\n",
    "\n",
    "set!(model, b= bᵢ, u = 0, v = 0, w = 0)  # Start from rest\n"
   ]
  },
  {
   "cell_type": "markdown",
   "id": "a66caea3",
   "metadata": {},
   "source": [
    "## Define Simulation"
   ]
  },
  {
   "cell_type": "code",
   "execution_count": 11,
   "id": "e1ab0196",
   "metadata": {},
   "outputs": [
    {
     "data": {
      "text/plain": [
       "Simulation of NonhydrostaticModel{CPU, RectilinearGrid}(time = 0 seconds, iteration = 0)\n",
       "├── Next time step: 20 minutes\n",
       "├── Elapsed wall time: 0 seconds\n",
       "├── Wall time per iteration: NaN days\n",
       "├── Stop time: 10 days\n",
       "├── Stop iteration: Inf\n",
       "├── Wall time limit: Inf\n",
       "├── Minimum relative step: 0.0\n",
       "├── Callbacks: OrderedDict with 4 entries:\n",
       "│   ├── stop_time_exceeded => 4\n",
       "│   ├── stop_iteration_exceeded => -\n",
       "│   ├── wall_time_limit_exceeded => e\n",
       "│   └── nan_checker => }\n",
       "├── Output writers: OrderedDict with no entries\n",
       "└── Diagnostics: OrderedDict with no entries"
      ]
     },
     "execution_count": 11,
     "metadata": {},
     "output_type": "execute_result"
    }
   ],
   "source": [
    "simulation = Simulation(model, Δt=20minutes, stop_time=10days)"
   ]
  },
  {
   "cell_type": "code",
   "execution_count": 12,
   "id": "0583e9cb",
   "metadata": {},
   "outputs": [],
   "source": [
    "conjure_time_step_wizard!(simulation, IterationInterval(20), cfl=0.2, max_Δt=20minutes)"
   ]
  },
  {
   "cell_type": "code",
   "execution_count": 13,
   "id": "a92a4ad8",
   "metadata": {},
   "outputs": [],
   "source": [
    "using Printf\n",
    "\n",
    "wall_clock = Ref(time_ns())\n",
    "\n",
    "function print_progress(sim)\n",
    "    u, v, w = model.velocities\n",
    "    progress = 100 * (time(sim) / sim.stop_time)\n",
    "    elapsed = (time_ns() - wall_clock[]) / 1e9\n",
    "\n",
    "    @printf(\"[%05.2f%%] i: %d, t: %s, wall time: %s, max(u): (%6.3e, %6.3e, %6.3e) m/s, next Δt: %s\\n\",\n",
    "            progress, iteration(sim), prettytime(sim), prettytime(elapsed),\n",
    "            maximum(abs, u), maximum(abs, v), maximum(abs, w), prettytime(sim.Δt))\n",
    "\n",
    "    wall_clock[] = time_ns()\n",
    "\n",
    "    return nothing\n",
    "end\n",
    "\n",
    "add_callback!(simulation, print_progress, IterationInterval(100))"
   ]
  },
  {
   "cell_type": "markdown",
   "id": "c54f3ea9",
   "metadata": {},
   "source": [
    "## Diagnostic/Output"
   ]
  },
  {
   "cell_type": "code",
   "execution_count": 14,
   "id": "78a9fe7e",
   "metadata": {},
   "outputs": [
    {
     "name": "stderr",
     "output_type": "stream",
     "text": [
      "\u001b[33m\u001b[1m┌ \u001b[22m\u001b[39m\u001b[33m\u001b[1mWarning: \u001b[22m\u001b[39mOverwriting existing c:\\Users\\Tom Cummings\\Documents\\Oceananigans_projects\\B00_runs\\frontogenesis_scaled_aspect_ratio.nc.\n",
      "\u001b[33m\u001b[1m└ \u001b[22m\u001b[39m\u001b[90m@ OceananigansNCDatasetsExt C:\\Users\\Tom Cummings\\.julia\\packages\\Oceananigans\\3ZIHr\\ext\\OceananigansNCDatasetsExt.jl:1027\u001b[39m\n"
     ]
    },
    {
     "data": {
      "text/plain": [
       "NetCDFWriter scheduled on TimeInterval(10 minutes):\n",
       "├── filepath: frontogenesis_scaled_aspect_ratio.nc\n",
       "├── dimensions: time(0), x_faa(500), x_caa(500), z_aaf(161), z_aac(160)\n",
       "├── 7 outputs: (v, w, dbdX, Ri, b, u, M_squared)\n",
       "└── array type: Array{Float32}\n",
       "├── file_splitting: NoFileSplitting\n",
       "└── file size: 34.4 KiB"
      ]
     },
     "execution_count": 14,
     "metadata": {},
     "output_type": "execute_result"
    }
   ],
   "source": [
    "# Output setup\n",
    "g = 9.81\n",
    "u, v, w = model.velocities\n",
    "ζ = ∂z(u) - ∂x(w)  # Vorticity in x-z plane\n",
    "b = model.tracers.b\n",
    "\n",
    "# Compute Ri\n",
    "Ri = N² / (∂z(u)^2 + ∂z(v)^2) \n",
    "M_squared = ∂x(b)\n",
    "\n",
    "#X = x + v/f\n",
    "dbdX = ∂x(b)*(1/(1 + (1/f) * ∂x(v)))\n",
    "\n",
    "\n",
    "\n",
    "\n",
    "#=\n",
    "#For Julia animation\n",
    "simulation.output_writers[:fields] = JLD2Writer(\n",
    "    model, (; b, ζ , u, v, w),\n",
    "    filename=filename * \".jld2\",\n",
    "    schedule=TimeInterval(0.5day),\n",
    "    overwrite_existing=true\n",
    "    )\n",
    "=#\n",
    "#=\n",
    "\n",
    "#For Lagrangian filtering\n",
    "simulation.output_writers[:fields] = JLD2Writer(\n",
    "    model, (; b, u, v, w, Ri, M_squared, dbdX), filename=filename * \".jld2\", schedule=TimeInterval(10minutes), overwrite_existing=true)\n",
    "=#\n",
    "\n",
    "\n",
    "#for python visualisation\n",
    "simulation.output_writers[:fields] = NetCDFWriter(\n",
    "    model, (; b, u, v, w, Ri, M_squared, dbdX), filename=filename * \".nc\", schedule=TimeInterval(10minutes), overwrite_existing=true)"
   ]
  },
  {
   "cell_type": "markdown",
   "id": "be56aeff",
   "metadata": {},
   "source": [
    "## Run Simulation"
   ]
  },
  {
   "cell_type": "code",
   "execution_count": 15,
   "id": "bff58c91",
   "metadata": {},
   "outputs": [
    {
     "name": "stderr",
     "output_type": "stream",
     "text": [
      "\u001b[36m\u001b[1m[ \u001b[22m\u001b[39m\u001b[36m\u001b[1mInfo: \u001b[22m\u001b[39mRunning the simulation...\n",
      "\u001b[36m\u001b[1m[ \u001b[22m\u001b[39m\u001b[36m\u001b[1mInfo: \u001b[22m\u001b[39mInitializing simulation...\n"
     ]
    },
    {
     "name": "stdout",
     "output_type": "stream",
     "text": [
      "[00.00%] i: 0, t: 0 seconds, wall time: 1.343 minutes, max(u): (0.000e+00, 0.000e+00, 0.000e+00) m/s, next Δt: 20 minutes\n"
     ]
    },
    {
     "name": "stderr",
     "output_type": "stream",
     "text": [
      "\u001b[36m\u001b[1m[ \u001b[22m\u001b[39m\u001b[36m\u001b[1mInfo: \u001b[22m\u001b[39m    ... simulation initialization complete (31.058 seconds)\n",
      "\u001b[36m\u001b[1m[ \u001b[22m\u001b[39m\u001b[36m\u001b[1mInfo: \u001b[22m\u001b[39mExecuting initial time step...\n",
      "\u001b[36m\u001b[1m[ \u001b[22m\u001b[39m\u001b[36m\u001b[1mInfo: \u001b[22m\u001b[39m    ... initial time step complete (14.004 seconds).\n"
     ]
    },
    {
     "name": "stdout",
     "output_type": "stream",
     "text": [
      "[00NaN%] i: 100, t: NaN days, wall time: 1.087 minutes, max(u): (   NaN,    NaN,    NaN) m/s, next Δt: NaN days\n"
     ]
    },
    {
     "name": "stderr",
     "output_type": "stream",
     "text": [
      "\u001b[36m\u001b[1m[ \u001b[22m\u001b[39m\u001b[36m\u001b[1mInfo: \u001b[22m\u001b[39mtime = NaN, iteration = 100: NaN found in field u. Stopping simulation.\n",
      "\u001b[36m\u001b[1m[ \u001b[22m\u001b[39m\u001b[36m\u001b[1mInfo: \u001b[22m\u001b[39mSimulation completed in 1.455 minutes\n"
     ]
    }
   ],
   "source": [
    "@info \"Running the simulation...\"\n",
    "\n",
    "run!(simulation)\n",
    "\n",
    "@info \"Simulation completed in \" * prettytime(simulation.run_wall_time)"
   ]
  },
  {
   "cell_type": "code",
   "execution_count": 16,
   "id": "5c6adc4d",
   "metadata": {},
   "outputs": [
    {
     "name": "stdout",
     "output_type": "stream",
     "text": [
      "0.25\n"
     ]
    }
   ],
   "source": [
    "println( Δb)"
   ]
  }
 ],
 "metadata": {
  "kernelspec": {
   "display_name": "Julia 1.11.5",
   "language": "julia",
   "name": "julia-1.11"
  },
  "language_info": {
   "file_extension": ".jl",
   "mimetype": "application/julia",
   "name": "julia",
   "version": "1.11.5"
  }
 },
 "nbformat": 4,
 "nbformat_minor": 5
}
